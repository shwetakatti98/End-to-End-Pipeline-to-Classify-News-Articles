{
 "cells": [
  {
   "cell_type": "code",
   "execution_count": 77,
   "id": "29e01b7e",
   "metadata": {},
   "outputs": [],
   "source": [
    "import pandas as pd\n",
    "import numpy as np\n",
    "import matplotlib.pyplot as plt\n",
    "import nltk\n",
    "import pickle\n",
    "from collections import Counter, defaultdict\n",
    "from nltk.corpus import stopwords\n",
    "from nltk.stem import WordNetLemmatizer\n",
    "from nltk import pos_tag, word_tokenize\n",
    "from sklearn.feature_extraction.text import TfidfVectorizer\n",
    "\n",
    "from sklearn.metrics import confusion_matrix\n",
    "from sklearn.metrics import accuracy_score\n",
    "from sklearn.metrics import recall_score # recall scorer\n",
    "from sklearn.metrics import precision_score # precision scorer\n",
    "from sklearn.metrics import roc_curve # ROC curve\n",
    "from sklearn.metrics import f1_score # f1\n",
    "import itertools\n",
    "\n",
    "\n",
    "# SVM for multi-class classification using one-vs-one\n",
    "from sklearn.datasets import make_classification\n",
    "from sklearn.svm import SVC\n",
    "from sklearn.multiclass import OneVsOneClassifier\n",
    "\n",
    "# logistic regression for multi-class classification using a one-vs-rest\n",
    "from sklearn.datasets import make_classification\n",
    "from sklearn.linear_model import LogisticRegression\n",
    "from sklearn.multiclass import OneVsRestClassifier\n",
    "\n",
    "import os\n",
    "import gensim\n",
    "from gensim.scripts.glove2word2vec import glove2word2vec \n",
    "from gensim.models import KeyedVectors\n",
    "from scipy import spatial"
   ]
  },
  {
   "cell_type": "code",
   "execution_count": 2,
   "id": "dd5dda25",
   "metadata": {},
   "outputs": [],
   "source": [
    "df = pd.read_csv(\"dataset.csv\")"
   ]
  },
  {
   "cell_type": "code",
   "execution_count": 3,
   "id": "f3dbd693",
   "metadata": {},
   "outputs": [
    {
     "name": "stdout",
     "output_type": "stream",
     "text": [
      "Number of data points :  2072\n",
      "Number of features :  9\n"
     ]
    },
    {
     "data": {
      "text/html": [
       "<div>\n",
       "<style scoped>\n",
       "    .dataframe tbody tr th:only-of-type {\n",
       "        vertical-align: middle;\n",
       "    }\n",
       "\n",
       "    .dataframe tbody tr th {\n",
       "        vertical-align: top;\n",
       "    }\n",
       "\n",
       "    .dataframe thead th {\n",
       "        text-align: right;\n",
       "    }\n",
       "</style>\n",
       "<table border=\"1\" class=\"dataframe\">\n",
       "  <thead>\n",
       "    <tr style=\"text-align: right;\">\n",
       "      <th></th>\n",
       "      <th>Unnamed: 0</th>\n",
       "      <th>full_text</th>\n",
       "      <th>summary</th>\n",
       "      <th>keywords</th>\n",
       "      <th>publish_date</th>\n",
       "      <th>authors</th>\n",
       "      <th>url</th>\n",
       "      <th>leaf_label</th>\n",
       "      <th>root_label</th>\n",
       "    </tr>\n",
       "  </thead>\n",
       "  <tbody>\n",
       "    <tr>\n",
       "      <th>0</th>\n",
       "      <td>590</td>\n",
       "      <td>Having made a massive impact in Saudi Arabia w...</td>\n",
       "      <td>Having made a massive impact in Saudi Arabia w...</td>\n",
       "      <td>['singhs', 'rooting', 'cool', 'saudi', 'style'...</td>\n",
       "      <td>NaN</td>\n",
       "      <td>[]</td>\n",
       "      <td>https://www.msn.com/en-in/entertainment/other/...</td>\n",
       "      <td>cricket</td>\n",
       "      <td>sports</td>\n",
       "    </tr>\n",
       "    <tr>\n",
       "      <th>1</th>\n",
       "      <td>388</td>\n",
       "      <td>Cricket is all about the emotional rollercoast...</td>\n",
       "      <td>No matter which team fans hope to win, every s...</td>\n",
       "      <td>['wants', 'fans', 'finals', 'cup', 'win', 'tou...</td>\n",
       "      <td>NaN</td>\n",
       "      <td>[]</td>\n",
       "      <td>https://www.prnewswire.com:443/news-releases/c...</td>\n",
       "      <td>cricket</td>\n",
       "      <td>sports</td>\n",
       "    </tr>\n",
       "    <tr>\n",
       "      <th>2</th>\n",
       "      <td>423</td>\n",
       "      <td>New Zealand announces back-to-back tours next ...</td>\n",
       "      <td>New Zealand announces back-to-back tours next ...</td>\n",
       "      <td>['test', 'west', 'tour', 'zealand', 'world', '...</td>\n",
       "      <td>2021-12-20 00:00:00</td>\n",
       "      <td>[]</td>\n",
       "      <td>https://www.aljazeera.com/news/2021/12/20/cric...</td>\n",
       "      <td>cricket</td>\n",
       "      <td>sports</td>\n",
       "    </tr>\n",
       "    <tr>\n",
       "      <th>3</th>\n",
       "      <td>563</td>\n",
       "      <td>It's not the first time cricket fans in the co...</td>\n",
       "      <td>Billed as one of the pre-tournament favourites...</td>\n",
       "      <td>['qualify', 'afghanistan', 'cup', 'world', 'ze...</td>\n",
       "      <td>NaN</td>\n",
       "      <td>[]</td>\n",
       "      <td>https://www.msn.com/en-in/news/other/t20-world...</td>\n",
       "      <td>cricket</td>\n",
       "      <td>sports</td>\n",
       "    </tr>\n",
       "    <tr>\n",
       "      <th>4</th>\n",
       "      <td>634</td>\n",
       "      <td>An employee works on a computer terminal again...</td>\n",
       "      <td>REUTERS/Sivaram VBENGALURU, Oct 11 (Reuters Br...</td>\n",
       "      <td>['success', 'tech', 'startup', 'talent', 'onli...</td>\n",
       "      <td>2021-10-11 00:00:00</td>\n",
       "      <td>['Una Galani']</td>\n",
       "      <td>https://www.reuters.com/breakingviews/india-in...</td>\n",
       "      <td>cricket</td>\n",
       "      <td>sports</td>\n",
       "    </tr>\n",
       "  </tbody>\n",
       "</table>\n",
       "</div>"
      ],
      "text/plain": [
       "   Unnamed: 0                                          full_text  \\\n",
       "0         590  Having made a massive impact in Saudi Arabia w...   \n",
       "1         388  Cricket is all about the emotional rollercoast...   \n",
       "2         423  New Zealand announces back-to-back tours next ...   \n",
       "3         563  It's not the first time cricket fans in the co...   \n",
       "4         634  An employee works on a computer terminal again...   \n",
       "\n",
       "                                             summary  \\\n",
       "0  Having made a massive impact in Saudi Arabia w...   \n",
       "1  No matter which team fans hope to win, every s...   \n",
       "2  New Zealand announces back-to-back tours next ...   \n",
       "3  Billed as one of the pre-tournament favourites...   \n",
       "4  REUTERS/Sivaram VBENGALURU, Oct 11 (Reuters Br...   \n",
       "\n",
       "                                            keywords         publish_date  \\\n",
       "0  ['singhs', 'rooting', 'cool', 'saudi', 'style'...                  NaN   \n",
       "1  ['wants', 'fans', 'finals', 'cup', 'win', 'tou...                  NaN   \n",
       "2  ['test', 'west', 'tour', 'zealand', 'world', '...  2021-12-20 00:00:00   \n",
       "3  ['qualify', 'afghanistan', 'cup', 'world', 'ze...                  NaN   \n",
       "4  ['success', 'tech', 'startup', 'talent', 'onli...  2021-10-11 00:00:00   \n",
       "\n",
       "          authors                                                url  \\\n",
       "0              []  https://www.msn.com/en-in/entertainment/other/...   \n",
       "1              []  https://www.prnewswire.com:443/news-releases/c...   \n",
       "2              []  https://www.aljazeera.com/news/2021/12/20/cric...   \n",
       "3              []  https://www.msn.com/en-in/news/other/t20-world...   \n",
       "4  ['Una Galani']  https://www.reuters.com/breakingviews/india-in...   \n",
       "\n",
       "  leaf_label root_label  \n",
       "0    cricket     sports  \n",
       "1    cricket     sports  \n",
       "2    cricket     sports  \n",
       "3    cricket     sports  \n",
       "4    cricket     sports  "
      ]
     },
     "execution_count": 3,
     "metadata": {},
     "output_type": "execute_result"
    }
   ],
   "source": [
    "print('Number of data points : ', df.shape[0])\n",
    "print('Number of features : ', df.shape[1])\n",
    "df.head()"
   ]
  },
  {
   "cell_type": "code",
   "execution_count": 4,
   "id": "55197edc",
   "metadata": {},
   "outputs": [],
   "source": [
    "from sklearn.model_selection import train_test_split\n",
    "train, test = train_test_split(df[[\"full_text\",\"root_label\",\"leaf_label\"]], test_size=0.2)"
   ]
  },
  {
   "cell_type": "code",
   "execution_count": 5,
   "id": "5caf4bd2",
   "metadata": {},
   "outputs": [
    {
     "name": "stdout",
     "output_type": "stream",
     "text": [
      "Number of data points in train data: 1657\n",
      "Number of data points in test data: 415\n"
     ]
    }
   ],
   "source": [
    "print('Number of data points in train data:', train.shape[0])\n",
    "print('Number of data points in test data:', test.shape[0])"
   ]
  },
  {
   "cell_type": "code",
   "execution_count": 6,
   "id": "f8cfa615",
   "metadata": {},
   "outputs": [
    {
     "data": {
      "text/html": [
       "<div>\n",
       "<style scoped>\n",
       "    .dataframe tbody tr th:only-of-type {\n",
       "        vertical-align: middle;\n",
       "    }\n",
       "\n",
       "    .dataframe tbody tr th {\n",
       "        vertical-align: top;\n",
       "    }\n",
       "\n",
       "    .dataframe thead th {\n",
       "        text-align: right;\n",
       "    }\n",
       "</style>\n",
       "<table border=\"1\" class=\"dataframe\">\n",
       "  <thead>\n",
       "    <tr style=\"text-align: right;\">\n",
       "      <th></th>\n",
       "      <th>full_text</th>\n",
       "      <th>root_label</th>\n",
       "      <th>leaf_label</th>\n",
       "    </tr>\n",
       "  </thead>\n",
       "  <tbody>\n",
       "    <tr>\n",
       "      <th>415</th>\n",
       "      <td>GREEN BAY, Wis. — Bears return man Jakeem Gran...</td>\n",
       "      <td>sports</td>\n",
       "      <td>football</td>\n",
       "    </tr>\n",
       "    <tr>\n",
       "      <th>1702</th>\n",
       "      <td>Businesses, area economy as a whole benefit fr...</td>\n",
       "      <td>climate</td>\n",
       "      <td>earthquake</td>\n",
       "    </tr>\n",
       "    <tr>\n",
       "      <th>832</th>\n",
       "      <td>Trust, engagement, accountability and mindfuln...</td>\n",
       "      <td>sports</td>\n",
       "      <td>chess</td>\n",
       "    </tr>\n",
       "    <tr>\n",
       "      <th>1026</th>\n",
       "      <td>The International Chess Federation, the game’s...</td>\n",
       "      <td>sports</td>\n",
       "      <td>chess</td>\n",
       "    </tr>\n",
       "    <tr>\n",
       "      <th>1621</th>\n",
       "      <td>The earthquake was reported around 9:24 p.m. S...</td>\n",
       "      <td>climate</td>\n",
       "      <td>earthquake</td>\n",
       "    </tr>\n",
       "    <tr>\n",
       "      <th>...</th>\n",
       "      <td>...</td>\n",
       "      <td>...</td>\n",
       "      <td>...</td>\n",
       "    </tr>\n",
       "    <tr>\n",
       "      <th>757</th>\n",
       "      <td>By Zachary Zagger (November 2, 2021, 4:01 PM E...</td>\n",
       "      <td>sports</td>\n",
       "      <td>soccer</td>\n",
       "    </tr>\n",
       "    <tr>\n",
       "      <th>1637</th>\n",
       "      <td>By Michael Susin\\n\\nTremor International Ltd. ...</td>\n",
       "      <td>climate</td>\n",
       "      <td>earthquake</td>\n",
       "    </tr>\n",
       "    <tr>\n",
       "      <th>1338</th>\n",
       "      <td>Some people like the foliage, others enjoy the...</td>\n",
       "      <td>climate</td>\n",
       "      <td>flood</td>\n",
       "    </tr>\n",
       "    <tr>\n",
       "      <th>1549</th>\n",
       "      <td>NEW HAVEN — A nor’easter brought rain and wind...</td>\n",
       "      <td>climate</td>\n",
       "      <td>flood</td>\n",
       "    </tr>\n",
       "    <tr>\n",
       "      <th>1012</th>\n",
       "      <td>Citrusw00d Productions unveils films minted as...</td>\n",
       "      <td>sports</td>\n",
       "      <td>chess</td>\n",
       "    </tr>\n",
       "  </tbody>\n",
       "</table>\n",
       "<p>1657 rows × 3 columns</p>\n",
       "</div>"
      ],
      "text/plain": [
       "                                              full_text root_label  leaf_label\n",
       "415   GREEN BAY, Wis. — Bears return man Jakeem Gran...     sports    football\n",
       "1702  Businesses, area economy as a whole benefit fr...    climate  earthquake\n",
       "832   Trust, engagement, accountability and mindfuln...     sports       chess\n",
       "1026  The International Chess Federation, the game’s...     sports       chess\n",
       "1621  The earthquake was reported around 9:24 p.m. S...    climate  earthquake\n",
       "...                                                 ...        ...         ...\n",
       "757   By Zachary Zagger (November 2, 2021, 4:01 PM E...     sports      soccer\n",
       "1637  By Michael Susin\\n\\nTremor International Ltd. ...    climate  earthquake\n",
       "1338  Some people like the foliage, others enjoy the...    climate       flood\n",
       "1549  NEW HAVEN — A nor’easter brought rain and wind...    climate       flood\n",
       "1012  Citrusw00d Productions unveils films minted as...     sports       chess\n",
       "\n",
       "[1657 rows x 3 columns]"
      ]
     },
     "execution_count": 6,
     "metadata": {},
     "output_type": "execute_result"
    }
   ],
   "source": [
    "train"
   ]
  },
  {
   "cell_type": "code",
   "execution_count": 7,
   "id": "65129d1f",
   "metadata": {},
   "outputs": [
    {
     "data": {
      "text/html": [
       "<div>\n",
       "<style scoped>\n",
       "    .dataframe tbody tr th:only-of-type {\n",
       "        vertical-align: middle;\n",
       "    }\n",
       "\n",
       "    .dataframe tbody tr th {\n",
       "        vertical-align: top;\n",
       "    }\n",
       "\n",
       "    .dataframe thead th {\n",
       "        text-align: right;\n",
       "    }\n",
       "</style>\n",
       "<table border=\"1\" class=\"dataframe\">\n",
       "  <thead>\n",
       "    <tr style=\"text-align: right;\">\n",
       "      <th></th>\n",
       "      <th>full_text</th>\n",
       "      <th>root_label</th>\n",
       "      <th>leaf_label</th>\n",
       "    </tr>\n",
       "  </thead>\n",
       "  <tbody>\n",
       "    <tr>\n",
       "      <th>703</th>\n",
       "      <td>PARIS (AP) — Human rights activists in France ...</td>\n",
       "      <td>sports</td>\n",
       "      <td>soccer</td>\n",
       "    </tr>\n",
       "    <tr>\n",
       "      <th>247</th>\n",
       "      <td>Bangladesh's Liton Das, right, gestures to Sri...</td>\n",
       "      <td>sports</td>\n",
       "      <td>cricket</td>\n",
       "    </tr>\n",
       "    <tr>\n",
       "      <th>1329</th>\n",
       "      <td>© Provided by Mid-Day\\n\\nTravellers who are fu...</td>\n",
       "      <td>climate</td>\n",
       "      <td>flood</td>\n",
       "    </tr>\n",
       "    <tr>\n",
       "      <th>1054</th>\n",
       "      <td>Dr Ron Edwards completing his term as State Re...</td>\n",
       "      <td>climate</td>\n",
       "      <td>%22forest%20fire%22</td>\n",
       "    </tr>\n",
       "    <tr>\n",
       "      <th>1200</th>\n",
       "      <td>Santa Barbara’s year-round sunshine and good w...</td>\n",
       "      <td>climate</td>\n",
       "      <td>%22forest%20fire%22</td>\n",
       "    </tr>\n",
       "    <tr>\n",
       "      <th>...</th>\n",
       "      <td>...</td>\n",
       "      <td>...</td>\n",
       "      <td>...</td>\n",
       "    </tr>\n",
       "    <tr>\n",
       "      <th>222</th>\n",
       "      <td>The hub will redefine the role of tech in lear...</td>\n",
       "      <td>sports</td>\n",
       "      <td>cricket</td>\n",
       "    </tr>\n",
       "    <tr>\n",
       "      <th>320</th>\n",
       "      <td>The Texas Longhorns went into Waco with the ho...</td>\n",
       "      <td>sports</td>\n",
       "      <td>football</td>\n",
       "    </tr>\n",
       "    <tr>\n",
       "      <th>1930</th>\n",
       "      <td>3 Ways To Increase Water Reuse In Industrial F...</td>\n",
       "      <td>climate</td>\n",
       "      <td>drought</td>\n",
       "    </tr>\n",
       "    <tr>\n",
       "      <th>135</th>\n",
       "      <td>Cases against students of two medical colleges...</td>\n",
       "      <td>sports</td>\n",
       "      <td>cricket</td>\n",
       "    </tr>\n",
       "    <tr>\n",
       "      <th>1608</th>\n",
       "      <td>Victorinox Swiss Army, the Monroe-based compan...</td>\n",
       "      <td>climate</td>\n",
       "      <td>earthquake</td>\n",
       "    </tr>\n",
       "  </tbody>\n",
       "</table>\n",
       "<p>415 rows × 3 columns</p>\n",
       "</div>"
      ],
      "text/plain": [
       "                                              full_text root_label  \\\n",
       "703   PARIS (AP) — Human rights activists in France ...     sports   \n",
       "247   Bangladesh's Liton Das, right, gestures to Sri...     sports   \n",
       "1329  © Provided by Mid-Day\\n\\nTravellers who are fu...    climate   \n",
       "1054  Dr Ron Edwards completing his term as State Re...    climate   \n",
       "1200  Santa Barbara’s year-round sunshine and good w...    climate   \n",
       "...                                                 ...        ...   \n",
       "222   The hub will redefine the role of tech in lear...     sports   \n",
       "320   The Texas Longhorns went into Waco with the ho...     sports   \n",
       "1930  3 Ways To Increase Water Reuse In Industrial F...    climate   \n",
       "135   Cases against students of two medical colleges...     sports   \n",
       "1608  Victorinox Swiss Army, the Monroe-based compan...    climate   \n",
       "\n",
       "               leaf_label  \n",
       "703                soccer  \n",
       "247               cricket  \n",
       "1329                flood  \n",
       "1054  %22forest%20fire%22  \n",
       "1200  %22forest%20fire%22  \n",
       "...                   ...  \n",
       "222               cricket  \n",
       "320              football  \n",
       "1930              drought  \n",
       "135               cricket  \n",
       "1608           earthquake  \n",
       "\n",
       "[415 rows x 3 columns]"
      ]
     },
     "execution_count": 7,
     "metadata": {},
     "output_type": "execute_result"
    }
   ],
   "source": [
    "test"
   ]
  },
  {
   "cell_type": "code",
   "execution_count": 8,
   "id": "3e42815b",
   "metadata": {},
   "outputs": [
    {
     "name": "stdout",
     "output_type": "stream",
     "text": [
      "Training Set\n",
      "\n",
      "Original train_dataset:\n",
      "415                football\n",
      "1702             earthquake\n",
      "832                   chess\n",
      "1026                  chess\n",
      "1621             earthquake\n",
      "851                   chess\n",
      "1535                  flood\n",
      "1440                  flood\n",
      "313                football\n",
      "823                   chess\n",
      "1005                  chess\n",
      "1267    %22forest%20fire%22\n",
      "1323                  flood\n",
      "2026                drought\n",
      "448                football\n",
      "1190    %22forest%20fire%22\n",
      "2025                drought\n",
      "1326                  flood\n",
      "188                 cricket\n",
      "1242    %22forest%20fire%22\n",
      "Name: leaf_label, dtype: object\n",
      "\n",
      "Binarized train_dataset:\n",
      "415     3\n",
      "1702    6\n",
      "832     0\n",
      "1026    0\n",
      "1621    6\n",
      "851     0\n",
      "1535    5\n",
      "1440    5\n",
      "313     3\n",
      "823     0\n",
      "1005    0\n",
      "1267    4\n",
      "1323    5\n",
      "2026    7\n",
      "448     3\n",
      "1190    4\n",
      "2025    7\n",
      "1326    5\n",
      "188     1\n",
      "1242    4\n",
      "Name: leaf_label, dtype: object\n",
      "\n",
      "Test Set\n",
      "\n",
      "Original test_dataset:\n",
      "703                  soccer\n",
      "247                 cricket\n",
      "1329                  flood\n",
      "1054    %22forest%20fire%22\n",
      "1200    %22forest%20fire%22\n",
      "126                 cricket\n",
      "2013                drought\n",
      "598                  soccer\n",
      "1332                  flood\n",
      "656                  soccer\n",
      "1094    %22forest%20fire%22\n",
      "195                 cricket\n",
      "1541                  flood\n",
      "1033                  chess\n",
      "1271    %22forest%20fire%22\n",
      "467                football\n",
      "571                  soccer\n",
      "1956                drought\n",
      "1843                drought\n",
      "1914                drought\n",
      "Name: leaf_label, dtype: object\n",
      "\n",
      "Binarized test_dataset:\n",
      "703     2\n",
      "247     1\n",
      "1329    5\n",
      "1054    4\n",
      "1200    4\n",
      "126     1\n",
      "2013    7\n",
      "598     2\n",
      "1332    5\n",
      "656     2\n",
      "1094    4\n",
      "195     1\n",
      "1541    5\n",
      "1033    0\n",
      "1271    4\n",
      "467     3\n",
      "571     2\n",
      "1956    7\n",
      "1843    7\n",
      "1914    7\n",
      "Name: leaf_label, dtype: object\n"
     ]
    }
   ],
   "source": [
    "#\"chess\": 0, \"cricket\": 1, \"soccer\": 2,\"football\":3,\"%22forest%20fire%22\":4,\"flood\":5,\"earthquake\":6,\"drought\":7\n",
    "y_train_encoded = train[\"leaf_label\"].copy()\n",
    "y_test_encoded = test[\"leaf_label\"].copy()\n",
    "\n",
    "\n",
    "y_train_encoded[y_train_encoded == 'chess'] = 0\n",
    "y_test_encoded[y_test_encoded == 'chess'] = 0\n",
    "\n",
    "\n",
    "y_train_encoded[y_train_encoded== 'cricket'] = 1\n",
    "y_test_encoded[y_test_encoded == 'cricket'] = 1\n",
    "\n",
    "y_train_encoded[y_train_encoded == 'soccer'] = 2\n",
    "y_test_encoded[y_test_encoded == 'soccer'] = 2\n",
    "\n",
    "y_train_encoded[y_train_encoded == 'football'] = 3\n",
    "y_test_encoded[y_test_encoded == 'football'] = 3\n",
    "\n",
    "y_train_encoded[y_train_encoded == '%22forest%20fire%22'] = 4\n",
    "y_test_encoded[y_test_encoded == '%22forest%20fire%22'] = 4\n",
    "\n",
    "y_train_encoded[y_train_encoded == 'flood'] = 5\n",
    "y_test_encoded[y_test_encoded == 'flood'] = 5\n",
    "\n",
    "y_train_encoded[y_train_encoded == 'earthquake'] = 6\n",
    "y_test_encoded[y_test_encoded == 'earthquake'] = 6\n",
    "\n",
    "y_train_encoded[y_train_encoded == 'drought'] = 7\n",
    "y_test_encoded[y_test_encoded == 'drought'] = 7\n",
    "\n",
    "print(\"Training Set\\n\")\n",
    "print(\"Original train_dataset:\\n\" + str(train[\"leaf_label\"][0:20]))\n",
    "print(\"\\nBinarized train_dataset:\\n\" + str(y_train_encoded[0:20]))\n",
    "print(\"\\nTest Set\\n\")\n",
    "print(\"Original test_dataset:\\n\" + str(test[\"leaf_label\"][0:20]))\n",
    "print(\"\\nBinarized test_dataset:\\n\" + str(y_test_encoded[0:20]))"
   ]
  },
  {
   "cell_type": "code",
   "execution_count": 11,
   "id": "367e0b27",
   "metadata": {},
   "outputs": [],
   "source": [
    "train['encoded'] = y_train_encoded.astype(str).astype(int)"
   ]
  },
  {
   "cell_type": "code",
   "execution_count": 10,
   "id": "e085c2c5",
   "metadata": {},
   "outputs": [],
   "source": [
    "test['encoded'] = y_test_encoded.astype(str).astype(int)"
   ]
  },
  {
   "cell_type": "code",
   "execution_count": 23,
   "id": "c94ee703",
   "metadata": {},
   "outputs": [],
   "source": [
    "train = train.sort_values(by = 'encoded')\n"
   ]
  },
  {
   "cell_type": "code",
   "execution_count": 24,
   "id": "96884dbe",
   "metadata": {},
   "outputs": [],
   "source": [
    "test = test.sort_values(by = 'encoded')"
   ]
  },
  {
   "cell_type": "code",
   "execution_count": 28,
   "id": "df51ac9f",
   "metadata": {},
   "outputs": [
    {
     "data": {
      "text/html": [
       "<div>\n",
       "<style scoped>\n",
       "    .dataframe tbody tr th:only-of-type {\n",
       "        vertical-align: middle;\n",
       "    }\n",
       "\n",
       "    .dataframe tbody tr th {\n",
       "        vertical-align: top;\n",
       "    }\n",
       "\n",
       "    .dataframe thead th {\n",
       "        text-align: right;\n",
       "    }\n",
       "</style>\n",
       "<table border=\"1\" class=\"dataframe\">\n",
       "  <thead>\n",
       "    <tr style=\"text-align: right;\">\n",
       "      <th></th>\n",
       "      <th>full_text</th>\n",
       "      <th>root_label</th>\n",
       "      <th>leaf_label</th>\n",
       "      <th>encoded</th>\n",
       "    </tr>\n",
       "  </thead>\n",
       "  <tbody>\n",
       "    <tr>\n",
       "      <th>1012</th>\n",
       "      <td>Citrusw00d Productions unveils films minted as...</td>\n",
       "      <td>sports</td>\n",
       "      <td>chess</td>\n",
       "      <td>0</td>\n",
       "    </tr>\n",
       "    <tr>\n",
       "      <th>814</th>\n",
       "      <td>Dec. 25 is fast approaching so I browsed the b...</td>\n",
       "      <td>sports</td>\n",
       "      <td>chess</td>\n",
       "      <td>0</td>\n",
       "    </tr>\n",
       "    <tr>\n",
       "      <th>956</th>\n",
       "      <td>Raissa Bretaña studies history through a fashi...</td>\n",
       "      <td>sports</td>\n",
       "      <td>chess</td>\n",
       "      <td>0</td>\n",
       "    </tr>\n",
       "    <tr>\n",
       "      <th>892</th>\n",
       "      <td>© Manjunath KIRAN Magnus Carlsen (R) is pictur...</td>\n",
       "      <td>sports</td>\n",
       "      <td>chess</td>\n",
       "      <td>0</td>\n",
       "    </tr>\n",
       "    <tr>\n",
       "      <th>987</th>\n",
       "      <td>Kenya Tong-Il Moo Do Federation president Clar...</td>\n",
       "      <td>sports</td>\n",
       "      <td>chess</td>\n",
       "      <td>0</td>\n",
       "    </tr>\n",
       "  </tbody>\n",
       "</table>\n",
       "</div>"
      ],
      "text/plain": [
       "                                              full_text root_label leaf_label  \\\n",
       "1012  Citrusw00d Productions unveils films minted as...     sports      chess   \n",
       "814   Dec. 25 is fast approaching so I browsed the b...     sports      chess   \n",
       "956   Raissa Bretaña studies history through a fashi...     sports      chess   \n",
       "892   © Manjunath KIRAN Magnus Carlsen (R) is pictur...     sports      chess   \n",
       "987   Kenya Tong-Il Moo Do Federation president Clar...     sports      chess   \n",
       "\n",
       "      encoded  \n",
       "1012        0  \n",
       "814         0  \n",
       "956         0  \n",
       "892         0  \n",
       "987         0  "
      ]
     },
     "execution_count": 28,
     "metadata": {},
     "output_type": "execute_result"
    }
   ],
   "source": [
    "train.head()"
   ]
  },
  {
   "cell_type": "code",
   "execution_count": 29,
   "id": "c7bc8062",
   "metadata": {},
   "outputs": [
    {
     "data": {
      "text/html": [
       "<div>\n",
       "<style scoped>\n",
       "    .dataframe tbody tr th:only-of-type {\n",
       "        vertical-align: middle;\n",
       "    }\n",
       "\n",
       "    .dataframe tbody tr th {\n",
       "        vertical-align: top;\n",
       "    }\n",
       "\n",
       "    .dataframe thead th {\n",
       "        text-align: right;\n",
       "    }\n",
       "</style>\n",
       "<table border=\"1\" class=\"dataframe\">\n",
       "  <thead>\n",
       "    <tr style=\"text-align: right;\">\n",
       "      <th></th>\n",
       "      <th>full_text</th>\n",
       "      <th>root_label</th>\n",
       "      <th>leaf_label</th>\n",
       "      <th>encoded</th>\n",
       "    </tr>\n",
       "  </thead>\n",
       "  <tbody>\n",
       "    <tr>\n",
       "      <th>921</th>\n",
       "      <td>US Chess Championships R3: Caruana, Sevian Joi...</td>\n",
       "      <td>sports</td>\n",
       "      <td>chess</td>\n",
       "      <td>0</td>\n",
       "    </tr>\n",
       "    <tr>\n",
       "      <th>980</th>\n",
       "      <td>Dave Chappelle is considered an inspiration to...</td>\n",
       "      <td>sports</td>\n",
       "      <td>chess</td>\n",
       "      <td>0</td>\n",
       "    </tr>\n",
       "    <tr>\n",
       "      <th>854</th>\n",
       "      <td>For many chess fans, the just-completed world ...</td>\n",
       "      <td>sports</td>\n",
       "      <td>chess</td>\n",
       "      <td>0</td>\n",
       "    </tr>\n",
       "    <tr>\n",
       "      <th>830</th>\n",
       "      <td>Today in History\\n\\nToday is Tuesday, Nov. 30,...</td>\n",
       "      <td>sports</td>\n",
       "      <td>chess</td>\n",
       "      <td>0</td>\n",
       "    </tr>\n",
       "    <tr>\n",
       "      <th>813</th>\n",
       "      <td>We’ve talked in-depth about who the best chess...</td>\n",
       "      <td>sports</td>\n",
       "      <td>chess</td>\n",
       "      <td>0</td>\n",
       "    </tr>\n",
       "  </tbody>\n",
       "</table>\n",
       "</div>"
      ],
      "text/plain": [
       "                                             full_text root_label leaf_label  \\\n",
       "921  US Chess Championships R3: Caruana, Sevian Joi...     sports      chess   \n",
       "980  Dave Chappelle is considered an inspiration to...     sports      chess   \n",
       "854  For many chess fans, the just-completed world ...     sports      chess   \n",
       "830  Today in History\\n\\nToday is Tuesday, Nov. 30,...     sports      chess   \n",
       "813  We’ve talked in-depth about who the best chess...     sports      chess   \n",
       "\n",
       "     encoded  \n",
       "921        0  \n",
       "980        0  \n",
       "854        0  \n",
       "830        0  \n",
       "813        0  "
      ]
     },
     "execution_count": 29,
     "metadata": {},
     "output_type": "execute_result"
    }
   ],
   "source": [
    "test.head()"
   ]
  },
  {
   "cell_type": "code",
   "execution_count": 30,
   "id": "06350e81",
   "metadata": {},
   "outputs": [],
   "source": [
    "import re\n",
    "def clean(text):\n",
    "    text = re.sub(r\"http\\S+\", '', text, flags=re.MULTILINE)\n",
    "    texter = re.sub(r\"<br />\", \" \", text)\n",
    "    texter = re.sub(r\"&quot;\", \"\\\"\",texter)\n",
    "    texter = re.sub('&#39;', \"\\\"\", texter)\n",
    "    texter = re.sub('\\n', \" \", texter)\n",
    "    texter = re.sub(' u ',\" you \", texter)\n",
    "    texter = re.sub('`',\"\", texter)\n",
    "    texter = re.sub(' +', ' ', texter)\n",
    "    texter = re.sub(r\"(!)\\1+\", r\"!\", texter)\n",
    "    texter = re.sub(r\"(\\?)\\1+\", r\"?\", texter)\n",
    "    texter = re.sub('&amp;', 'and', texter)\n",
    "    texter = re.sub('\\r', ' ',texter)\n",
    "    texter = re.sub(r\"[0-9]\",\"\", texter)\n",
    "    texter = re.sub('[^a-zA-Z0-9\\n]', ' ', texter)\n",
    "    texter = re.sub('\\s+',' ', texter)\n",
    "    texter = texter.lower()\n",
    "    clean = re.compile('<.*?>')\n",
    "    texter = texter.encode('ascii', 'ignore').decode('ascii')\n",
    "    texter = re.sub(clean, '', texter)\n",
    "    if texter == \"\":\n",
    "        texter = \"\"\n",
    "    return texter"
   ]
  },
  {
   "cell_type": "code",
   "execution_count": 31,
   "id": "4baaed1e",
   "metadata": {},
   "outputs": [],
   "source": [
    "train['full_text'] = train['full_text'].apply(clean)\n",
    "test['full_text'] = test['full_text'].apply(clean)"
   ]
  },
  {
   "cell_type": "code",
   "execution_count": 33,
   "id": "2121def8",
   "metadata": {},
   "outputs": [
    {
     "data": {
      "text/html": [
       "<div>\n",
       "<style scoped>\n",
       "    .dataframe tbody tr th:only-of-type {\n",
       "        vertical-align: middle;\n",
       "    }\n",
       "\n",
       "    .dataframe tbody tr th {\n",
       "        vertical-align: top;\n",
       "    }\n",
       "\n",
       "    .dataframe thead th {\n",
       "        text-align: right;\n",
       "    }\n",
       "</style>\n",
       "<table border=\"1\" class=\"dataframe\">\n",
       "  <thead>\n",
       "    <tr style=\"text-align: right;\">\n",
       "      <th></th>\n",
       "      <th>full_text</th>\n",
       "      <th>root_label</th>\n",
       "      <th>leaf_label</th>\n",
       "      <th>encoded</th>\n",
       "    </tr>\n",
       "  </thead>\n",
       "  <tbody>\n",
       "    <tr>\n",
       "      <th>1012</th>\n",
       "      <td>citruswd productions unveils films minted as n...</td>\n",
       "      <td>sports</td>\n",
       "      <td>chess</td>\n",
       "      <td>0</td>\n",
       "    </tr>\n",
       "    <tr>\n",
       "      <th>814</th>\n",
       "      <td>dec is fast approaching so i browsed the booth...</td>\n",
       "      <td>sports</td>\n",
       "      <td>chess</td>\n",
       "      <td>0</td>\n",
       "    </tr>\n",
       "    <tr>\n",
       "      <th>956</th>\n",
       "      <td>raissa breta a studies history through a fashi...</td>\n",
       "      <td>sports</td>\n",
       "      <td>chess</td>\n",
       "      <td>0</td>\n",
       "    </tr>\n",
       "    <tr>\n",
       "      <th>892</th>\n",
       "      <td>manjunath kiran magnus carlsen r is pictured ...</td>\n",
       "      <td>sports</td>\n",
       "      <td>chess</td>\n",
       "      <td>0</td>\n",
       "    </tr>\n",
       "    <tr>\n",
       "      <th>987</th>\n",
       "      <td>kenya tong il moo do federation president clar...</td>\n",
       "      <td>sports</td>\n",
       "      <td>chess</td>\n",
       "      <td>0</td>\n",
       "    </tr>\n",
       "  </tbody>\n",
       "</table>\n",
       "</div>"
      ],
      "text/plain": [
       "                                              full_text root_label leaf_label  \\\n",
       "1012  citruswd productions unveils films minted as n...     sports      chess   \n",
       "814   dec is fast approaching so i browsed the booth...     sports      chess   \n",
       "956   raissa breta a studies history through a fashi...     sports      chess   \n",
       "892    manjunath kiran magnus carlsen r is pictured ...     sports      chess   \n",
       "987   kenya tong il moo do federation president clar...     sports      chess   \n",
       "\n",
       "      encoded  \n",
       "1012        0  \n",
       "814         0  \n",
       "956         0  \n",
       "892         0  \n",
       "987         0  "
      ]
     },
     "execution_count": 33,
     "metadata": {},
     "output_type": "execute_result"
    }
   ],
   "source": [
    "train.head()"
   ]
  },
  {
   "cell_type": "code",
   "execution_count": 34,
   "id": "f55455ba",
   "metadata": {},
   "outputs": [
    {
     "data": {
      "text/html": [
       "<div>\n",
       "<style scoped>\n",
       "    .dataframe tbody tr th:only-of-type {\n",
       "        vertical-align: middle;\n",
       "    }\n",
       "\n",
       "    .dataframe tbody tr th {\n",
       "        vertical-align: top;\n",
       "    }\n",
       "\n",
       "    .dataframe thead th {\n",
       "        text-align: right;\n",
       "    }\n",
       "</style>\n",
       "<table border=\"1\" class=\"dataframe\">\n",
       "  <thead>\n",
       "    <tr style=\"text-align: right;\">\n",
       "      <th></th>\n",
       "      <th>full_text</th>\n",
       "      <th>root_label</th>\n",
       "      <th>leaf_label</th>\n",
       "      <th>encoded</th>\n",
       "    </tr>\n",
       "  </thead>\n",
       "  <tbody>\n",
       "    <tr>\n",
       "      <th>921</th>\n",
       "      <td>us chess championships r caruana sevian join l...</td>\n",
       "      <td>sports</td>\n",
       "      <td>chess</td>\n",
       "      <td>0</td>\n",
       "    </tr>\n",
       "    <tr>\n",
       "      <th>980</th>\n",
       "      <td>dave chappelle is considered an inspiration to...</td>\n",
       "      <td>sports</td>\n",
       "      <td>chess</td>\n",
       "      <td>0</td>\n",
       "    </tr>\n",
       "    <tr>\n",
       "      <th>854</th>\n",
       "      <td>for many chess fans the just completed world c...</td>\n",
       "      <td>sports</td>\n",
       "      <td>chess</td>\n",
       "      <td>0</td>\n",
       "    </tr>\n",
       "    <tr>\n",
       "      <th>830</th>\n",
       "      <td>today in history today is tuesday nov the th d...</td>\n",
       "      <td>sports</td>\n",
       "      <td>chess</td>\n",
       "      <td>0</td>\n",
       "    </tr>\n",
       "    <tr>\n",
       "      <th>813</th>\n",
       "      <td>we ve talked in depth about who the best chess...</td>\n",
       "      <td>sports</td>\n",
       "      <td>chess</td>\n",
       "      <td>0</td>\n",
       "    </tr>\n",
       "  </tbody>\n",
       "</table>\n",
       "</div>"
      ],
      "text/plain": [
       "                                             full_text root_label leaf_label  \\\n",
       "921  us chess championships r caruana sevian join l...     sports      chess   \n",
       "980  dave chappelle is considered an inspiration to...     sports      chess   \n",
       "854  for many chess fans the just completed world c...     sports      chess   \n",
       "830  today in history today is tuesday nov the th d...     sports      chess   \n",
       "813  we ve talked in depth about who the best chess...     sports      chess   \n",
       "\n",
       "     encoded  \n",
       "921        0  \n",
       "980        0  \n",
       "854        0  \n",
       "830        0  \n",
       "813        0  "
      ]
     },
     "execution_count": 34,
     "metadata": {},
     "output_type": "execute_result"
    }
   ],
   "source": [
    "test.head()"
   ]
  },
  {
   "cell_type": "code",
   "execution_count": 35,
   "id": "69041065",
   "metadata": {},
   "outputs": [
    {
     "data": {
      "image/png": "[encoded data removed]",
      "text/plain": [
       "<Figure size 432x288 with 1 Axes>"
      ]
     },
     "metadata": {
      "needs_background": "light"
     },
     "output_type": "display_data"
    }
   ],
   "source": [
    "counter = Counter(train['leaf_label'])\n",
    "leaf_names = counter.keys()\n",
    "leaf_counts = counter.values()\n",
    "\n",
    "# Plot histogram using matplotlib bar().\n",
    "indexes = np.arange(len(leaf_names))\n",
    "plt.bar(indexes, leaf_counts, 0.5)\n",
    "plt.xticks(indexes + 0.5 * 0.5, leaf_names, rotation=90)\n",
    "plt.show()"
   ]
  },
  {
   "cell_type": "code",
   "execution_count": 36,
   "id": "da2f0679",
   "metadata": {},
   "outputs": [
    {
     "name": "stdout",
     "output_type": "stream",
     "text": [
      "Number of distributions per leaf label in Train :  dict_values([200, 209, 193, 207, 218, 217, 216, 197])\n"
     ]
    }
   ],
   "source": [
    "print(\"Number of distributions per leaf label in Train : \",leaf_counts)"
   ]
  },
  {
   "cell_type": "code",
   "execution_count": 37,
   "id": "3a31fd8a",
   "metadata": {},
   "outputs": [
    {
     "data": {
      "image/png": "[encoded data removed]",
      "text/plain": [
       "<Figure size 432x288 with 1 Axes>"
      ]
     },
     "metadata": {
      "needs_background": "light"
     },
     "output_type": "display_data"
    }
   ],
   "source": [
    "counter = Counter(test['leaf_label'])\n",
    "leaf_names = counter.keys()\n",
    "leaf_counts = counter.values()\n",
    "\n",
    "# Plot histogram using matplotlib bar().\n",
    "indexes = np.arange(len(leaf_names))\n",
    "plt.bar(indexes, leaf_counts, 0.5)\n",
    "plt.xticks(indexes + 0.5 * 0.5, leaf_names, rotation=90)\n",
    "plt.show()"
   ]
  },
  {
   "cell_type": "code",
   "execution_count": 38,
   "id": "3b716468",
   "metadata": {},
   "outputs": [
    {
     "name": "stdout",
     "output_type": "stream",
     "text": [
      "Number of distributions per leaf label in test:  dict_values([59, 50, 66, 52, 41, 42, 43, 62])\n"
     ]
    }
   ],
   "source": [
    "print(\"Number of distributions per leaf label in test: \", leaf_counts)"
   ]
  },
  {
   "cell_type": "code",
   "execution_count": 39,
   "id": "1b2dbf50",
   "metadata": {},
   "outputs": [
    {
     "name": "stdout",
     "output_type": "stream",
     "text": [
      "Size of training data after lemmatization but before TF-IDF:  (1657, 6982)\n",
      "Size of testing data after lemmatization but before TF-IDF:   (415, 6982)\n",
      "Shape of train TF-IDF matrix:  (1657, 6982)\n",
      "Shape of test TF-IDF matrix:   (415, 6982)\n"
     ]
    }
   ],
   "source": [
    "from sklearn.feature_extraction.text import CountVectorizer\n",
    "import nltk\n",
    "from nltk import pos_tag\n",
    "from pickle import dump\n",
    "\n",
    "counts = []\n",
    "\n",
    "wnl = nltk.wordnet.WordNetLemmatizer()\n",
    "analyzer = CountVectorizer().build_analyzer()\n",
    "\n",
    "def penn2morphy(penntag):\n",
    "    \"\"\" Converts Penn Treebank tags to WordNet. \"\"\"\n",
    "    morphy_tag = {'NN':'n', 'JJ':'a',\n",
    "                  'VB':'v', 'RB':'r'}\n",
    "    try:\n",
    "        return morphy_tag[penntag[:2]]\n",
    "    except:\n",
    "        return 'n'\n",
    "\n",
    "def lemmatize_sent(list_word):\n",
    "    # Text input is string, returns array of lowercased strings(words).\n",
    "    return [wnl.lemmatize(word.lower(), pos=penn2morphy(tag)) \n",
    "            for word, tag in pos_tag(list_word)]\n",
    "\n",
    "\n",
    "def rmv_nums(doc):\n",
    "    #gets rid of numbers including floats\n",
    "    #does lemmatization with nltk.wordnet.WordNetLemmatizer and pos_tag\n",
    "    return (word for word in lemmatize_sent(analyzer(doc)) \n",
    "            if not word.isdigit())\n",
    "\n",
    "#CountVectorizer returns a callable that handles preprocessing and tokenization\n",
    "#Use the “english” stopwords of the CountVectorizer\n",
    "vectorizer=CountVectorizer(analyzer=rmv_nums,min_df=5,stop_words='english')\n",
    "\n",
    "#do feature extraction (train):\n",
    "X_train_counts=vectorizer.fit_transform(train[\"full_text\"]) #get matrix of doc-term counts (training data)\n",
    "print('Size of training data after lemmatization but before TF-IDF: ', X_train_counts.shape) \n",
    "X_test_counts=vectorizer.transform(test[\"full_text\"]) \n",
    "print('Size of testing data after lemmatization but before TF-IDF:  ', X_test_counts.shape) \n",
    "\n",
    "from sklearn.feature_extraction.text import TfidfTransformer\n",
    "tfidf_transformer = TfidfTransformer()\n",
    "X_train_tfidf = tfidf_transformer.fit_transform(X_train_counts)\n",
    "print('Shape of train TF-IDF matrix: ',X_train_tfidf.shape)\n",
    "X_test_tfidf = tfidf_transformer.transform(X_test_counts)\n",
    "print('Shape of test TF-IDF matrix:  ',X_test_tfidf.shape)"
   ]
  },
  {
   "cell_type": "code",
   "execution_count": 40,
   "id": "5ae0517b",
   "metadata": {},
   "outputs": [
    {
     "name": "stdout",
     "output_type": "stream",
     "text": [
      "LSI train:\n",
      "(1657, 50)\n",
      "LSI test:\n",
      "(415, 50)\n"
     ]
    }
   ],
   "source": [
    "from sklearn.decomposition import TruncatedSVD\n",
    "\n",
    "svd = TruncatedSVD(n_components=50, random_state=42, n_iter = 10)\n",
    "X_train_LSI = svd.fit_transform(X_train_tfidf)\n",
    "X_test_LSI = svd.transform(X_test_tfidf)\n",
    "print('LSI train:')\n",
    "print(X_train_LSI.shape)\n",
    "print('LSI test:')\n",
    "print(X_test_LSI.shape)"
   ]
  },
  {
   "cell_type": "code",
   "execution_count": 41,
   "id": "e3fd89aa",
   "metadata": {},
   "outputs": [
    {
     "name": "stdout",
     "output_type": "stream",
     "text": [
      "NMF train:\n",
      "(1657, 50)\n",
      "NMF test:\n",
      "(415, 50)\n"
     ]
    }
   ],
   "source": [
    "from sklearn.decomposition import NMF\n",
    "nmf = NMF(n_components=50, init = 'random', random_state=42, max_iter=1000)\n",
    "X_train_NMF = nmf.fit_transform(X_train_tfidf)\n",
    "X_test_NMF = nmf.transform(X_test_tfidf)\n",
    "print('NMF train:')\n",
    "print(X_train_NMF.shape)\n",
    "print('NMF test:')\n",
    "print(X_test_NMF.shape)"
   ]
  },
  {
   "cell_type": "code",
   "execution_count": 42,
   "id": "1577cde8",
   "metadata": {},
   "outputs": [],
   "source": [
    "X_multi_train = [X_train_tfidf.toarray(), X_train_LSI, X_train_NMF]\n",
    "y_multi_train = train[\"leaf_label\"]\n",
    "X_multi_test = [X_test_tfidf.toarray(), X_test_LSI, X_test_NMF]\n",
    "y_multi_test = test[\"leaf_label\"]"
   ]
  },
  {
   "cell_type": "code",
   "execution_count": 54,
   "id": "e2c90544",
   "metadata": {},
   "outputs": [],
   "source": [
    "def plot_confusion_matrix(cm,\n",
    "                          normalize=False,\n",
    "                          title='Confusion matrix',\n",
    "                          cmap=plt.cm.Blues,\n",
    "                          classes = []\n",
    "):\n",
    "    \"\"\"\n",
    "    This function prints and plots the confusion matrix.\n",
    "    Normalization can be applied by setting `normalize=True`.\n",
    "    \"\"\"\n",
    "    if normalize:\n",
    "        cm = cm.astype('float') / cm.sum(axis=1)[:, np.newaxis]\n",
    "        print(\"Normalized confusion matrix\")\n",
    "    else:\n",
    "        print('Confusion matrix, without normalization')\n",
    "\n",
    "    print(cm)\n",
    "\n",
    "    plt.imshow(cm, interpolation='nearest', cmap=cmap)\n",
    "    plt.title(title)\n",
    "    plt.colorbar()\n",
    "    tick_marks = np.arange(len(classes))\n",
    "    plt.xticks(tick_marks, classes, rotation=90)\n",
    "    plt.yticks(tick_marks, classes)\n",
    "\n",
    "    fmt = '.2f' if normalize else 'd'\n",
    "    thresh = cm.max() / 2.\n",
    "    for i, j in itertools.product(range(cm.shape[0]), range(cm.shape[1])):\n",
    "        plt.text(j, i, format(cm[i, j], fmt),\n",
    "                 horizontalalignment=\"center\",\n",
    "                 color=\"white\" if cm[i, j] > thresh else \"black\")\n",
    "\n",
    "    plt.tight_layout()\n",
    "    plt.ylabel('True label')\n",
    "    plt.xlabel('Predicted label')\n",
    "    plt.show()"
   ]
  },
  {
   "cell_type": "code",
   "execution_count": 56,
   "id": "6a4f3915",
   "metadata": {},
   "outputs": [
    {
     "name": "stdout",
     "output_type": "stream",
     "text": [
      "Multiclass NaiveBayes TFIDF Confusion matrix: \n",
      "\n",
      "Confusion matrix, without normalization\n",
      "[[35  0  0  1  3  1  0  1]\n",
      " [ 0 51  1  0  2  1  1  3]\n",
      " [ 0  6 44  0  0  0  0  0]\n",
      " [10  3  0 44  3  2  0  0]\n",
      " [ 3  6  0  0 28  4  1  1]\n",
      " [ 4  0  0  2  5 29  1  1]\n",
      " [ 1  1  2  0  0  0 42  6]\n",
      " [ 3 10  5  0  2  1  5 40]]\n"
     ]
    },
    {
     "data": {
      "image/png": "[encoded data removed]",
      "text/plain": [
       "<Figure size 432x288 with 2 Axes>"
      ]
     },
     "metadata": {
      "needs_background": "light"
     },
     "output_type": "display_data"
    },
    {
     "name": "stdout",
     "output_type": "stream",
     "text": [
      "Multiclass NaiveBayes TFIDF Accuracy Score: 0.7542168674698795\n",
      "Multiclass NaiveBayes TFIDF Recall Score: 0.7542168674698795\n",
      "Multiclass NaiveBayes TFIDF Precision Score: 0.7542168674698795\n",
      "Multiclass NaiveBayes TFIDF f1 Score: 0.7542168674698795\n",
      "Multiclass NaiveBayes LSI Confusion matrix: \n",
      "\n",
      "Confusion matrix, without normalization\n",
      "[[37  2  0  0  1  0  1  0]\n",
      " [ 0 55  0  0  1  2  1  0]\n",
      " [ 0  4 44  0  0  0  1  1]\n",
      " [ 3  0  0 51  5  1  2  0]\n",
      " [ 3  3  0  0 34  1  2  0]\n",
      " [ 0  2  2  2 10 25  0  1]\n",
      " [ 0  0  1  0  1  0 50  0]\n",
      " [ 0  7  1  0  2  1  6 49]]\n"
     ]
    },
    {
     "data": {
      "image/png": "[encoded data removed]",
      "text/plain": [
       "<Figure size 432x288 with 2 Axes>"
      ]
     },
     "metadata": {
      "needs_background": "light"
     },
     "output_type": "display_data"
    },
    {
     "name": "stdout",
     "output_type": "stream",
     "text": [
      "Multiclass NaiveBayes LSI Accuracy Score: 0.8313253012048193\n",
      "Multiclass NaiveBayes LSI Recall Score: 0.8313253012048193\n",
      "Multiclass NaiveBayes LSI Precision Score: 0.8313253012048193\n",
      "Multiclass NaiveBayes LSI f1 Score: 0.8313253012048193\n",
      "Multiclass NaiveBayes NMF Confusion matrix: \n",
      "\n",
      "Confusion matrix, without normalization\n",
      "[[37  1  0  1  0  2  0  0]\n",
      " [ 0 52  1  0  2  2  2  0]\n",
      " [ 0  4 45  0  1  0  0  0]\n",
      " [ 2  1  0 53  0  5  1  0]\n",
      " [ 3  1  1  0 31  6  1  0]\n",
      " [ 0  2  0  2  6 30  1  1]\n",
      " [ 0  1  0  0  0  0 49  2]\n",
      " [ 0  2  2  0  1  1  2 58]]\n"
     ]
    },
    {
     "data": {
      "image/png": "[encoded data removed]",
      "text/plain": [
       "<Figure size 432x288 with 2 Axes>"
      ]
     },
     "metadata": {
      "needs_background": "light"
     },
     "output_type": "display_data"
    },
    {
     "name": "stdout",
     "output_type": "stream",
     "text": [
      "Multiclass NaiveBayes NMF Accuracy Score: 0.8554216867469879\n",
      "Multiclass NaiveBayes NMF Recall Score: 0.8554216867469879\n",
      "Multiclass NaiveBayes NMF Precision Score: 0.8554216867469879\n",
      "Multiclass NaiveBayes NMF f1 Score: 0.8554216867469879\n"
     ]
    }
   ],
   "source": [
    "from sklearn.naive_bayes import GaussianNB\n",
    "# Naive Bayes\n",
    "multiclass_NB = GaussianNB()\n",
    "classes = ['chess', \"cricket\", \"soccer\",\"football\",\"%22forest%20fire%22\",\"flood\",\"earthquake\",'drought']\n",
    "labels = ['TFIDF', 'LSI', 'NMF'] # LSI, NMF\n",
    "for idx, x in enumerate(X_multi_train):\n",
    "    if (idx < len(labels)):\n",
    "        #if (labels[idx] == 'N/A'):\n",
    "            #multiclass_NB.fit(lsi_scaled[0], y_multi)\n",
    "            #multiclass_NB_pred = multiclass_NB.predict(lsi_scaled[1])\n",
    "        #else:\n",
    "            # train model\n",
    "        multiclass_NB.fit(x, y_multi_train)\n",
    "            # get test results\n",
    "        multiclass_NB_pred = multiclass_NB.predict(X_multi_test[idx])\n",
    "        multiclass_NB_confusion = confusion_matrix(y_true=y_multi_test, y_pred=multiclass_NB_pred)\n",
    "        multiclass_NB_accuracy = accuracy_score(y_true=y_multi_test, y_pred=multiclass_NB_pred)\n",
    "        multiclass_NB_recall = recall_score(y_true=y_multi_test, y_pred=multiclass_NB_pred, average='micro')\n",
    "        multiclass_NB_precision = precision_score(y_true=y_multi_test, y_pred=multiclass_NB_pred, average='micro')\n",
    "        multiclass_NB_f1 = f1_score(y_true=y_multi_test, y_pred=multiclass_NB_pred, average='micro')\n",
    "        print(\"Multiclass NaiveBayes \" + str(labels[idx]) + \" Confusion matrix: \\n\")\n",
    "        plt.figure(idx)\n",
    "        plot_confusion_matrix(multiclass_NB_confusion, classes = classes)\n",
    "        print(\"Multiclass NaiveBayes \" + str(labels[idx]) + \" Accuracy Score: \" + str(multiclass_NB_accuracy))\n",
    "        print(\"Multiclass NaiveBayes \" + str(labels[idx]) + \" Recall Score: \" + str(multiclass_NB_recall))\n",
    "        print(\"Multiclass NaiveBayes \" + str(labels[idx]) + \" Precision Score: \" + str(multiclass_NB_precision))\n",
    "        print(\"Multiclass NaiveBayes \" + str(labels[idx]) + \" f1 Score: \" + str(multiclass_NB_f1))"
   ]
  },
  {
   "cell_type": "code",
   "execution_count": 57,
   "id": "11eace69",
   "metadata": {},
   "outputs": [],
   "source": [
    "# Multiclass SVM classification\n",
    "from sklearn.multiclass import OneVsOneClassifier, OneVsRestClassifier\n",
    "multiclass_svm_OvO = OneVsOneClassifier(SVC(random_state=42))\n",
    "multiclass_svm_OvR = OneVsRestClassifier(SVC(random_state=42))"
   ]
  },
  {
   "cell_type": "code",
   "execution_count": 58,
   "id": "c75588bf",
   "metadata": {},
   "outputs": [
    {
     "name": "stdout",
     "output_type": "stream",
     "text": [
      "Multiclass SVM OvO TFIDF Confusion matrix: \n",
      "\n",
      "Confusion matrix, without normalization\n",
      "[[40  0  1  0  0  0  0  0]\n",
      " [ 0 56  0  0  0  1  1  1]\n",
      " [ 0  3 47  0  0  0  0  0]\n",
      " [ 4  0  0 56  1  1  0  0]\n",
      " [ 2  3  0  0 37  0  1  0]\n",
      " [ 1  2  1  1  3 32  1  1]\n",
      " [ 0  1  0  0  0  0 51  0]\n",
      " [ 0  5  0  0  1  0  1 59]]\n"
     ]
    },
    {
     "data": {
      "image/png": "[encoded data removed]",
      "text/plain": [
       "<Figure size 432x288 with 2 Axes>"
      ]
     },
     "metadata": {
      "needs_background": "light"
     },
     "output_type": "display_data"
    },
    {
     "name": "stdout",
     "output_type": "stream",
     "text": [
      "Multiclass SVM OvO TFIDF Accuracy Score: 0.9108433734939759\n",
      "Multiclass SVM OvO TFIDF Recall Score: 0.9108433734939759\n",
      "Multiclass SVM OvO TFIDF Precision Score: 0.9108433734939759\n",
      "Multiclass SVM OvO TFIDF f1 Score: 0.9108433734939759\n",
      "Multiclass SVM OvO LSI Confusion matrix: \n",
      "\n",
      "Confusion matrix, without normalization\n",
      "[[38  2  0  0  0  1  0  0]\n",
      " [ 0 57  0  0  0  1  1  0]\n",
      " [ 0  4 46  0  0  0  0  0]\n",
      " [ 1  2  0 58  0  1  0  0]\n",
      " [ 2  3  0  0 35  2  1  0]\n",
      " [ 0  3  1  2  3 31  1  1]\n",
      " [ 0  2  0  0  0  0 50  0]\n",
      " [ 0  8  0  0  0  1  2 55]]\n"
     ]
    },
    {
     "data": {
      "image/png": "[encoded data removed]",
      "text/plain": [
       "<Figure size 432x288 with 2 Axes>"
      ]
     },
     "metadata": {
      "needs_background": "light"
     },
     "output_type": "display_data"
    },
    {
     "name": "stdout",
     "output_type": "stream",
     "text": [
      "Multiclass SVM OvO LSI Accuracy Score: 0.891566265060241\n",
      "Multiclass SVM OvO LSI Recall Score: 0.891566265060241\n",
      "Multiclass SVM OvO LSI Precision Score: 0.891566265060241\n",
      "Multiclass SVM OvO LSI f1 Score: 0.891566265060241\n",
      "Multiclass SVM OvO NMF Confusion matrix: \n",
      "\n",
      "Confusion matrix, without normalization\n",
      "[[37  2  0  0  0  2  0  0]\n",
      " [ 0 53  1  0  2  2  1  0]\n",
      " [ 0  5 45  0  0  0  0  0]\n",
      " [ 1  1  0 57  1  2  0  0]\n",
      " [ 1  5  0  1 30  5  1  0]\n",
      " [ 1  4  0  2  4 29  1  1]\n",
      " [ 0  2  1  0  0  0 49  0]\n",
      " [ 0  5  1  0  2  2  2 54]]\n"
     ]
    },
    {
     "data": {
      "image/png": "[encoded data removed]",
      "text/plain": [
       "<Figure size 432x288 with 2 Axes>"
      ]
     },
     "metadata": {
      "needs_background": "light"
     },
     "output_type": "display_data"
    },
    {
     "name": "stdout",
     "output_type": "stream",
     "text": [
      "Multiclass SVM OvO NMF Accuracy Score: 0.8530120481927711\n",
      "Multiclass SVM OvO NMF Recall Score: 0.8530120481927711\n",
      "Multiclass SVM OvO NMF Precision Score: 0.8530120481927711\n",
      "Multiclass SVM OvO NMF f1 Score: 0.8530120481927711\n"
     ]
    }
   ],
   "source": [
    "labels = ['TFIDF', 'LSI', 'NMF'] #, 'LSI', 'NMF'\n",
    "classes = ['chess', \"cricket\", \"soccer\",\"football\",\"%22forest%20fire%22\",\"flood\",\"earthquake\",'drought']\n",
    "for idx, x in enumerate(X_multi_train):\n",
    "    if (idx < len(labels)):\n",
    "        # train model\n",
    "        multiclass_svm_OvO.fit(x, y_multi_train)\n",
    "        # get test results\n",
    "        multiclass_svm_OvO_pred = multiclass_svm_OvO.predict(X_multi_test[idx])\n",
    "        multiclass_svm_OvO_confusion = confusion_matrix(y_true=y_multi_test, y_pred=multiclass_svm_OvO_pred)\n",
    "        multiclass_svm_OvO_accuracy = accuracy_score(y_true=y_multi_test, y_pred=multiclass_svm_OvO_pred)\n",
    "        multiclass_svm_OvO_recall = recall_score(y_true=y_multi_test, y_pred=multiclass_svm_OvO_pred, average='micro')\n",
    "        multiclass_svm_OvO_precision = precision_score(y_true=y_multi_test, y_pred=multiclass_svm_OvO_pred, average='micro')\n",
    "        multiclass_svm_OvO_f1 = f1_score(y_true=y_multi_test, y_pred=multiclass_svm_OvO_pred, average='micro')\n",
    "        print(\"Multiclass SVM OvO \" + labels[idx] + \" Confusion matrix: \\n\")\n",
    "        plt.figure(idx)\n",
    "        plot_confusion_matrix(multiclass_svm_OvO_confusion, classes = classes)\n",
    "        print(\"Multiclass SVM OvO \" + labels[idx] + \" Accuracy Score: \" + str(multiclass_svm_OvO_accuracy))\n",
    "        print(\"Multiclass SVM OvO \" + labels[idx] + \" Recall Score: \" + str(multiclass_svm_OvO_recall))\n",
    "        print(\"Multiclass SVM OvO \" + labels[idx] + \" Precision Score: \" + str(multiclass_svm_OvO_precision))\n",
    "        print(\"Multiclass SVM OvO \" + labels[idx] + \" f1 Score: \" + str(multiclass_svm_OvO_f1))\n"
   ]
  },
  {
   "cell_type": "code",
   "execution_count": 59,
   "id": "57d31f5a",
   "metadata": {},
   "outputs": [
    {
     "name": "stdout",
     "output_type": "stream",
     "text": [
      "Multiclass SVM OvR TFIDF Confusion matrix: \n",
      "\n",
      "Confusion matrix, without normalization\n",
      "[[39  0  1  0  1  0  0  0]\n",
      " [ 0 56  0  0  0  1  1  1]\n",
      " [ 0  3 47  0  0  0  0  0]\n",
      " [ 2  0  0 59  0  1  0  0]\n",
      " [ 2  2  0  0 37  0  1  1]\n",
      " [ 0  3  1  2  3 32  0  1]\n",
      " [ 0  2  0  0  0  0 50  0]\n",
      " [ 1  3  0  0  0  0  1 61]]\n"
     ]
    },
    {
     "data": {
      "image/png": "[encoded data removed]",
      "text/plain": [
       "<Figure size 432x288 with 2 Axes>"
      ]
     },
     "metadata": {
      "needs_background": "light"
     },
     "output_type": "display_data"
    },
    {
     "name": "stdout",
     "output_type": "stream",
     "text": [
      "Multiclass SVM OvR TFIDF Accuracy Score: 0.9180722891566265\n",
      "Multiclass SVM OvR TFIDF Recall Score: 0.9180722891566265\n",
      "Multiclass SVM OvR TFIDF Precision Score: 0.9180722891566265\n",
      "Multiclass SVM OvR TFIDF f1 Score: 0.9180722891566265\n",
      "Multiclass SVM OvR LSI Confusion matrix: \n",
      "\n",
      "Confusion matrix, without normalization\n",
      "[[40  0  0  0  1  0  0  0]\n",
      " [ 0 53  0  0  3  1  1  1]\n",
      " [ 0  3 47  0  0  0  0  0]\n",
      " [ 1  0  0 60  0  1  0  0]\n",
      " [ 1  0  0  1 37  2  1  1]\n",
      " [ 0  2  1  4  3 31  0  1]\n",
      " [ 0  1  0  1  0  0 50  0]\n",
      " [ 1  2  0  1  0  0  1 61]]\n"
     ]
    },
    {
     "data": {
      "image/png": "[encoded data removed]",
      "text/plain": [
       "<Figure size 432x288 with 2 Axes>"
      ]
     },
     "metadata": {
      "needs_background": "light"
     },
     "output_type": "display_data"
    },
    {
     "name": "stdout",
     "output_type": "stream",
     "text": [
      "Multiclass SVM OvR LSI Accuracy Score: 0.9132530120481928\n",
      "Multiclass SVM OvR LSI Recall Score: 0.9132530120481928\n",
      "Multiclass SVM OvR LSI Precision Score: 0.9132530120481928\n",
      "Multiclass SVM OvR LSI f1 Score: 0.9132530120481928\n",
      "Multiclass SVM OvR NMF Confusion matrix: \n",
      "\n",
      "Confusion matrix, without normalization\n",
      "[[38  2  0  0  0  1  0  0]\n",
      " [ 0 51  1  0  4  2  1  0]\n",
      " [ 0  2 47  0  0  0  1  0]\n",
      " [ 2  1  0 57  1  1  0  0]\n",
      " [ 1  3  0  2 31  5  1  0]\n",
      " [ 2  2  1  3  4 29  0  1]\n",
      " [ 1  1  0  0  0  0 50  0]\n",
      " [ 1  3  0  0  1  1  2 58]]\n"
     ]
    },
    {
     "data": {
      "image/png": "[encoded data removed]",
      "text/plain": [
       "<Figure size 432x288 with 2 Axes>"
      ]
     },
     "metadata": {
      "needs_background": "light"
     },
     "output_type": "display_data"
    },
    {
     "name": "stdout",
     "output_type": "stream",
     "text": [
      "Multiclass SVM OvR NMF Accuracy Score: 0.8698795180722891\n",
      "Multiclass SVM OvR NMF Recall Score: 0.8698795180722891\n",
      "Multiclass SVM OvR NMF Precision Score: 0.8698795180722891\n",
      "Multiclass SVM OvR NMF f1 Score: 0.8698795180722891\n"
     ]
    }
   ],
   "source": [
    "labels = ['TFIDF', 'LSI', 'NMF'] # , 'LSI', 'NMF'\n",
    "classes = ['chess', \"cricket\", \"soccer\",\"football\",\"%22forest%20fire%22\",\"flood\",\"earthquake\",'drought']\n",
    "for idx, x in enumerate(X_multi_train):\n",
    "    if (idx < len(labels)):\n",
    "        # train model\n",
    "        multiclass_svm_OvR.fit(x, y_multi_train)\n",
    "        # get test results\n",
    "        multiclass_svm_OvR_pred = multiclass_svm_OvR.predict(X_multi_test[idx])\n",
    "        multiclass_svm_OvR_confusion = confusion_matrix(y_true=y_multi_test, y_pred=multiclass_svm_OvR_pred)\n",
    "        multiclass_svm_OvR_accuracy = accuracy_score(y_true=y_multi_test, y_pred=multiclass_svm_OvR_pred)\n",
    "        multiclass_svm_OvR_recall = recall_score(y_true=y_multi_test, y_pred=multiclass_svm_OvR_pred, average='micro')\n",
    "        multiclass_svm_OvR_precision = precision_score(y_true=y_multi_test, y_pred=multiclass_svm_OvR_pred, average='micro')\n",
    "        multiclass_svm_OvR_f1 = f1_score(y_true=y_multi_test, y_pred=multiclass_svm_OvR_pred, average='micro')\n",
    "        print(\"Multiclass SVM OvR \" + labels[idx] + \" Confusion matrix: \\n\")\n",
    "        plt.figure(idx)\n",
    "        plot_confusion_matrix(multiclass_svm_OvR_confusion, classes = classes)\n",
    "        print(\"Multiclass SVM OvR \" + labels[idx] + \" Accuracy Score: \" + str(multiclass_svm_OvR_accuracy))\n",
    "        print(\"Multiclass SVM OvR \" + labels[idx] + \" Recall Score: \" + str(multiclass_svm_OvR_recall))\n",
    "        print(\"Multiclass SVM OvR \" + labels[idx] + \" Precision Score: \" + str(multiclass_svm_OvR_precision))\n",
    "        print(\"Multiclass SVM OvR \" + labels[idx] + \" f1 Score: \" + str(multiclass_svm_OvR_f1))"
   ]
  }
 ],
 "metadata": {
  "kernelspec": {
   "display_name": "Python 3",
   "language": "python",
   "name": "python3"
  },
  "language_info": {
   "codemirror_mode": {
    "name": "ipython",
    "version": 3
   },
   "file_extension": ".py",
   "mimetype": "text/x-python",
   "name": "python",
   "nbconvert_exporter": "python",
   "pygments_lexer": "ipython3",
   "version": "3.8.8"
  }
 },
 "nbformat": 4,
 "nbformat_minor": 5
}
