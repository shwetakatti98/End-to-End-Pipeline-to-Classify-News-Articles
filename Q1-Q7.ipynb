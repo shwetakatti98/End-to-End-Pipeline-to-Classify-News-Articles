{
 "cells": [
  {
   "cell_type": "code",
   "execution_count": 56,
   "id": "16c79e5e",
   "metadata": {},
   "outputs": [],
   "source": [
    "import pandas as pd\n",
    "import numpy as np\n",
    "import matplotlib.pyplot as plt\n",
    "import nltk\n",
    "import pickle\n",
    "from collections import Counter, defaultdict\n",
    "from nltk.corpus import stopwords\n",
    "from nltk.stem import WordNetLemmatizer\n",
    "from nltk import pos_tag, word_tokenize\n",
    "from sklearn.feature_extraction.text import TfidfVectorizer\n",
    "\n",
    "from sklearn.feature_extraction.text import CountVectorizer\n",
    "from sklearn.decomposition import TruncatedSVD\n",
    "from sklearn.decomposition import NMF\n",
    "from sklearn.utils.extmath import randomized_svd\n",
    "from sklearn.linear_model import LogisticRegression\n",
    "from sklearn.naive_bayes import GaussianNB\n",
    "from sklearn import *\n",
    "from sklearn.svm import SVC, LinearSVC\n",
    "import itertools\n",
    "\n",
    "\n",
    "from sklearn.svm import LinearSVC\n",
    "from sklearn.metrics import confusion_matrix\n",
    "from sklearn.metrics import roc_curve\n",
    "from sklearn.metrics import accuracy_score\n",
    "from sklearn.metrics import precision_score\n",
    "from sklearn.metrics import recall_score\n",
    "from sklearn.metrics import f1_score\n",
    "from sklearn.metrics import auc"
   ]
  },
  {
   "cell_type": "code",
   "execution_count": 57,
   "id": "eff19094",
   "metadata": {},
   "outputs": [
    {
     "name": "stdout",
     "output_type": "stream",
     "text": [
      "Number of data points :  2072\n",
      "Number of features :  9\n"
     ]
    },
    {
     "data": {
      "text/html": [
       "<div>\n",
       "<style scoped>\n",
       "    .dataframe tbody tr th:only-of-type {\n",
       "        vertical-align: middle;\n",
       "    }\n",
       "\n",
       "    .dataframe tbody tr th {\n",
       "        vertical-align: top;\n",
       "    }\n",
       "\n",
       "    .dataframe thead th {\n",
       "        text-align: right;\n",
       "    }\n",
       "</style>\n",
       "<table border=\"1\" class=\"dataframe\">\n",
       "  <thead>\n",
       "    <tr style=\"text-align: right;\">\n",
       "      <th></th>\n",
       "      <th>Unnamed: 0</th>\n",
       "      <th>full_text</th>\n",
       "      <th>summary</th>\n",
       "      <th>keywords</th>\n",
       "      <th>publish_date</th>\n",
       "      <th>authors</th>\n",
       "      <th>url</th>\n",
       "      <th>leaf_label</th>\n",
       "      <th>root_label</th>\n",
       "    </tr>\n",
       "  </thead>\n",
       "  <tbody>\n",
       "    <tr>\n",
       "      <th>0</th>\n",
       "      <td>590</td>\n",
       "      <td>Having made a massive impact in Saudi Arabia w...</td>\n",
       "      <td>Having made a massive impact in Saudi Arabia w...</td>\n",
       "      <td>['singhs', 'rooting', 'cool', 'saudi', 'style'...</td>\n",
       "      <td>NaN</td>\n",
       "      <td>[]</td>\n",
       "      <td>https://www.msn.com/en-in/entertainment/other/...</td>\n",
       "      <td>cricket</td>\n",
       "      <td>sports</td>\n",
       "    </tr>\n",
       "    <tr>\n",
       "      <th>1</th>\n",
       "      <td>388</td>\n",
       "      <td>Cricket is all about the emotional rollercoast...</td>\n",
       "      <td>No matter which team fans hope to win, every s...</td>\n",
       "      <td>['wants', 'fans', 'finals', 'cup', 'win', 'tou...</td>\n",
       "      <td>NaN</td>\n",
       "      <td>[]</td>\n",
       "      <td>https://www.prnewswire.com:443/news-releases/c...</td>\n",
       "      <td>cricket</td>\n",
       "      <td>sports</td>\n",
       "    </tr>\n",
       "    <tr>\n",
       "      <th>2</th>\n",
       "      <td>423</td>\n",
       "      <td>New Zealand announces back-to-back tours next ...</td>\n",
       "      <td>New Zealand announces back-to-back tours next ...</td>\n",
       "      <td>['test', 'west', 'tour', 'zealand', 'world', '...</td>\n",
       "      <td>2021-12-20 00:00:00</td>\n",
       "      <td>[]</td>\n",
       "      <td>https://www.aljazeera.com/news/2021/12/20/cric...</td>\n",
       "      <td>cricket</td>\n",
       "      <td>sports</td>\n",
       "    </tr>\n",
       "    <tr>\n",
       "      <th>3</th>\n",
       "      <td>563</td>\n",
       "      <td>It's not the first time cricket fans in the co...</td>\n",
       "      <td>Billed as one of the pre-tournament favourites...</td>\n",
       "      <td>['qualify', 'afghanistan', 'cup', 'world', 'ze...</td>\n",
       "      <td>NaN</td>\n",
       "      <td>[]</td>\n",
       "      <td>https://www.msn.com/en-in/news/other/t20-world...</td>\n",
       "      <td>cricket</td>\n",
       "      <td>sports</td>\n",
       "    </tr>\n",
       "    <tr>\n",
       "      <th>4</th>\n",
       "      <td>634</td>\n",
       "      <td>An employee works on a computer terminal again...</td>\n",
       "      <td>REUTERS/Sivaram VBENGALURU, Oct 11 (Reuters Br...</td>\n",
       "      <td>['success', 'tech', 'startup', 'talent', 'onli...</td>\n",
       "      <td>2021-10-11 00:00:00</td>\n",
       "      <td>['Una Galani']</td>\n",
       "      <td>https://www.reuters.com/breakingviews/india-in...</td>\n",
       "      <td>cricket</td>\n",
       "      <td>sports</td>\n",
       "    </tr>\n",
       "  </tbody>\n",
       "</table>\n",
       "</div>"
      ],
      "text/plain": [
       "   Unnamed: 0                                          full_text  \\\n",
       "0         590  Having made a massive impact in Saudi Arabia w...   \n",
       "1         388  Cricket is all about the emotional rollercoast...   \n",
       "2         423  New Zealand announces back-to-back tours next ...   \n",
       "3         563  It's not the first time cricket fans in the co...   \n",
       "4         634  An employee works on a computer terminal again...   \n",
       "\n",
       "                                             summary  \\\n",
       "0  Having made a massive impact in Saudi Arabia w...   \n",
       "1  No matter which team fans hope to win, every s...   \n",
       "2  New Zealand announces back-to-back tours next ...   \n",
       "3  Billed as one of the pre-tournament favourites...   \n",
       "4  REUTERS/Sivaram VBENGALURU, Oct 11 (Reuters Br...   \n",
       "\n",
       "                                            keywords         publish_date  \\\n",
       "0  ['singhs', 'rooting', 'cool', 'saudi', 'style'...                  NaN   \n",
       "1  ['wants', 'fans', 'finals', 'cup', 'win', 'tou...                  NaN   \n",
       "2  ['test', 'west', 'tour', 'zealand', 'world', '...  2021-12-20 00:00:00   \n",
       "3  ['qualify', 'afghanistan', 'cup', 'world', 'ze...                  NaN   \n",
       "4  ['success', 'tech', 'startup', 'talent', 'onli...  2021-10-11 00:00:00   \n",
       "\n",
       "          authors                                                url  \\\n",
       "0              []  https://www.msn.com/en-in/entertainment/other/...   \n",
       "1              []  https://www.prnewswire.com:443/news-releases/c...   \n",
       "2              []  https://www.aljazeera.com/news/2021/12/20/cric...   \n",
       "3              []  https://www.msn.com/en-in/news/other/t20-world...   \n",
       "4  ['Una Galani']  https://www.reuters.com/breakingviews/india-in...   \n",
       "\n",
       "  leaf_label root_label  \n",
       "0    cricket     sports  \n",
       "1    cricket     sports  \n",
       "2    cricket     sports  \n",
       "3    cricket     sports  \n",
       "4    cricket     sports  "
      ]
     },
     "execution_count": 57,
     "metadata": {},
     "output_type": "execute_result"
    }
   ],
   "source": [
    "df = pd.read_csv(\"dataset.csv\")\n",
    "print('Number of data points : ', df.shape[0])\n",
    "print('Number of features : ', df.shape[1])\n",
    "df.head()"
   ]
  },
  {
   "cell_type": "code",
   "execution_count": 58,
   "id": "2b9b8c55",
   "metadata": {},
   "outputs": [
    {
     "name": "stdout",
     "output_type": "stream",
     "text": [
      "Cricket is all about the emotional rollercoaster. No matter which team fans hope to win, every single match causes you to engage mentally and emotionally, and every emotion deserves a portrait. OPPO wants to help customers capture those moments and turn them into memories, through stunning portrait photography and videography.\n",
      "\n",
      "Smashing a century in cricket is a milestone that every batsman wants to achieve, but scoring a hundred runs in the shortest format of the game is a rare accomplishment. OPPO is encouraging fans to share the essence of this superlative feat using the hashtag #OPPOCenturyMoment and get their chance to win tickets to the ICC Men's T20 World Cup finals.\n",
      "\n",
      "To enter, OPPO and cricket fans can use the hashtag #OPPOCenturyMoment while posting relevant ICC or emotion related content, tagging, and interacting with the @OPPOArabia. Whether it's a surprise turn in the match, an unexpected LBW, or just the desire to see the game live, content that is cricket relevant will be entered into a draw to win tickets to watch the final live. Lucky winners will be announced on 10th November 2021.\n",
      "\n",
      "Ethan Xue, president of OPPO MEA said, \"OPPO has always believed in promoting and celebrating the spirit of sports as evidenced by our partnership with sporting events related to tennis, football, athletics. Our association with cricket is corollary to that spirit and dates back to 2016 when we entered into a long-term partnership with ICC. Billions of people around the globe will be watching the ICC Men's T20 World Cup 2021. We want to leverage this opportunity to forge deeper bonds with consumers worldwide.\"\n",
      "\n",
      "In the run-up to the tournament, OPPO has announced a special offer on Reno6 series smartphones valid only during the tournament, as well as launching exciting raffle draw at key retail partners store across the UAE to boost the fervor brought by ICC. In addition, superfans visiting the Dubai International Stadium will have the chance to enter the OPPO Reno6 stand, to experience the newest smartphone series that debuted in September 2021.\n",
      "\n",
      "Photo - https://mma.prnewswire.com/media/1664031/OPPO_ICC.jpg\n",
      "\n",
      "Logo - https://mma.prnewswire.com/media/1451542/OPPO_Logo.jpg\n",
      "\n",
      "SOURCE OPPO\n"
     ]
    }
   ],
   "source": [
    "print(df['full_text'][1])"
   ]
  },
  {
   "cell_type": "code",
   "execution_count": 66,
   "id": "8fd98730",
   "metadata": {},
   "outputs": [
    {
     "data": {
      "text/plain": [
       "Text(0.5, 0, 'Count')"
      ]
     },
     "execution_count": 66,
     "metadata": {},
     "output_type": "execute_result"
    },
    {
     "data": {
      "image/png": "[encoded data removed]",
      "text/plain": [
       "<Figure size 1440x1440 with 1 Axes>"
      ]
     },
     "metadata": {
      "needs_background": "light"
     },
     "output_type": "display_data"
    }
   ],
   "source": [
    "df['Alpha-Numeric Count'] = df.full_text.str.len()\n",
    "ax = df.hist(column='Alpha-Numeric Count', bins=95, grid=False, figsize=(20,20), color='#86bf91', zorder=2, rwidth=0.9)\n",
    "plt.ylabel('No. of alpha-numeric characters')\n",
    "plt.xlabel('Count')"
   ]
  },
  {
   "cell_type": "code",
   "execution_count": 62,
   "id": "1cf01204",
   "metadata": {},
   "outputs": [
    {
     "data": {
      "image/png": "[encoded data removed]",
      "text/plain": [
       "<Figure size 432x288 with 1 Axes>"
      ]
     },
     "metadata": {
      "needs_background": "light"
     },
     "output_type": "display_data"
    }
   ],
   "source": [
    "from collections import Counter\n",
    "counter = Counter(df['root_label'])\n",
    "root_names = counter.keys()\n",
    "root_counts = counter.values()\n",
    "\n",
    "# Plot histogram using matplotlib bar().\n",
    "width = 0.3\n",
    "indexes = np.arange(len(root_names))\n",
    "plt.bar(indexes, root_counts, width)\n",
    "plt.xticks(indexes + width * 0.5, root_names)\n",
    "plt.ylabel('Frequency')\n",
    "plt.xlabel('Root_label')\n",
    "plt.show()"
   ]
  },
  {
   "cell_type": "code",
   "execution_count": 65,
   "id": "fd093cf8",
   "metadata": {},
   "outputs": [
    {
     "data": {
      "image/png": "[encoded data removed]",
      "text/plain": [
       "<Figure size 432x288 with 1 Axes>"
      ]
     },
     "metadata": {
      "needs_background": "light"
     },
     "output_type": "display_data"
    }
   ],
   "source": [
    "counter = Counter(df['leaf_label'])\n",
    "leaf_names = counter.keys()\n",
    "leaf_counts = counter.values()\n",
    "\n",
    "# Plot histogram using matplotlib bar().\n",
    "indexes = np.arange(len(leaf_names))\n",
    "plt.bar(indexes, leaf_counts, width)\n",
    "plt.xticks(indexes + width * 0.5, leaf_names, rotation =90)\n",
    "plt.ylabel('Frequency')\n",
    "plt.xlabel('Leaf_label')\n",
    "plt.show()"
   ]
  },
  {
   "cell_type": "code",
   "execution_count": 9,
   "id": "b66715f7",
   "metadata": {},
   "outputs": [],
   "source": [
    "from sklearn.model_selection import train_test_split\n",
    "train, test = train_test_split(df[[\"full_text\",\"root_label\"]], test_size=0.2)"
   ]
  },
  {
   "cell_type": "code",
   "execution_count": 10,
   "id": "fa13eb4f",
   "metadata": {},
   "outputs": [
    {
     "data": {
      "text/plain": [
       "1175    First-ever use of tree DNA in prosecution send...\n",
       "148     © Getty Images Pakistan defeated India by 10 w...\n",
       "1296    On September 1, 2021, the remnants of Hurrican...\n",
       "1053    Our Most Popular Magazines + Digital\\n\\nWe get...\n",
       "835     A scholarship has now been established to hono...\n",
       "                              ...                        \n",
       "2040    (Des Moines, IA) -- Iowa Farmers have harveste...\n",
       "434     – FOX Sports released some clips of WWE Champi...\n",
       "161     The notion of biting into a bug or chewing on ...\n",
       "681     Houston is in the running to be named one of 1...\n",
       "877     © AFP Magnus Carlsen retains his title of worl...\n",
       "Name: full_text, Length: 1657, dtype: object"
      ]
     },
     "execution_count": 10,
     "metadata": {},
     "output_type": "execute_result"
    }
   ],
   "source": [
    "train['full_text']"
   ]
  },
  {
   "cell_type": "code",
   "execution_count": 11,
   "id": "713ee669",
   "metadata": {},
   "outputs": [
    {
     "data": {
      "text/html": [
       "<div>\n",
       "<style scoped>\n",
       "    .dataframe tbody tr th:only-of-type {\n",
       "        vertical-align: middle;\n",
       "    }\n",
       "\n",
       "    .dataframe tbody tr th {\n",
       "        vertical-align: top;\n",
       "    }\n",
       "\n",
       "    .dataframe thead th {\n",
       "        text-align: right;\n",
       "    }\n",
       "</style>\n",
       "<table border=\"1\" class=\"dataframe\">\n",
       "  <thead>\n",
       "    <tr style=\"text-align: right;\">\n",
       "      <th></th>\n",
       "      <th>full_text</th>\n",
       "      <th>root_label</th>\n",
       "    </tr>\n",
       "  </thead>\n",
       "  <tbody>\n",
       "    <tr>\n",
       "      <th>858</th>\n",
       "      <td>If you want to have a backup of Windows 11 ins...</td>\n",
       "      <td>sports</td>\n",
       "    </tr>\n",
       "    <tr>\n",
       "      <th>903</th>\n",
       "      <td>The rickety system that determines glory in gl...</td>\n",
       "      <td>sports</td>\n",
       "    </tr>\n",
       "    <tr>\n",
       "      <th>28</th>\n",
       "      <td>Western Australian cricket officials have resp...</td>\n",
       "      <td>sports</td>\n",
       "    </tr>\n",
       "    <tr>\n",
       "      <th>378</th>\n",
       "      <td>Giants begin Raiders prep with 3 players in CO...</td>\n",
       "      <td>sports</td>\n",
       "    </tr>\n",
       "    <tr>\n",
       "      <th>1692</th>\n",
       "      <td>The Jason Takes Manhattan-esque horror comic M...</td>\n",
       "      <td>climate</td>\n",
       "    </tr>\n",
       "    <tr>\n",
       "      <th>...</th>\n",
       "      <td>...</td>\n",
       "      <td>...</td>\n",
       "    </tr>\n",
       "    <tr>\n",
       "      <th>380</th>\n",
       "      <td>The Cardinals will face veteran quarterback An...</td>\n",
       "      <td>sports</td>\n",
       "    </tr>\n",
       "    <tr>\n",
       "      <th>809</th>\n",
       "      <td>NEW YORK, N.Y., Nov 05, 2021 (SEND2PRESS NEWSW...</td>\n",
       "      <td>sports</td>\n",
       "    </tr>\n",
       "    <tr>\n",
       "      <th>1101</th>\n",
       "      <td>Opinion Article\\n\\n4 October 2021\\n\\nLast year...</td>\n",
       "      <td>climate</td>\n",
       "    </tr>\n",
       "    <tr>\n",
       "      <th>151</th>\n",
       "      <td>When a much-awaited film has been delayed and ...</td>\n",
       "      <td>sports</td>\n",
       "    </tr>\n",
       "    <tr>\n",
       "      <th>1415</th>\n",
       "      <td>Stay up to date on COVID-19\\n\\nGet Breaking Ne...</td>\n",
       "      <td>climate</td>\n",
       "    </tr>\n",
       "  </tbody>\n",
       "</table>\n",
       "<p>415 rows × 2 columns</p>\n",
       "</div>"
      ],
      "text/plain": [
       "                                              full_text root_label\n",
       "858   If you want to have a backup of Windows 11 ins...     sports\n",
       "903   The rickety system that determines glory in gl...     sports\n",
       "28    Western Australian cricket officials have resp...     sports\n",
       "378   Giants begin Raiders prep with 3 players in CO...     sports\n",
       "1692  The Jason Takes Manhattan-esque horror comic M...    climate\n",
       "...                                                 ...        ...\n",
       "380   The Cardinals will face veteran quarterback An...     sports\n",
       "809   NEW YORK, N.Y., Nov 05, 2021 (SEND2PRESS NEWSW...     sports\n",
       "1101  Opinion Article\\n\\n4 October 2021\\n\\nLast year...    climate\n",
       "151   When a much-awaited film has been delayed and ...     sports\n",
       "1415  Stay up to date on COVID-19\\n\\nGet Breaking Ne...    climate\n",
       "\n",
       "[415 rows x 2 columns]"
      ]
     },
     "execution_count": 11,
     "metadata": {},
     "output_type": "execute_result"
    }
   ],
   "source": [
    "test"
   ]
  },
  {
   "cell_type": "code",
   "execution_count": 12,
   "id": "da6ac2c7",
   "metadata": {},
   "outputs": [],
   "source": [
    "#train_unclean, test_unclean = train_test_split(df[[\"full_text\",\"root_label\"]], test_size=0.2)"
   ]
  },
  {
   "cell_type": "code",
   "execution_count": 13,
   "id": "fa1bed9c",
   "metadata": {},
   "outputs": [
    {
     "name": "stdout",
     "output_type": "stream",
     "text": [
      "Number of data points in train data: 1657\n",
      "Number of data points in test data: 415\n"
     ]
    }
   ],
   "source": [
    "print('Number of data points in train data:', train.shape[0])\n",
    "print('Number of data points in test data:', test.shape[0])"
   ]
  },
  {
   "cell_type": "markdown",
   "id": "1c0939e9",
   "metadata": {},
   "source": [
    "### FEATURE EXTRACTION"
   ]
  },
  {
   "cell_type": "code",
   "execution_count": 14,
   "id": "216495b5",
   "metadata": {},
   "outputs": [],
   "source": [
    "import re\n",
    "def clean(text):\n",
    "    text = re.sub(r\"http\\S+\", '', text, flags=re.MULTILINE)\n",
    "    texter = re.sub(r\"<br />\", \" \", text)\n",
    "    texter = re.sub(r\"&quot;\", \"\\\"\",texter)\n",
    "    texter = re.sub('&#39;', \"\\\"\", texter)\n",
    "    texter = re.sub('\\n', \" \", texter)\n",
    "    texter = re.sub(' u ',\" you \", texter)\n",
    "    texter = re.sub('`',\"\", texter)\n",
    "    texter = re.sub(' +', ' ', texter)\n",
    "    texter = re.sub(r\"(!)\\1+\", r\"!\", texter)\n",
    "    texter = re.sub(r\"(\\?)\\1+\", r\"?\", texter)\n",
    "    texter = re.sub('&amp;', 'and', texter)\n",
    "    texter = re.sub('\\r', ' ',texter)\n",
    "    texter = re.sub(r\"[0-9]\",\"\", texter)\n",
    "    texter = re.sub('[^a-zA-Z0-9\\n]', ' ', texter)\n",
    "    texter = re.sub('\\s+',' ', texter)\n",
    "    texter = texter.lower()\n",
    "    clean = re.compile('<.*?>')\n",
    "    texter = texter.encode('ascii', 'ignore').decode('ascii')\n",
    "    texter = re.sub(clean, '', texter)\n",
    "    if texter == \"\":\n",
    "        texter = \"\"\n",
    "    return texter"
   ]
  },
  {
   "cell_type": "code",
   "execution_count": 15,
   "id": "ca35c1c0",
   "metadata": {},
   "outputs": [],
   "source": [
    "train_clean = train['full_text'].apply(clean)"
   ]
  },
  {
   "cell_type": "code",
   "execution_count": 16,
   "id": "c0c882ed",
   "metadata": {},
   "outputs": [
    {
     "data": {
      "text/plain": [
       "1175    first ever use of tree dna in prosecution send...\n",
       "148      getty images pakistan defeated india by wicke...\n",
       "1296    on september the remnants of hurricane ida str...\n",
       "1053    our most popular magazines digital we get it y...\n",
       "835     a scholarship has now been established to hono...\n",
       "                              ...                        \n",
       "2040     des moines ia iowa farmers have harvested nea...\n",
       "434      fox sports released some clips of wwe champio...\n",
       "161     the notion of biting into a bug or chewing on ...\n",
       "681     houston is in the running to be named one of u...\n",
       "877      afp magnus carlsen retains his title of world...\n",
       "Name: full_text, Length: 1657, dtype: object"
      ]
     },
     "execution_count": 16,
     "metadata": {},
     "output_type": "execute_result"
    }
   ],
   "source": [
    "train_clean"
   ]
  },
  {
   "cell_type": "code",
   "execution_count": 17,
   "id": "534089ee",
   "metadata": {},
   "outputs": [
    {
     "data": {
      "text/html": [
       "<div>\n",
       "<style scoped>\n",
       "    .dataframe tbody tr th:only-of-type {\n",
       "        vertical-align: middle;\n",
       "    }\n",
       "\n",
       "    .dataframe tbody tr th {\n",
       "        vertical-align: top;\n",
       "    }\n",
       "\n",
       "    .dataframe thead th {\n",
       "        text-align: right;\n",
       "    }\n",
       "</style>\n",
       "<table border=\"1\" class=\"dataframe\">\n",
       "  <thead>\n",
       "    <tr style=\"text-align: right;\">\n",
       "      <th></th>\n",
       "      <th>full_text</th>\n",
       "      <th>root_label</th>\n",
       "    </tr>\n",
       "  </thead>\n",
       "  <tbody>\n",
       "    <tr>\n",
       "      <th>1175</th>\n",
       "      <td>First-ever use of tree DNA in prosecution send...</td>\n",
       "      <td>climate</td>\n",
       "    </tr>\n",
       "    <tr>\n",
       "      <th>148</th>\n",
       "      <td>© Getty Images Pakistan defeated India by 10 w...</td>\n",
       "      <td>sports</td>\n",
       "    </tr>\n",
       "    <tr>\n",
       "      <th>1296</th>\n",
       "      <td>On September 1, 2021, the remnants of Hurrican...</td>\n",
       "      <td>climate</td>\n",
       "    </tr>\n",
       "    <tr>\n",
       "      <th>1053</th>\n",
       "      <td>Our Most Popular Magazines + Digital\\n\\nWe get...</td>\n",
       "      <td>climate</td>\n",
       "    </tr>\n",
       "    <tr>\n",
       "      <th>835</th>\n",
       "      <td>A scholarship has now been established to hono...</td>\n",
       "      <td>sports</td>\n",
       "    </tr>\n",
       "    <tr>\n",
       "      <th>...</th>\n",
       "      <td>...</td>\n",
       "      <td>...</td>\n",
       "    </tr>\n",
       "    <tr>\n",
       "      <th>2040</th>\n",
       "      <td>(Des Moines, IA) -- Iowa Farmers have harveste...</td>\n",
       "      <td>climate</td>\n",
       "    </tr>\n",
       "    <tr>\n",
       "      <th>434</th>\n",
       "      <td>– FOX Sports released some clips of WWE Champi...</td>\n",
       "      <td>sports</td>\n",
       "    </tr>\n",
       "    <tr>\n",
       "      <th>161</th>\n",
       "      <td>The notion of biting into a bug or chewing on ...</td>\n",
       "      <td>sports</td>\n",
       "    </tr>\n",
       "    <tr>\n",
       "      <th>681</th>\n",
       "      <td>Houston is in the running to be named one of 1...</td>\n",
       "      <td>sports</td>\n",
       "    </tr>\n",
       "    <tr>\n",
       "      <th>877</th>\n",
       "      <td>© AFP Magnus Carlsen retains his title of worl...</td>\n",
       "      <td>sports</td>\n",
       "    </tr>\n",
       "  </tbody>\n",
       "</table>\n",
       "<p>1657 rows × 2 columns</p>\n",
       "</div>"
      ],
      "text/plain": [
       "                                              full_text root_label\n",
       "1175  First-ever use of tree DNA in prosecution send...    climate\n",
       "148   © Getty Images Pakistan defeated India by 10 w...     sports\n",
       "1296  On September 1, 2021, the remnants of Hurrican...    climate\n",
       "1053  Our Most Popular Magazines + Digital\\n\\nWe get...    climate\n",
       "835   A scholarship has now been established to hono...     sports\n",
       "...                                                 ...        ...\n",
       "2040  (Des Moines, IA) -- Iowa Farmers have harveste...    climate\n",
       "434   – FOX Sports released some clips of WWE Champi...     sports\n",
       "161   The notion of biting into a bug or chewing on ...     sports\n",
       "681   Houston is in the running to be named one of 1...     sports\n",
       "877   © AFP Magnus Carlsen retains his title of worl...     sports\n",
       "\n",
       "[1657 rows x 2 columns]"
      ]
     },
     "execution_count": 17,
     "metadata": {},
     "output_type": "execute_result"
    }
   ],
   "source": [
    "train"
   ]
  },
  {
   "cell_type": "code",
   "execution_count": 18,
   "id": "e875a64e",
   "metadata": {},
   "outputs": [
    {
     "data": {
      "text/plain": [
       "'cricket is all about the emotional rollercoaster no matter which team fans hope to win every single match causes you to engage mentally and emotionally and every emotion deserves a portrait oppo wants to help customers capture those moments and turn them into memories through stunning portrait photography and videography smashing a century in cricket is a milestone that every batsman wants to achieve but scoring a hundred runs in the shortest format of the game is a rare accomplishment oppo is encouraging fans to share the essence of this superlative feat using the hashtag oppocenturymoment and get their chance to win tickets to the icc men s t world cup finals to enter oppo and cricket fans can use the hashtag oppocenturymoment while posting relevant icc or emotion related content tagging and interacting with the oppoarabia whether it s a surprise turn in the match an unexpected lbw or just the desire to see the game live content that is cricket relevant will be entered into a draw to win tickets to watch the final live lucky winners will be announced on th november ethan xue president of oppo mea said oppo has always believed in promoting and celebrating the spirit of sports as evidenced by our partnership with sporting events related to tennis football athletics our association with cricket is corollary to that spirit and dates back to when we entered into a long term partnership with icc billions of people around the globe will be watching the icc men s t world cup we want to leverage this opportunity to forge deeper bonds with consumers worldwide in the run up to the tournament oppo has announced a special offer on reno series smartphones valid only during the tournament as well as launching exciting raffle draw at key retail partners store across the uae to boost the fervor brought by icc in addition superfans visiting the dubai international stadium will have the chance to enter the oppo reno stand to experience the newest smartphone series that debuted in september photo logo source oppo'"
      ]
     },
     "execution_count": 18,
     "metadata": {},
     "output_type": "execute_result"
    }
   ],
   "source": [
    "train['full_text']= train['full_text'].apply(clean)\n",
    "train['full_text'][1]"
   ]
  },
  {
   "cell_type": "code",
   "execution_count": 74,
   "id": "5ab0b646",
   "metadata": {},
   "outputs": [
    {
     "name": "stdout",
     "output_type": "stream",
     "text": [
      "Size of training data after lemmatization but before TF-IDF:  (1657, 10159)\n",
      "Size of testing data after lemmatization but before TF-IDF:   (415, 10159)\n",
      "Shape of train TF-IDF matrix:  (1657, 10159)\n",
      "Shape of test TF-IDF matrix:   (415, 10159)\n"
     ]
    }
   ],
   "source": [
    "from sklearn.feature_extraction.text import CountVectorizer\n",
    "import nltk\n",
    "from nltk import pos_tag\n",
    "from pickle import dump\n",
    "\n",
    "counts = []\n",
    "\n",
    "wnl = nltk.wordnet.WordNetLemmatizer()\n",
    "analyzer = CountVectorizer().build_analyzer()\n",
    "\n",
    "def penn2morphy(penntag):\n",
    "    \"\"\" Converts Penn Treebank tags to WordNet. \"\"\"\n",
    "    morphy_tag = {'NN':'n', 'JJ':'a',\n",
    "                  'VB':'v', 'RB':'r'}\n",
    "    try:\n",
    "        return morphy_tag[penntag[:2]]\n",
    "    except:\n",
    "        return 'n'\n",
    "\n",
    "def lemmatize_sent(list_word):\n",
    "    # Text input is string, returns array of lowercased strings(words).\n",
    "    return [wnl.lemmatize(word.lower(), pos=penn2morphy(tag)) \n",
    "            for word, tag in pos_tag(list_word)]\n",
    "\n",
    "\n",
    "def rmv_nums(doc):\n",
    "    #gets rid of numbers including floats\n",
    "    #does lemmatization with nltk.wordnet.WordNetLemmatizer and pos_tag\n",
    "    return (word for word in lemmatize_sent(analyzer(doc)) \n",
    "            if not word.isdigit())\n",
    "\n",
    "#CountVectorizer returns a callable that handles preprocessing and tokenization\n",
    "#Use the “english” stopwords of the CountVectorizer\n",
    "vectorizer=CountVectorizer(analyzer=rmv_nums,min_df=3,stop_words='english')\n",
    "\n",
    "#do feature extraction (train):\n",
    "X_train_counts=vectorizer.fit_transform(train[\"full_text\"]) #get matrix of doc-term counts (training data)\n",
    "print('Size of training data after lemmatization but before TF-IDF: ', X_train_counts.shape) \n",
    "X_test_counts=vectorizer.transform(test[\"full_text\"]) \n",
    "print('Size of testing data after lemmatization but before TF-IDF:  ', X_test_counts.shape) \n",
    "\n",
    "from sklearn.feature_extraction.text import TfidfTransformer\n",
    "tfidf_transformer = TfidfTransformer()\n",
    "X_train_tfidf = tfidf_transformer.fit_transform(X_train_counts)\n",
    "print('Shape of train TF-IDF matrix: ',X_train_tfidf.shape)\n",
    "X_test_tfidf = tfidf_transformer.transform(X_test_counts)\n",
    "print('Shape of test TF-IDF matrix:  ',X_test_tfidf.shape)"
   ]
  },
  {
   "cell_type": "code",
   "execution_count": 20,
   "id": "e4de8872",
   "metadata": {},
   "outputs": [
    {
     "data": {
      "text/plain": [
       "CountVectorizer(analyzer=<function rmv_nums at 0x7f80a04d1f70>, min_df=3,\n",
       "                stop_words='english')"
      ]
     },
     "execution_count": 20,
     "metadata": {},
     "output_type": "execute_result"
    }
   ],
   "source": [
    "vectorizer"
   ]
  },
  {
   "cell_type": "code",
   "execution_count": 21,
   "id": "baa324e2",
   "metadata": {},
   "outputs": [
    {
     "data": {
      "text/plain": [
       "1175    first ever use of tree dna in prosecution send...\n",
       "148      getty images pakistan defeated india by wicke...\n",
       "1296    on september the remnants of hurricane ida str...\n",
       "1053    our most popular magazines digital we get it y...\n",
       "835     a scholarship has now been established to hono...\n",
       "                              ...                        \n",
       "2040     des moines ia iowa farmers have harvested nea...\n",
       "434      fox sports released some clips of wwe champio...\n",
       "161     the notion of biting into a bug or chewing on ...\n",
       "681     houston is in the running to be named one of u...\n",
       "877      afp magnus carlsen retains his title of world...\n",
       "Name: full_text, Length: 1657, dtype: object"
      ]
     },
     "execution_count": 21,
     "metadata": {},
     "output_type": "execute_result"
    }
   ],
   "source": [
    "train['full_text']"
   ]
  },
  {
   "cell_type": "markdown",
   "id": "9b85c83a",
   "metadata": {},
   "source": [
    "### Dimensionality Reduction"
   ]
  },
  {
   "cell_type": "code",
   "execution_count": 75,
   "id": "549cb058",
   "metadata": {},
   "outputs": [
    {
     "name": "stdout",
     "output_type": "stream",
     "text": [
      "LSI train:\n",
      "(1657, 50)\n",
      "LSI test:\n",
      "(415, 50)\n"
     ]
    }
   ],
   "source": [
    "from sklearn.decomposition import TruncatedSVD\n",
    "\n",
    "svd = TruncatedSVD(n_components=50, random_state=42, n_iter = 7)\n",
    "X_train_LSI = svd.fit_transform(X_train_tfidf)\n",
    "X_test_LSI = svd.transform(X_test_tfidf)\n",
    "print('LSI train:')\n",
    "print(X_train_LSI.shape)\n",
    "print('LSI test:')\n",
    "print(X_test_LSI.shape)"
   ]
  },
  {
   "cell_type": "code",
   "execution_count": 76,
   "id": "92d930e4",
   "metadata": {},
   "outputs": [
    {
     "name": "stdout",
     "output_type": "stream",
     "text": [
      "NMF train:\n",
      "(1657, 50)\n",
      "NMF test:\n",
      "(415, 50)\n"
     ]
    }
   ],
   "source": [
    "from sklearn.decomposition import NMF\n",
    "nmf = NMF(n_components=50, init = 'random', random_state=42, max_iter=1000)\n",
    "X_train_NMF = nmf.fit_transform(X_train_tfidf)\n",
    "X_test_NMF = nmf.transform(X_test_tfidf)\n",
    "print('NMF train:')\n",
    "print(X_train_NMF.shape)\n",
    "print('NMF test:')\n",
    "print(X_test_NMF.shape)"
   ]
  },
  {
   "cell_type": "code",
   "execution_count": 81,
   "id": "699860cb",
   "metadata": {},
   "outputs": [
    {
     "name": "stdout",
     "output_type": "stream",
     "text": [
      "Frobenius Norm for LSI train data: \n",
      "31.79317655905423\n",
      "Frobenius Norm for LSI test data: \n",
      "15.032038613679044\n"
     ]
    }
   ],
   "source": [
    "from sklearn.utils.extmath import randomized_svd\n",
    "u,sigma,vt = randomized_svd(X_train_tfidf,n_components=50, random_state = 42)\n",
    "x_50 = np.dot(np.dot(u,np.diag(sigma)),vt)\n",
    "lsi_frobenius = np.sqrt(np.sum(np.square(x_50-X_train_tfidf)))\n",
    "print(\"Frobenius Norm for LSI train data: \\n\" + str(lsi_frobenius))\n",
    "\n",
    "u1,sigma1,vt1 = randomized_svd(X_test_tfidf,n_components=50, random_state = 42)\n",
    "x_50_test = np.dot(np.dot(u1,np.diag(sigma1)),vt1)\n",
    "lsi_frobenius_test = np.sqrt(np.sum(np.square(x_50_test - X_test_tfidf)))\n",
    "print(\"Frobenius Norm for LSI test data: \\n\" + str(lsi_frobenius_test))"
   ]
  },
  {
   "cell_type": "code",
   "execution_count": 25,
   "id": "0f40b6ea",
   "metadata": {},
   "outputs": [
    {
     "name": "stdout",
     "output_type": "stream",
     "text": [
      "[0.01634057 0.02099129 0.01771149 0.0162266  0.01377163 0.01227145\n",
      " 0.01057294 0.01026353 0.00974354 0.00846665 0.00809612 0.00779402\n",
      " 0.00773137 0.00679451 0.00614209 0.00553592 0.0053271  0.00477895\n",
      " 0.00441257 0.00428568 0.00416356 0.0041501  0.00395493 0.00391727\n",
      " 0.00377559 0.00371537 0.00365749 0.00362491 0.0035477  0.00343153\n",
      " 0.0033572  0.00331609 0.00321985 0.00317847 0.00315384 0.00304364\n",
      " 0.00297803 0.00295594 0.00284428 0.00284126 0.00275195 0.00274358\n",
      " 0.00267233 0.0026652  0.0026433  0.00259663 0.00255216 0.00251017\n",
      " 0.00248061 0.00244856]\n"
     ]
    }
   ],
   "source": [
    "print(svd.explained_variance_ratio_)"
   ]
  },
  {
   "cell_type": "code",
   "execution_count": 26,
   "id": "38b33a56",
   "metadata": {},
   "outputs": [
    {
     "name": "stdout",
     "output_type": "stream",
     "text": [
      "0.29214958645171857\n"
     ]
    }
   ],
   "source": [
    "print(svd.explained_variance_ratio_.sum())"
   ]
  },
  {
   "cell_type": "code",
   "execution_count": 69,
   "id": "03efacac",
   "metadata": {},
   "outputs": [
    {
     "data": {
      "text/plain": [
       "Text(0.5, 0, 'k')"
      ]
     },
     "execution_count": 69,
     "metadata": {},
     "output_type": "execute_result"
    },
    {
     "data": {
      "image/png": "[encoded data removed]",
      "text/plain": [
       "<Figure size 432x288 with 1 Axes>"
      ]
     },
     "metadata": {
      "needs_background": "light"
     },
     "output_type": "display_data"
    }
   ],
   "source": [
    "from sklearn.decomposition import TruncatedSVD\n",
    "\n",
    "def LSI_compute (num_comp):\n",
    "    svd1 = TruncatedSVD(n_components=num_comp, random_state=42, n_iter = 7)\n",
    "    X_train_LSI_1 = svd1.fit_transform(X_train_tfidf)\n",
    "    X_test_LSI_1 = svd1.transform(X_test_tfidf)\n",
    "    return svd1.explained_variance_ratio_.sum()\n",
    "\n",
    "k = [1,10,50,100,200,500,1000,2000]\n",
    "final_variance = []\n",
    "for i in k :\n",
    "    final_variance.append(LSI_compute(i))\n",
    "    \n",
    "plt.plot(k,final_variance)\n",
    "plt.ylabel('Explained Variance Ratio')\n",
    "plt.xlabel('k')"
   ]
  },
  {
   "cell_type": "code",
   "execution_count": 70,
   "id": "722333b4",
   "metadata": {},
   "outputs": [
    {
     "data": {
      "text/plain": [
       "Text(0.5, 0, 'k')"
      ]
     },
     "execution_count": 70,
     "metadata": {},
     "output_type": "execute_result"
    },
    {
     "data": {
      "image/png": "[encoded data removed]",
      "text/plain": [
       "<Figure size 432x288 with 1 Axes>"
      ]
     },
     "metadata": {
      "needs_background": "light"
     },
     "output_type": "display_data"
    }
   ],
   "source": [
    "k1 = [1,10,50,100,200,500,1000,2000,2500,3000,5000]\n",
    "final_variance = []\n",
    "for i in k1 :\n",
    "    final_variance.append(LSI_compute(i))\n",
    "    \n",
    "plt.plot(k1,final_variance)\n",
    "plt.ylabel('Explained Variance Ratio')\n",
    "plt.xlabel('k')"
   ]
  },
  {
   "cell_type": "code",
   "execution_count": 83,
   "id": "569a883f",
   "metadata": {},
   "outputs": [
    {
     "name": "stdout",
     "output_type": "stream",
     "text": [
      "NMF Frobenius Norm for train data:\n",
      "32.1469440048339\n",
      "NMF Frobenius Norm for test data:\n",
      "16.465989044673552\n"
     ]
    }
   ],
   "source": [
    "WH = np.dot(X_train_NMF, nmf.components_)\n",
    "nmf_frobenius = np.sqrt(np.sum(np.square(WH-X_train_tfidf)))\n",
    "print(\"NMF Frobenius Norm for train data:\\n\" + str(nmf_frobenius))\n",
    "\n",
    "WH1 = np.dot(X_test_NMF, nmf.components_)\n",
    "nmf_frobenius1 = np.sqrt(np.sum(np.square(WH1-X_test_tfidf)))\n",
    "print(\"NMF Frobenius Norm for test data:\\n\" + str(nmf_frobenius1))"
   ]
  },
  {
   "cell_type": "code",
   "execution_count": 29,
   "id": "f5a40c66",
   "metadata": {},
   "outputs": [
    {
     "name": "stdout",
     "output_type": "stream",
     "text": [
      "Training Set\n",
      "\n",
      "Original train_dataset:\n",
      "1175    climate\n",
      "148      sports\n",
      "1296    climate\n",
      "1053    climate\n",
      "835      sports\n",
      "687      sports\n",
      "969      sports\n",
      "649      sports\n",
      "1014     sports\n",
      "1337    climate\n",
      "1646    climate\n",
      "220      sports\n",
      "124      sports\n",
      "897      sports\n",
      "1333    climate\n",
      "876      sports\n",
      "1156    climate\n",
      "899      sports\n",
      "1625    climate\n",
      "898      sports\n",
      "Name: root_label, dtype: object\n",
      "\n",
      "Binarized train_dataset:\n",
      "1175    1\n",
      "148     0\n",
      "1296    1\n",
      "1053    1\n",
      "835     0\n",
      "687     0\n",
      "969     0\n",
      "649     0\n",
      "1014    0\n",
      "1337    1\n",
      "1646    1\n",
      "220     0\n",
      "124     0\n",
      "897     0\n",
      "1333    1\n",
      "876     0\n",
      "1156    1\n",
      "899     0\n",
      "1625    1\n",
      "898     0\n",
      "Name: root_label, dtype: object\n",
      "\n",
      "Test Set\n",
      "\n",
      "Original test_dataset:\n",
      "858      sports\n",
      "903      sports\n",
      "28       sports\n",
      "378      sports\n",
      "1692    climate\n",
      "1857    climate\n",
      "367      sports\n",
      "1166    climate\n",
      "1730    climate\n",
      "55       sports\n",
      "495      sports\n",
      "2020    climate\n",
      "1577    climate\n",
      "394      sports\n",
      "682      sports\n",
      "1837    climate\n",
      "1008     sports\n",
      "428      sports\n",
      "1278    climate\n",
      "2024    climate\n",
      "Name: root_label, dtype: object\n",
      "\n",
      "Binarized test_dataset:\n",
      "858     0\n",
      "903     0\n",
      "28      0\n",
      "378     0\n",
      "1692    1\n",
      "1857    1\n",
      "367     0\n",
      "1166    1\n",
      "1730    1\n",
      "55      0\n",
      "495     0\n",
      "2020    1\n",
      "1577    1\n",
      "394     0\n",
      "682     0\n",
      "1837    1\n",
      "1008    0\n",
      "428     0\n",
      "1278    1\n",
      "2024    1\n",
      "Name: root_label, dtype: object\n"
     ]
    }
   ],
   "source": [
    "y_train_encoded = train[\"root_label\"].copy()\n",
    "y_test_encoded = test[\"root_label\"].copy()\n",
    "\n",
    "y_train_encoded[y_train_encoded == 'sports'] = 0\n",
    "y_test_encoded[y_test_encoded == 'sports'] = 0\n",
    "\n",
    "\n",
    "y_train_encoded[y_train_encoded== 'climate'] = 1\n",
    "y_test_encoded[y_test_encoded == 'climate'] = 1\n",
    "\n",
    "print(\"Training Set\\n\")\n",
    "print(\"Original train_dataset:\\n\" + str(train[\"root_label\"][0:20]))\n",
    "print(\"\\nBinarized train_dataset:\\n\" + str(y_train_encoded[0:20]))\n",
    "print(\"\\nTest Set\\n\")\n",
    "print(\"Original test_dataset:\\n\" + str(test[\"root_label\"][0:20]))\n",
    "print(\"\\nBinarized test_dataset:\\n\" + str(y_test_encoded[0:20]))"
   ]
  },
  {
   "cell_type": "markdown",
   "id": "81b489a0",
   "metadata": {},
   "source": [
    "### SVM"
   ]
  },
  {
   "cell_type": "code",
   "execution_count": 30,
   "id": "f93776de",
   "metadata": {},
   "outputs": [],
   "source": [
    "def plot_confusion_matrix(cm,\n",
    "                          normalize=False,\n",
    "                          title='Confusion matrix',\n",
    "                          cmap=plt.cm.Blues,\n",
    "                          classes = ['sports', 'climate']\n",
    "):\n",
    "    \"\"\"\n",
    "    This function prints and plots the confusion matrix.\n",
    "    Normalization can be applied by setting `normalize=True`.\n",
    "    \"\"\"\n",
    "    if normalize:\n",
    "        cm = cm.astype('float') / cm.sum(axis=1)[:, np.newaxis]\n",
    "        print(\"Normalized confusion matrix\")\n",
    "    else:\n",
    "        print('Confusion matrix, without normalization')\n",
    "\n",
    "    print(cm)\n",
    "\n",
    "    plt.imshow(cm, interpolation='nearest', cmap=cmap)\n",
    "    plt.title(title)\n",
    "    plt.colorbar()\n",
    "    tick_marks = np.arange(len(classes))\n",
    "    plt.xticks(tick_marks, classes, rotation=45)\n",
    "    plt.yticks(tick_marks, classes)\n",
    "\n",
    "    fmt = '.2f' if normalize else 'd'\n",
    "    thresh = cm.max() / 2.\n",
    "    for i, j in itertools.product(range(cm.shape[0]), range(cm.shape[1])):\n",
    "        plt.text(j, i, format(cm[i, j], fmt),\n",
    "                 horizontalalignment=\"center\",\n",
    "                 color=\"white\" if cm[i, j] > thresh else \"black\")\n",
    "\n",
    "    plt.tight_layout()\n",
    "    plt.ylabel('True label')\n",
    "    plt.xlabel('Predicted label')\n",
    "    plt.show()"
   ]
  },
  {
   "cell_type": "code",
   "execution_count": 31,
   "id": "f8b826a7",
   "metadata": {},
   "outputs": [],
   "source": [
    "def calculate_fpr_tpr(prob_func, labels):\n",
    "#     scores = model.decision_function(data)\n",
    "    fpr, tpr, thresholds = metrics.roc_curve(labels,prob_func,pos_label=1)\n",
    "    return fpr, tpr\n",
    "\n",
    "def predict_calculate_svc(train_set, test_set, binary_train_target, binary_test_target, gamma='auto', C=1.0):\n",
    "    plt.gcf().clear()\n",
    "    svc = svm.SVC(C = C, probability=True, kernel='linear')\n",
    "    svc.fit(train_set, binary_train_target)\n",
    "    svc_predicted = svc.predict(test_set)\n",
    "\n",
    "    print('gamma: '+ str(gamma))\n",
    "    print('Accuracy: ' + str(metrics.accuracy_score(binary_test_target.ravel(), svc_predicted)))\n",
    "    print('Precision: ' + str(metrics.precision_score(binary_test_target.ravel(), svc_predicted)))\n",
    "    print('Recall: ' + str(metrics.recall_score(binary_test_target.ravel(), svc_predicted)))\n",
    "    print('F-1 Score: ' + str(metrics.f1_score(binary_test_target.ravel(), svc_predicted)))\n",
    "    \n",
    "    #compute confusion matrix\n",
    "    cnf_matrix = metrics.confusion_matrix(binary_test_target, svc_predicted)\n",
    "    np.set_printoptions(precision=2)\n",
    "\n",
    "    # Plot confusion matrix\n",
    "    plt.figure()\n",
    "    plot_confusion_matrix(cnf_matrix,\n",
    "                      title='Confusion matrix, without normalization')\n",
    "    plt.show() \n",
    "    \n",
    "    # calculate fpr_tpr\n",
    "    fpr, tpr = calculate_fpr_tpr(svc.decision_function(test_set), binary_test_target)\n",
    "    return fpr, tpr"
   ]
  },
  {
   "cell_type": "code",
   "execution_count": 32,
   "id": "e60f523d",
   "metadata": {},
   "outputs": [
    {
     "name": "stdout",
     "output_type": "stream",
     "text": [
      "SVM using LSI\n",
      "gamma: auto\n",
      "Accuracy: 0.9686746987951808\n",
      "Precision: 0.9696969696969697\n",
      "Recall: 0.964824120603015\n",
      "F-1 Score: 0.9672544080604534\n",
      "Confusion matrix, without normalization\n",
      "[[210   6]\n",
      " [  7 192]]\n"
     ]
    },
    {
     "data": {
      "text/plain": [
       "<Figure size 432x288 with 0 Axes>"
      ]
     },
     "metadata": {},
     "output_type": "display_data"
    },
    {
     "data": {
      "image/png": "[encoded data removed]",
      "text/plain": [
       "<Figure size 432x288 with 2 Axes>"
      ]
     },
     "metadata": {
      "needs_background": "light"
     },
     "output_type": "display_data"
    }
   ],
   "source": [
    "# fprs tprs lists\n",
    "fprs_hard = []\n",
    "tprs_hard = []\n",
    "print('SVM using LSI')\n",
    "fpr_hard,tpr_hard = predict_calculate_svc(X_train_LSI, X_test_LSI, y_train_encoded.astype(str).astype(int), y_test_encoded.astype(str).astype(int)\n",
    "                                ,C=1000)\n",
    "fprs_hard.append(fpr_hard)\n",
    "tprs_hard.append(tpr_hard)"
   ]
  },
  {
   "cell_type": "code",
   "execution_count": 33,
   "id": "6291919a",
   "metadata": {},
   "outputs": [
    {
     "name": "stdout",
     "output_type": "stream",
     "text": [
      "SVM using LSI\n",
      "gamma: auto\n",
      "Accuracy: 0.4795180722891566\n",
      "Precision: 0.4795180722891566\n",
      "Recall: 1.0\n",
      "F-1 Score: 0.6482084690553745\n",
      "Confusion matrix, without normalization\n",
      "[[  0 216]\n",
      " [  0 199]]\n"
     ]
    },
    {
     "data": {
      "text/plain": [
       "<Figure size 432x288 with 0 Axes>"
      ]
     },
     "metadata": {},
     "output_type": "display_data"
    },
    {
     "data": {
      "image/png": "[encoded data removed]",
      "text/plain": [
       "<Figure size 432x288 with 2 Axes>"
      ]
     },
     "metadata": {
      "needs_background": "light"
     },
     "output_type": "display_data"
    }
   ],
   "source": [
    "# fprs tprs lists\n",
    "fprs_soft = []\n",
    "tprs_soft = []\n",
    "print('SVM using LSI')\n",
    "fpr_soft,tpr_soft = predict_calculate_svc(X_train_LSI, X_test_LSI, y_train_encoded.astype(str).astype(int), y_test_encoded.astype(str).astype(int)\n",
    "                                ,C=0.0001)\n",
    "fprs_soft.append(fpr_soft)\n",
    "tprs_soft.append(tpr_soft)"
   ]
  },
  {
   "cell_type": "code",
   "execution_count": 34,
   "id": "b884d5f8",
   "metadata": {},
   "outputs": [
    {
     "name": "stdout",
     "output_type": "stream",
     "text": [
      "SVM using LSI\n",
      "gamma: auto\n",
      "Accuracy: 0.9662650602409638\n",
      "Precision: 0.964824120603015\n",
      "Recall: 0.964824120603015\n",
      "F-1 Score: 0.964824120603015\n",
      "Confusion matrix, without normalization\n",
      "[[209   7]\n",
      " [  7 192]]\n"
     ]
    },
    {
     "data": {
      "text/plain": [
       "<Figure size 432x288 with 0 Axes>"
      ]
     },
     "metadata": {},
     "output_type": "display_data"
    },
    {
     "data": {
      "image/png": "[encoded data removed]",
      "text/plain": [
       "<Figure size 432x288 with 2 Axes>"
      ]
     },
     "metadata": {
      "needs_background": "light"
     },
     "output_type": "display_data"
    }
   ],
   "source": [
    "fprs = []\n",
    "tprs = []\n",
    "print('SVM using LSI')\n",
    "fpr,tpr = predict_calculate_svc(X_train_LSI, X_test_LSI, y_train_encoded.astype(str).astype(int), y_test_encoded.astype(str).astype(int)\n",
    "                                ,C=100000)\n",
    "fprs.append(fpr)\n",
    "tprs.append(tpr)"
   ]
  },
  {
   "cell_type": "code",
   "execution_count": 90,
   "id": "9c1b18a1",
   "metadata": {},
   "outputs": [
    {
     "data": {
      "text/plain": [
       "GridSearchCV(cv=5, estimator=SVC(probability=True),\n",
       "             param_grid={'C': [0.001, 0.01, 0.1, 1, 10, 100, 1000, 10000,\n",
       "                               100000, 1000000]})"
      ]
     },
     "execution_count": 90,
     "metadata": {},
     "output_type": "execute_result"
    }
   ],
   "source": [
    "from sklearn.model_selection import GridSearchCV\n",
    "parameters = {'C':[10**-3,10**-2,10**-1,10**0,10**1,10**2,10**3,10**4,10**5,10**6]}\n",
    "svm_cv = svm.SVC(probability = True)\n",
    "svm_cv_grid = GridSearchCV(svm_cv, parameters, cv=5)\n",
    "svm_cv_grid.fit(X_train_LSI, y_train_encoded.astype(str).astype(int))"
   ]
  },
  {
   "cell_type": "code",
   "execution_count": 91,
   "id": "cd848354",
   "metadata": {},
   "outputs": [
    {
     "data": {
      "text/html": [
       "<div>\n",
       "<style scoped>\n",
       "    .dataframe tbody tr th:only-of-type {\n",
       "        vertical-align: middle;\n",
       "    }\n",
       "\n",
       "    .dataframe tbody tr th {\n",
       "        vertical-align: top;\n",
       "    }\n",
       "\n",
       "    .dataframe thead th {\n",
       "        text-align: right;\n",
       "    }\n",
       "</style>\n",
       "<table border=\"1\" class=\"dataframe\">\n",
       "  <thead>\n",
       "    <tr style=\"text-align: right;\">\n",
       "      <th></th>\n",
       "      <th>mean_fit_time</th>\n",
       "      <th>std_fit_time</th>\n",
       "      <th>mean_score_time</th>\n",
       "      <th>std_score_time</th>\n",
       "      <th>param_C</th>\n",
       "      <th>params</th>\n",
       "      <th>split0_test_score</th>\n",
       "      <th>split1_test_score</th>\n",
       "      <th>split2_test_score</th>\n",
       "      <th>split3_test_score</th>\n",
       "      <th>split4_test_score</th>\n",
       "      <th>mean_test_score</th>\n",
       "      <th>std_test_score</th>\n",
       "      <th>rank_test_score</th>\n",
       "    </tr>\n",
       "  </thead>\n",
       "  <tbody>\n",
       "    <tr>\n",
       "      <th>0</th>\n",
       "      <td>0.481494</td>\n",
       "      <td>0.007691</td>\n",
       "      <td>0.062445</td>\n",
       "      <td>0.003739</td>\n",
       "      <td>0.001</td>\n",
       "      <td>{'C': 0.001}</td>\n",
       "      <td>0.506024</td>\n",
       "      <td>0.506024</td>\n",
       "      <td>0.504532</td>\n",
       "      <td>0.504532</td>\n",
       "      <td>0.504532</td>\n",
       "      <td>0.505129</td>\n",
       "      <td>0.000731</td>\n",
       "      <td>10</td>\n",
       "    </tr>\n",
       "    <tr>\n",
       "      <th>1</th>\n",
       "      <td>0.476730</td>\n",
       "      <td>0.001404</td>\n",
       "      <td>0.064847</td>\n",
       "      <td>0.000613</td>\n",
       "      <td>0.01</td>\n",
       "      <td>{'C': 0.01}</td>\n",
       "      <td>0.602410</td>\n",
       "      <td>0.641566</td>\n",
       "      <td>0.613293</td>\n",
       "      <td>0.628399</td>\n",
       "      <td>0.610272</td>\n",
       "      <td>0.619188</td>\n",
       "      <td>0.014010</td>\n",
       "      <td>9</td>\n",
       "    </tr>\n",
       "    <tr>\n",
       "      <th>2</th>\n",
       "      <td>0.281396</td>\n",
       "      <td>0.001277</td>\n",
       "      <td>0.034669</td>\n",
       "      <td>0.000123</td>\n",
       "      <td>0.1</td>\n",
       "      <td>{'C': 0.1}</td>\n",
       "      <td>0.957831</td>\n",
       "      <td>0.933735</td>\n",
       "      <td>0.951662</td>\n",
       "      <td>0.972810</td>\n",
       "      <td>0.945619</td>\n",
       "      <td>0.952331</td>\n",
       "      <td>0.012969</td>\n",
       "      <td>8</td>\n",
       "    </tr>\n",
       "    <tr>\n",
       "      <th>3</th>\n",
       "      <td>0.126718</td>\n",
       "      <td>0.002199</td>\n",
       "      <td>0.015146</td>\n",
       "      <td>0.000286</td>\n",
       "      <td>1</td>\n",
       "      <td>{'C': 1}</td>\n",
       "      <td>0.969880</td>\n",
       "      <td>0.936747</td>\n",
       "      <td>0.957704</td>\n",
       "      <td>0.987915</td>\n",
       "      <td>0.951662</td>\n",
       "      <td>0.960781</td>\n",
       "      <td>0.017259</td>\n",
       "      <td>2</td>\n",
       "    </tr>\n",
       "    <tr>\n",
       "      <th>4</th>\n",
       "      <td>0.094984</td>\n",
       "      <td>0.003725</td>\n",
       "      <td>0.009885</td>\n",
       "      <td>0.000393</td>\n",
       "      <td>10</td>\n",
       "      <td>{'C': 10}</td>\n",
       "      <td>0.969880</td>\n",
       "      <td>0.948795</td>\n",
       "      <td>0.966767</td>\n",
       "      <td>0.984894</td>\n",
       "      <td>0.969789</td>\n",
       "      <td>0.968025</td>\n",
       "      <td>0.011511</td>\n",
       "      <td>1</td>\n",
       "    </tr>\n",
       "    <tr>\n",
       "      <th>5</th>\n",
       "      <td>0.098765</td>\n",
       "      <td>0.005101</td>\n",
       "      <td>0.008979</td>\n",
       "      <td>0.000580</td>\n",
       "      <td>100</td>\n",
       "      <td>{'C': 100}</td>\n",
       "      <td>0.960843</td>\n",
       "      <td>0.948795</td>\n",
       "      <td>0.960725</td>\n",
       "      <td>0.963746</td>\n",
       "      <td>0.960725</td>\n",
       "      <td>0.958967</td>\n",
       "      <td>0.005216</td>\n",
       "      <td>3</td>\n",
       "    </tr>\n",
       "    <tr>\n",
       "      <th>6</th>\n",
       "      <td>0.099830</td>\n",
       "      <td>0.004993</td>\n",
       "      <td>0.008947</td>\n",
       "      <td>0.000672</td>\n",
       "      <td>1000</td>\n",
       "      <td>{'C': 1000}</td>\n",
       "      <td>0.960843</td>\n",
       "      <td>0.948795</td>\n",
       "      <td>0.963746</td>\n",
       "      <td>0.963746</td>\n",
       "      <td>0.954683</td>\n",
       "      <td>0.958363</td>\n",
       "      <td>0.005817</td>\n",
       "      <td>4</td>\n",
       "    </tr>\n",
       "    <tr>\n",
       "      <th>7</th>\n",
       "      <td>0.099168</td>\n",
       "      <td>0.005631</td>\n",
       "      <td>0.008921</td>\n",
       "      <td>0.000683</td>\n",
       "      <td>10000</td>\n",
       "      <td>{'C': 10000}</td>\n",
       "      <td>0.960843</td>\n",
       "      <td>0.948795</td>\n",
       "      <td>0.963746</td>\n",
       "      <td>0.963746</td>\n",
       "      <td>0.954683</td>\n",
       "      <td>0.958363</td>\n",
       "      <td>0.005817</td>\n",
       "      <td>4</td>\n",
       "    </tr>\n",
       "    <tr>\n",
       "      <th>8</th>\n",
       "      <td>0.099890</td>\n",
       "      <td>0.004854</td>\n",
       "      <td>0.008940</td>\n",
       "      <td>0.000668</td>\n",
       "      <td>100000</td>\n",
       "      <td>{'C': 100000}</td>\n",
       "      <td>0.960843</td>\n",
       "      <td>0.948795</td>\n",
       "      <td>0.963746</td>\n",
       "      <td>0.963746</td>\n",
       "      <td>0.954683</td>\n",
       "      <td>0.958363</td>\n",
       "      <td>0.005817</td>\n",
       "      <td>4</td>\n",
       "    </tr>\n",
       "    <tr>\n",
       "      <th>9</th>\n",
       "      <td>0.099910</td>\n",
       "      <td>0.005294</td>\n",
       "      <td>0.008911</td>\n",
       "      <td>0.000679</td>\n",
       "      <td>1000000</td>\n",
       "      <td>{'C': 1000000}</td>\n",
       "      <td>0.960843</td>\n",
       "      <td>0.948795</td>\n",
       "      <td>0.963746</td>\n",
       "      <td>0.963746</td>\n",
       "      <td>0.954683</td>\n",
       "      <td>0.958363</td>\n",
       "      <td>0.005817</td>\n",
       "      <td>4</td>\n",
       "    </tr>\n",
       "  </tbody>\n",
       "</table>\n",
       "</div>"
      ],
      "text/plain": [
       "   mean_fit_time  std_fit_time  mean_score_time  std_score_time  param_C  \\\n",
       "0       0.481494      0.007691         0.062445        0.003739    0.001   \n",
       "1       0.476730      0.001404         0.064847        0.000613     0.01   \n",
       "2       0.281396      0.001277         0.034669        0.000123      0.1   \n",
       "3       0.126718      0.002199         0.015146        0.000286        1   \n",
       "4       0.094984      0.003725         0.009885        0.000393       10   \n",
       "5       0.098765      0.005101         0.008979        0.000580      100   \n",
       "6       0.099830      0.004993         0.008947        0.000672     1000   \n",
       "7       0.099168      0.005631         0.008921        0.000683    10000   \n",
       "8       0.099890      0.004854         0.008940        0.000668   100000   \n",
       "9       0.099910      0.005294         0.008911        0.000679  1000000   \n",
       "\n",
       "           params  split0_test_score  split1_test_score  split2_test_score  \\\n",
       "0    {'C': 0.001}           0.506024           0.506024           0.504532   \n",
       "1     {'C': 0.01}           0.602410           0.641566           0.613293   \n",
       "2      {'C': 0.1}           0.957831           0.933735           0.951662   \n",
       "3        {'C': 1}           0.969880           0.936747           0.957704   \n",
       "4       {'C': 10}           0.969880           0.948795           0.966767   \n",
       "5      {'C': 100}           0.960843           0.948795           0.960725   \n",
       "6     {'C': 1000}           0.960843           0.948795           0.963746   \n",
       "7    {'C': 10000}           0.960843           0.948795           0.963746   \n",
       "8   {'C': 100000}           0.960843           0.948795           0.963746   \n",
       "9  {'C': 1000000}           0.960843           0.948795           0.963746   \n",
       "\n",
       "   split3_test_score  split4_test_score  mean_test_score  std_test_score  \\\n",
       "0           0.504532           0.504532         0.505129        0.000731   \n",
       "1           0.628399           0.610272         0.619188        0.014010   \n",
       "2           0.972810           0.945619         0.952331        0.012969   \n",
       "3           0.987915           0.951662         0.960781        0.017259   \n",
       "4           0.984894           0.969789         0.968025        0.011511   \n",
       "5           0.963746           0.960725         0.958967        0.005216   \n",
       "6           0.963746           0.954683         0.958363        0.005817   \n",
       "7           0.963746           0.954683         0.958363        0.005817   \n",
       "8           0.963746           0.954683         0.958363        0.005817   \n",
       "9           0.963746           0.954683         0.958363        0.005817   \n",
       "\n",
       "   rank_test_score  \n",
       "0               10  \n",
       "1                9  \n",
       "2                8  \n",
       "3                2  \n",
       "4                1  \n",
       "5                3  \n",
       "6                4  \n",
       "7                4  \n",
       "8                4  \n",
       "9                4  "
      ]
     },
     "execution_count": 91,
     "metadata": {},
     "output_type": "execute_result"
    }
   ],
   "source": [
    "pd.DataFrame(svm_cv_grid.cv_results_)"
   ]
  },
  {
   "cell_type": "code",
   "execution_count": 92,
   "id": "8f31694f",
   "metadata": {},
   "outputs": [
    {
     "data": {
      "text/html": [
       "<div>\n",
       "<style scoped>\n",
       "    .dataframe tbody tr th:only-of-type {\n",
       "        vertical-align: middle;\n",
       "    }\n",
       "\n",
       "    .dataframe tbody tr th {\n",
       "        vertical-align: top;\n",
       "    }\n",
       "\n",
       "    .dataframe thead th {\n",
       "        text-align: right;\n",
       "    }\n",
       "</style>\n",
       "<table border=\"1\" class=\"dataframe\">\n",
       "  <thead>\n",
       "    <tr style=\"text-align: right;\">\n",
       "      <th></th>\n",
       "      <th>param_C</th>\n",
       "      <th>mean_test_score</th>\n",
       "      <th>rank_test_score</th>\n",
       "    </tr>\n",
       "  </thead>\n",
       "  <tbody>\n",
       "    <tr>\n",
       "      <th>0</th>\n",
       "      <td>0.001</td>\n",
       "      <td>0.505129</td>\n",
       "      <td>10</td>\n",
       "    </tr>\n",
       "    <tr>\n",
       "      <th>1</th>\n",
       "      <td>0.01</td>\n",
       "      <td>0.619188</td>\n",
       "      <td>9</td>\n",
       "    </tr>\n",
       "    <tr>\n",
       "      <th>2</th>\n",
       "      <td>0.1</td>\n",
       "      <td>0.952331</td>\n",
       "      <td>8</td>\n",
       "    </tr>\n",
       "    <tr>\n",
       "      <th>3</th>\n",
       "      <td>1</td>\n",
       "      <td>0.960781</td>\n",
       "      <td>2</td>\n",
       "    </tr>\n",
       "    <tr>\n",
       "      <th>4</th>\n",
       "      <td>10</td>\n",
       "      <td>0.968025</td>\n",
       "      <td>1</td>\n",
       "    </tr>\n",
       "    <tr>\n",
       "      <th>5</th>\n",
       "      <td>100</td>\n",
       "      <td>0.958967</td>\n",
       "      <td>3</td>\n",
       "    </tr>\n",
       "    <tr>\n",
       "      <th>6</th>\n",
       "      <td>1000</td>\n",
       "      <td>0.958363</td>\n",
       "      <td>4</td>\n",
       "    </tr>\n",
       "    <tr>\n",
       "      <th>7</th>\n",
       "      <td>10000</td>\n",
       "      <td>0.958363</td>\n",
       "      <td>4</td>\n",
       "    </tr>\n",
       "    <tr>\n",
       "      <th>8</th>\n",
       "      <td>100000</td>\n",
       "      <td>0.958363</td>\n",
       "      <td>4</td>\n",
       "    </tr>\n",
       "    <tr>\n",
       "      <th>9</th>\n",
       "      <td>1000000</td>\n",
       "      <td>0.958363</td>\n",
       "      <td>4</td>\n",
       "    </tr>\n",
       "  </tbody>\n",
       "</table>\n",
       "</div>"
      ],
      "text/plain": [
       "   param_C  mean_test_score  rank_test_score\n",
       "0    0.001         0.505129               10\n",
       "1     0.01         0.619188                9\n",
       "2      0.1         0.952331                8\n",
       "3        1         0.960781                2\n",
       "4       10         0.968025                1\n",
       "5      100         0.958967                3\n",
       "6     1000         0.958363                4\n",
       "7    10000         0.958363                4\n",
       "8   100000         0.958363                4\n",
       "9  1000000         0.958363                4"
      ]
     },
     "execution_count": 92,
     "metadata": {},
     "output_type": "execute_result"
    }
   ],
   "source": [
    "pd.DataFrame(svm_cv_grid.cv_results_)[['param_C','mean_test_score','rank_test_score']]"
   ]
  },
  {
   "cell_type": "code",
   "execution_count": 88,
   "id": "45684123",
   "metadata": {},
   "outputs": [
    {
     "name": "stdout",
     "output_type": "stream",
     "text": [
      "SVM using LSI with Cross-Validation\n",
      "\n",
      "gamma: auto\n",
      "Accuracy: 0.963855421686747\n",
      "Precision: 0.9742268041237113\n",
      "Recall: 0.949748743718593\n",
      "F-1 Score: 0.9618320610687022\n",
      "Confusion matrix, without normalization\n",
      "[[211   5]\n",
      " [ 10 189]]\n"
     ]
    },
    {
     "data": {
      "text/plain": [
       "<Figure size 432x288 with 0 Axes>"
      ]
     },
     "metadata": {},
     "output_type": "display_data"
    },
    {
     "data": {
      "image/png": "[encoded data removed]",
      "text/plain": [
       "<Figure size 432x288 with 2 Axes>"
      ]
     },
     "metadata": {
      "needs_background": "light"
     },
     "output_type": "display_data"
    }
   ],
   "source": [
    "fprs_best = []\n",
    "tprs_best = []\n",
    "print('SVM using LSI with Cross-Validation\\n')\n",
    "fpr_best,tpr_best = predict_calculate_svc(X_train_LSI, X_test_LSI, y_train_encoded.astype(str).astype(int), y_test_encoded.astype(str).astype(int)\n",
    "                                ,C=10)\n",
    "fprs_best.append(fpr_best)\n",
    "tprs_best.append(tpr_best)"
   ]
  },
  {
   "cell_type": "markdown",
   "id": "ee1c74c6",
   "metadata": {},
   "source": [
    "# Comparision between Hard, Soft and Best Margin SVMs"
   ]
  },
  {
   "cell_type": "code",
   "execution_count": 89,
   "id": "2ae76c51",
   "metadata": {},
   "outputs": [
    {
     "data": {
      "image/png": "[encoded data removed]",
      "text/plain": [
       "<Figure size 864x648 with 1 Axes>"
      ]
     },
     "metadata": {
      "needs_background": "light"
     },
     "output_type": "display_data"
    },
    {
     "name": "stdout",
     "output_type": "stream",
     "text": [
      "area under hard svm curve 0.9965452261306532\n",
      "area under soft svm curve 0.9923110924995349\n",
      "area under best svm curve 0.9957077051926299\n"
     ]
    }
   ],
   "source": [
    "plt.figure(figsize=(12,9))\n",
    "plt.plot([0, 1], [0, 1], color='navy', lw=1, linestyle='--')\n",
    "plt.xlim([0.0, 1.0])\n",
    "plt.ylim([0.0, 1.05])\n",
    "plt.xlabel('False Positive Rate', fontsize=18)\n",
    "plt.ylabel('True Positive Rate', fontsize=18)\n",
    "plt.title('ROC Curve', fontsize=23)\n",
    "\n",
    "plt.plot(fpr_soft, tpr_soft, 'r', label='soft margin svm')\n",
    "plt.plot(fpr_hard, tpr_hard, label='hard margin svm')\n",
    "plt.plot(fpr_best, tpr_best,'g',label = 'best margin svm')\n",
    "plt.legend()\n",
    "plt.title('Hard, Soft and Best Margin Linear SVM')\n",
    "plt.xlabel('false postive rate')\n",
    "plt.ylabel('true positive rate')\n",
    "plt.show()\n",
    "\n",
    "# area under the curve:\n",
    "roc_auc_hard = auc(fpr_hard,tpr_hard)\n",
    "roc_auc_soft = auc(fpr_soft,tpr_soft)\n",
    "roc_auc_best = auc(fpr_best,tpr_best)\n",
    "print(\"area under hard svm curve\", roc_auc_hard)\n",
    "print(\"area under soft svm curve\", roc_auc_soft)\n",
    "print(\"area under best svm curve\", roc_auc_best)\n",
    "\n"
   ]
  },
  {
   "cell_type": "markdown",
   "id": "1392ede2",
   "metadata": {},
   "source": [
    "# Logistic regression with Lbfgs solver"
   ]
  },
  {
   "cell_type": "code",
   "execution_count": 40,
   "id": "208d59d9",
   "metadata": {},
   "outputs": [
    {
     "name": "stdout",
     "output_type": "stream",
     "text": [
      "  param_C  mean_test_score\n",
      "0  0.0001         0.494871\n",
      "1   0.001         0.494871\n",
      "2    0.01         0.494871\n",
      "3     0.1         0.901625\n",
      "4       1         0.946901\n",
      "5      10         0.963799\n",
      "6     100         0.961380\n",
      "7    1000         0.959568\n",
      "8   10000         0.960172\n",
      "\n",
      "\n",
      "  param_C  mean_test_score\n",
      "0  0.0001         0.701827\n",
      "1   0.001         0.788141\n",
      "2    0.01         0.923967\n",
      "3     0.1         0.948102\n",
      "4       1         0.955345\n",
      "5      10         0.959573\n",
      "6     100         0.962587\n",
      "7    1000         0.965002\n",
      "8   10000         0.958963\n"
     ]
    }
   ],
   "source": [
    "from sklearn.linear_model import LogisticRegression\n",
    "parameters = {'C':[10**-4,10**-3,10**-2,10**-1,10**0,10**1,10**2,10**3,10**4]}\n",
    "\n",
    "#Without regularization\n",
    "logistic_l0 = LogisticRegression(penalty=\"none\", max_iter=10000)\n",
    "# logistic_l0_grid = GridSearchCV(logistic_l0, parameters) #use logistic regression's default score()?\n",
    "# logistic_l0_grid.fit(X_train_LSI, y_train_encoded.astype(str).astype(int))\n",
    "# print(pd.DataFrame(logistic_l0_grid.cv_results_)[['param_C','mean_test_score']])\n",
    "\n",
    "#With L1 \n",
    "logistic_l1 = LogisticRegression(solver=\"liblinear\",penalty=\"l1\", max_iter=10000)\n",
    "logistic_l1_grid = GridSearchCV(logistic_l1, parameters,cv=5) #use logistic regression's default score()?\n",
    "logistic_l1_grid.fit(X_train_LSI, y_train_encoded.astype(str).astype(int))\n",
    "print(pd.DataFrame(logistic_l1_grid.cv_results_)[['param_C','mean_test_score']])\n",
    "print(\"\\n\")\n",
    "\n",
    "#With L2 \n",
    "logistic_l2 = LogisticRegression(solver=\"liblinear\",penalty=\"l2\", max_iter=10000)\n",
    "logistic_l2_grid = GridSearchCV(logistic_l2, parameters,cv=5) #use logistic regression's default score()?\n",
    "logistic_l2_grid.fit(X_train_LSI, y_train_encoded.astype(str).astype(int))\n",
    "print(pd.DataFrame(logistic_l2_grid.cv_results_)[['param_C','mean_test_score']])\n"
   ]
  },
  {
   "cell_type": "code",
   "execution_count": 41,
   "id": "6157de78",
   "metadata": {},
   "outputs": [
    {
     "data": {
      "text/plain": [
       "LogisticRegression(max_iter=10000, penalty='none')"
      ]
     },
     "execution_count": 41,
     "metadata": {},
     "output_type": "execute_result"
    }
   ],
   "source": [
    "logistic_l0"
   ]
  },
  {
   "cell_type": "code",
   "execution_count": 42,
   "id": "4f90aee7",
   "metadata": {},
   "outputs": [
    {
     "name": "stdout",
     "output_type": "stream",
     "text": [
      "  param_C  mean_test_score\n",
      "0  0.0001         0.499094\n",
      "1   0.001         0.505129\n",
      "2    0.01         0.500906\n",
      "3     0.1         0.908263\n",
      "4       1         0.947503\n",
      "5      10         0.963195\n",
      "6     100         0.963191\n",
      "7    1000         0.960172\n",
      "8   10000         0.959568\n",
      "\n",
      "\n",
      "  param_C  mean_test_score\n",
      "0  0.0001         0.505129\n",
      "1   0.001         0.505129\n",
      "2    0.01         0.923971\n",
      "3     0.1         0.945685\n",
      "4       1         0.955948\n",
      "5      10         0.958971\n",
      "6     100         0.962587\n",
      "7    1000         0.965002\n",
      "8   10000         0.960776\n"
     ]
    }
   ],
   "source": [
    "from sklearn.linear_model import LogisticRegression\n",
    "parameters = {'C':[10**-4,10**-3,10**-2,10**-1,10**0,10**1,10**2,10**3,10**4]}\n",
    "\n",
    "\n",
    "#With L1 \n",
    "logistic_l1 = LogisticRegression(solver=\"saga\",penalty=\"l1\", max_iter=10000)\n",
    "logistic_l1_grid = GridSearchCV(logistic_l1, parameters,cv=5) #use logistic regression's default score()?\n",
    "logistic_l1_grid.fit(X_train_LSI, y_train_encoded.astype(str).astype(int))\n",
    "print(pd.DataFrame(logistic_l1_grid.cv_results_)[['param_C','mean_test_score']])\n",
    "print(\"\\n\")\n",
    "\n",
    "#With L2 \n",
    "logistic_l2 = LogisticRegression(solver=\"saga\",penalty=\"l2\", max_iter=10000)\n",
    "logistic_l2_grid = GridSearchCV(logistic_l2, parameters,cv=5) #use logistic regression's default score()?\n",
    "logistic_l2_grid.fit(X_train_LSI, y_train_encoded.astype(str).astype(int))\n",
    "print(pd.DataFrame(logistic_l2_grid.cv_results_)[['param_C','mean_test_score']])\n"
   ]
  },
  {
   "cell_type": "code",
   "execution_count": 43,
   "id": "f2048986",
   "metadata": {
    "scrolled": false
   },
   "outputs": [
    {
     "name": "stderr",
     "output_type": "stream",
     "text": [
      "/Users/shwetakatti/opt/anaconda3/lib/python3.8/site-packages/sklearn/linear_model/_logistic.py:1483: UserWarning: Setting penalty='none' will ignore the C and l1_ratio parameters\n",
      "  warnings.warn(\n",
      "/Users/shwetakatti/opt/anaconda3/lib/python3.8/site-packages/sklearn/linear_model/_logistic.py:1483: UserWarning: Setting penalty='none' will ignore the C and l1_ratio parameters\n",
      "  warnings.warn(\n",
      "/Users/shwetakatti/opt/anaconda3/lib/python3.8/site-packages/sklearn/linear_model/_logistic.py:1483: UserWarning: Setting penalty='none' will ignore the C and l1_ratio parameters\n",
      "  warnings.warn(\n",
      "/Users/shwetakatti/opt/anaconda3/lib/python3.8/site-packages/sklearn/linear_model/_logistic.py:1483: UserWarning: Setting penalty='none' will ignore the C and l1_ratio parameters\n",
      "  warnings.warn(\n",
      "/Users/shwetakatti/opt/anaconda3/lib/python3.8/site-packages/sklearn/linear_model/_logistic.py:1483: UserWarning: Setting penalty='none' will ignore the C and l1_ratio parameters\n",
      "  warnings.warn(\n",
      "/Users/shwetakatti/opt/anaconda3/lib/python3.8/site-packages/sklearn/linear_model/_logistic.py:1483: UserWarning: Setting penalty='none' will ignore the C and l1_ratio parameters\n",
      "  warnings.warn(\n",
      "/Users/shwetakatti/opt/anaconda3/lib/python3.8/site-packages/sklearn/linear_model/_logistic.py:1483: UserWarning: Setting penalty='none' will ignore the C and l1_ratio parameters\n",
      "  warnings.warn(\n",
      "/Users/shwetakatti/opt/anaconda3/lib/python3.8/site-packages/sklearn/linear_model/_logistic.py:1483: UserWarning: Setting penalty='none' will ignore the C and l1_ratio parameters\n",
      "  warnings.warn(\n",
      "/Users/shwetakatti/opt/anaconda3/lib/python3.8/site-packages/sklearn/linear_model/_logistic.py:1483: UserWarning: Setting penalty='none' will ignore the C and l1_ratio parameters\n",
      "  warnings.warn(\n",
      "/Users/shwetakatti/opt/anaconda3/lib/python3.8/site-packages/sklearn/linear_model/_logistic.py:1483: UserWarning: Setting penalty='none' will ignore the C and l1_ratio parameters\n",
      "  warnings.warn(\n",
      "/Users/shwetakatti/opt/anaconda3/lib/python3.8/site-packages/sklearn/linear_model/_logistic.py:1483: UserWarning: Setting penalty='none' will ignore the C and l1_ratio parameters\n",
      "  warnings.warn(\n",
      "/Users/shwetakatti/opt/anaconda3/lib/python3.8/site-packages/sklearn/linear_model/_logistic.py:1483: UserWarning: Setting penalty='none' will ignore the C and l1_ratio parameters\n",
      "  warnings.warn(\n",
      "/Users/shwetakatti/opt/anaconda3/lib/python3.8/site-packages/sklearn/linear_model/_logistic.py:1483: UserWarning: Setting penalty='none' will ignore the C and l1_ratio parameters\n",
      "  warnings.warn(\n",
      "/Users/shwetakatti/opt/anaconda3/lib/python3.8/site-packages/sklearn/linear_model/_logistic.py:1483: UserWarning: Setting penalty='none' will ignore the C and l1_ratio parameters\n",
      "  warnings.warn(\n",
      "/Users/shwetakatti/opt/anaconda3/lib/python3.8/site-packages/sklearn/linear_model/_logistic.py:1483: UserWarning: Setting penalty='none' will ignore the C and l1_ratio parameters\n",
      "  warnings.warn(\n",
      "/Users/shwetakatti/opt/anaconda3/lib/python3.8/site-packages/sklearn/linear_model/_logistic.py:1483: UserWarning: Setting penalty='none' will ignore the C and l1_ratio parameters\n",
      "  warnings.warn(\n",
      "/Users/shwetakatti/opt/anaconda3/lib/python3.8/site-packages/sklearn/linear_model/_logistic.py:1483: UserWarning: Setting penalty='none' will ignore the C and l1_ratio parameters\n",
      "  warnings.warn(\n",
      "/Users/shwetakatti/opt/anaconda3/lib/python3.8/site-packages/sklearn/linear_model/_logistic.py:1483: UserWarning: Setting penalty='none' will ignore the C and l1_ratio parameters\n",
      "  warnings.warn(\n",
      "/Users/shwetakatti/opt/anaconda3/lib/python3.8/site-packages/sklearn/linear_model/_logistic.py:1483: UserWarning: Setting penalty='none' will ignore the C and l1_ratio parameters\n",
      "  warnings.warn(\n",
      "/Users/shwetakatti/opt/anaconda3/lib/python3.8/site-packages/sklearn/linear_model/_logistic.py:1483: UserWarning: Setting penalty='none' will ignore the C and l1_ratio parameters\n",
      "  warnings.warn(\n",
      "/Users/shwetakatti/opt/anaconda3/lib/python3.8/site-packages/sklearn/linear_model/_logistic.py:1483: UserWarning: Setting penalty='none' will ignore the C and l1_ratio parameters\n",
      "  warnings.warn(\n",
      "/Users/shwetakatti/opt/anaconda3/lib/python3.8/site-packages/sklearn/linear_model/_logistic.py:1483: UserWarning: Setting penalty='none' will ignore the C and l1_ratio parameters\n",
      "  warnings.warn(\n",
      "/Users/shwetakatti/opt/anaconda3/lib/python3.8/site-packages/sklearn/linear_model/_logistic.py:1483: UserWarning: Setting penalty='none' will ignore the C and l1_ratio parameters\n",
      "  warnings.warn(\n",
      "/Users/shwetakatti/opt/anaconda3/lib/python3.8/site-packages/sklearn/linear_model/_logistic.py:1483: UserWarning: Setting penalty='none' will ignore the C and l1_ratio parameters\n",
      "  warnings.warn(\n",
      "/Users/shwetakatti/opt/anaconda3/lib/python3.8/site-packages/sklearn/linear_model/_logistic.py:1483: UserWarning: Setting penalty='none' will ignore the C and l1_ratio parameters\n",
      "  warnings.warn(\n",
      "/Users/shwetakatti/opt/anaconda3/lib/python3.8/site-packages/sklearn/linear_model/_logistic.py:1483: UserWarning: Setting penalty='none' will ignore the C and l1_ratio parameters\n",
      "  warnings.warn(\n",
      "/Users/shwetakatti/opt/anaconda3/lib/python3.8/site-packages/sklearn/linear_model/_logistic.py:1483: UserWarning: Setting penalty='none' will ignore the C and l1_ratio parameters\n",
      "  warnings.warn(\n",
      "/Users/shwetakatti/opt/anaconda3/lib/python3.8/site-packages/sklearn/linear_model/_logistic.py:1483: UserWarning: Setting penalty='none' will ignore the C and l1_ratio parameters\n",
      "  warnings.warn(\n",
      "/Users/shwetakatti/opt/anaconda3/lib/python3.8/site-packages/sklearn/linear_model/_logistic.py:1483: UserWarning: Setting penalty='none' will ignore the C and l1_ratio parameters\n",
      "  warnings.warn(\n",
      "/Users/shwetakatti/opt/anaconda3/lib/python3.8/site-packages/sklearn/linear_model/_logistic.py:1483: UserWarning: Setting penalty='none' will ignore the C and l1_ratio parameters\n",
      "  warnings.warn(\n",
      "/Users/shwetakatti/opt/anaconda3/lib/python3.8/site-packages/sklearn/linear_model/_logistic.py:1483: UserWarning: Setting penalty='none' will ignore the C and l1_ratio parameters\n",
      "  warnings.warn(\n",
      "/Users/shwetakatti/opt/anaconda3/lib/python3.8/site-packages/sklearn/linear_model/_logistic.py:1483: UserWarning: Setting penalty='none' will ignore the C and l1_ratio parameters\n",
      "  warnings.warn(\n",
      "/Users/shwetakatti/opt/anaconda3/lib/python3.8/site-packages/sklearn/linear_model/_logistic.py:1483: UserWarning: Setting penalty='none' will ignore the C and l1_ratio parameters\n",
      "  warnings.warn(\n",
      "/Users/shwetakatti/opt/anaconda3/lib/python3.8/site-packages/sklearn/linear_model/_logistic.py:1483: UserWarning: Setting penalty='none' will ignore the C and l1_ratio parameters\n",
      "  warnings.warn(\n",
      "/Users/shwetakatti/opt/anaconda3/lib/python3.8/site-packages/sklearn/linear_model/_logistic.py:1483: UserWarning: Setting penalty='none' will ignore the C and l1_ratio parameters\n",
      "  warnings.warn(\n",
      "/Users/shwetakatti/opt/anaconda3/lib/python3.8/site-packages/sklearn/linear_model/_logistic.py:1483: UserWarning: Setting penalty='none' will ignore the C and l1_ratio parameters\n",
      "  warnings.warn(\n",
      "/Users/shwetakatti/opt/anaconda3/lib/python3.8/site-packages/sklearn/linear_model/_logistic.py:1483: UserWarning: Setting penalty='none' will ignore the C and l1_ratio parameters\n",
      "  warnings.warn(\n",
      "/Users/shwetakatti/opt/anaconda3/lib/python3.8/site-packages/sklearn/linear_model/_logistic.py:1483: UserWarning: Setting penalty='none' will ignore the C and l1_ratio parameters\n",
      "  warnings.warn(\n",
      "/Users/shwetakatti/opt/anaconda3/lib/python3.8/site-packages/sklearn/linear_model/_logistic.py:1483: UserWarning: Setting penalty='none' will ignore the C and l1_ratio parameters\n",
      "  warnings.warn(\n",
      "/Users/shwetakatti/opt/anaconda3/lib/python3.8/site-packages/sklearn/linear_model/_logistic.py:1483: UserWarning: Setting penalty='none' will ignore the C and l1_ratio parameters\n",
      "  warnings.warn(\n"
     ]
    },
    {
     "name": "stdout",
     "output_type": "stream",
     "text": [
      "  param_C  mean_test_score\n",
      "0  0.0001         0.959569\n",
      "1   0.001         0.959569\n",
      "2    0.01         0.959569\n",
      "3     0.1         0.959569\n",
      "4       1         0.959569\n",
      "5      10         0.959569\n",
      "6     100         0.959569\n",
      "7    1000         0.959569\n",
      "8   10000         0.959569\n"
     ]
    },
    {
     "name": "stderr",
     "output_type": "stream",
     "text": [
      "/Users/shwetakatti/opt/anaconda3/lib/python3.8/site-packages/sklearn/linear_model/_logistic.py:1483: UserWarning: Setting penalty='none' will ignore the C and l1_ratio parameters\n",
      "  warnings.warn(\n"
     ]
    }
   ],
   "source": [
    "logistic_l0 = LogisticRegression(penalty=\"none\", max_iter=10000)\n",
    "logistic_l0_grid = GridSearchCV(logistic_l0, parameters) #use logistic regression's default score()?\n",
    "logistic_l0_grid.fit(X_train_LSI, y_train_encoded.astype(str).astype(int))\n",
    "print(pd.DataFrame(logistic_l0_grid.cv_results_)[['param_C','mean_test_score']])\n"
   ]
  },
  {
   "cell_type": "code",
   "execution_count": 44,
   "id": "f404f5ce",
   "metadata": {},
   "outputs": [],
   "source": [
    "def predict_calculate_logistics(train_set, test_set, binary_train_target, binary_test_target, C, solver ,penalty):\n",
    "    plt.gcf().clear()\n",
    "    log = LogisticRegression(penalty=penalty, solver=solver,max_iter=10000, C = C)\n",
    "    #log = LogisticRegression(penalty=penalty,max_iter=10000, C = C)\n",
    "    log.fit(train_set, binary_train_target)\n",
    "    pred = log.predict(test_set)\n",
    "\n",
    "    print('C value: ' + str(C))\n",
    "    print('Penalty: ' + str(penalty))\n",
    "    print('Accuracy: ' + str(metrics.accuracy_score(binary_test_target.ravel(), pred)))\n",
    "    print('Precision: ' + str(metrics.precision_score(binary_test_target.ravel(), pred)))\n",
    "    print('Recall: ' + str(metrics.recall_score(binary_test_target.ravel(), pred)))\n",
    "    print('F-1 Score: ' + str(metrics.f1_score(binary_test_target.ravel(), pred)))   \n",
    "    print(\"Coefficient Statistics: \")\n",
    "    print(\"mean = %f, std = %f\" % (np.mean(log.coef_), np.std(log.coef_)))\n",
    "\n",
    "    #compute confusion matrix\n",
    "    cnf_matrix = metrics.confusion_matrix(binary_test_target, pred)\n",
    "    np.set_printoptions(precision=2)\n",
    "\n",
    "    # Plot confusion matrix\n",
    "    plt.figure()\n",
    "    plot_confusion_matrix(cnf_matrix,\n",
    "                      title='Confusion matrix, without normalization')\n",
    "    plt.show() \n",
    "    \n",
    "    # calculate fpr_tpr\n",
    "    fpr, tpr = calculate_fpr_tpr(log.decision_function(test_set), binary_test_target)\n",
    "    return fpr, tpr"
   ]
  },
  {
   "cell_type": "markdown",
   "id": "26252f14",
   "metadata": {},
   "source": [
    "# L0 "
   ]
  },
  {
   "cell_type": "code",
   "execution_count": 45,
   "id": "1cbec9fc",
   "metadata": {},
   "outputs": [
    {
     "name": "stdout",
     "output_type": "stream",
     "text": [
      "Logistic Regression without regularization using LSI\n",
      "C value: 1.0\n",
      "Penalty: none\n",
      "Accuracy: 0.9710843373493976\n",
      "Precision: 0.9746192893401016\n",
      "Recall: 0.964824120603015\n",
      "F-1 Score: 0.9696969696969697\n",
      "Coefficient Statistics: \n",
      "mean = -4.757975, std = 23.274039\n",
      "Confusion matrix, without normalization\n",
      "[[211   5]\n",
      " [  7 192]]\n"
     ]
    },
    {
     "data": {
      "text/plain": [
       "<Figure size 432x288 with 0 Axes>"
      ]
     },
     "metadata": {},
     "output_type": "display_data"
    },
    {
     "data": {
      "image/png": "[encoded data removed]",
      "text/plain": [
       "<Figure size 432x288 with 2 Axes>"
      ]
     },
     "metadata": {
      "needs_background": "light"
     },
     "output_type": "display_data"
    }
   ],
   "source": [
    "fprs_none = []\n",
    "tprs_none = []\n",
    "print('Logistic Regression without regularization using LSI')\n",
    "fpr_none,tpr_none = predict_calculate_logistics(X_train_LSI, X_test_LSI, y_train_encoded.astype(str).astype(int), y_test_encoded.astype(str).astype(int)\n",
    "                                ,C = 1.0, solver = 'lbfgs',penalty ='none')\n",
    "fprs_none.append(fpr_none)\n",
    "tprs_none.append(tpr_none)"
   ]
  },
  {
   "cell_type": "markdown",
   "id": "1185688e",
   "metadata": {},
   "source": [
    "# L1 "
   ]
  },
  {
   "cell_type": "code",
   "execution_count": 46,
   "id": "f13c13b7",
   "metadata": {},
   "outputs": [
    {
     "name": "stdout",
     "output_type": "stream",
     "text": [
      "Logistic Regression with L1 regularization using LSI\n",
      "C value: 10\n",
      "Penalty: l1\n",
      "Accuracy: 0.9734939759036144\n",
      "Precision: 0.9795918367346939\n",
      "Recall: 0.964824120603015\n",
      "F-1 Score: 0.9721518987341772\n",
      "Coefficient Statistics: \n",
      "mean = -3.449530, std = 12.327500\n",
      "Confusion matrix, without normalization\n",
      "[[212   4]\n",
      " [  7 192]]\n"
     ]
    },
    {
     "data": {
      "text/plain": [
       "<Figure size 432x288 with 0 Axes>"
      ]
     },
     "metadata": {},
     "output_type": "display_data"
    },
    {
     "data": {
      "image/png": "[encoded data removed]",
      "text/plain": [
       "<Figure size 432x288 with 2 Axes>"
      ]
     },
     "metadata": {
      "needs_background": "light"
     },
     "output_type": "display_data"
    }
   ],
   "source": [
    "fprs_l1 = []\n",
    "tprs_l1 = []\n",
    "print('Logistic Regression with L1 regularization using LSI')\n",
    "fpr_l1,tpr_l1 = predict_calculate_logistics(X_train_LSI, X_test_LSI, y_train_encoded.astype(str).astype(int), y_test_encoded.astype(str).astype(int)\n",
    "                                ,solver = \"liblinear\",C=10, penalty ='l1')\n",
    "fprs_l1.append(fpr_l1)\n",
    "tprs_l1.append(tpr_l1)"
   ]
  },
  {
   "cell_type": "code",
   "execution_count": 47,
   "id": "7d22f312",
   "metadata": {},
   "outputs": [
    {
     "data": {
      "text/plain": [
       "array([0.  , 0.  , 0.  , 0.  , 0.  , 0.  , 0.  , 0.01, 0.01, 0.02, 0.02,\n",
       "       0.03, 0.03, 0.05, 0.05, 0.06, 0.06, 0.07, 0.07, 0.08, 0.09, 0.45,\n",
       "       0.47, 0.99, 1.  ])"
      ]
     },
     "execution_count": 47,
     "metadata": {},
     "output_type": "execute_result"
    }
   ],
   "source": [
    "fpr_l1"
   ]
  },
  {
   "cell_type": "markdown",
   "id": "bbfed509",
   "metadata": {},
   "source": [
    "# L2"
   ]
  },
  {
   "cell_type": "code",
   "execution_count": 48,
   "id": "48396dea",
   "metadata": {},
   "outputs": [
    {
     "name": "stdout",
     "output_type": "stream",
     "text": [
      "Logistic Regression with L2 regularization using LSI\n",
      "C value: 100\n",
      "Penalty: l2\n",
      "Accuracy: 0.9710843373493976\n",
      "Precision: 0.9746192893401016\n",
      "Recall: 0.964824120603015\n",
      "F-1 Score: 0.9696969696969697\n",
      "Coefficient Statistics: \n",
      "mean = -2.900065, std = 9.623926\n",
      "Confusion matrix, without normalization\n",
      "[[211   5]\n",
      " [  7 192]]\n"
     ]
    },
    {
     "data": {
      "text/plain": [
       "<Figure size 432x288 with 0 Axes>"
      ]
     },
     "metadata": {},
     "output_type": "display_data"
    },
    {
     "data": {
      "image/png": "[encoded data removed]",
      "text/plain": [
       "<Figure size 432x288 with 2 Axes>"
      ]
     },
     "metadata": {
      "needs_background": "light"
     },
     "output_type": "display_data"
    }
   ],
   "source": [
    "fprs_l2 = []\n",
    "tprs_l2 = []\n",
    "print('Logistic Regression with L2 regularization using LSI')\n",
    "fpr_l2,tpr_l2 = predict_calculate_logistics(X_train_LSI, X_test_LSI, y_train_encoded.astype(str).astype(int), y_test_encoded.astype(str).astype(int)\n",
    "                                ,solver = \"liblinear\",C=100, penalty ='l2')\n",
    "fprs_l2.append(fpr_l2)\n",
    "tprs_l2.append(tpr_l2)"
   ]
  },
  {
   "cell_type": "code",
   "execution_count": 49,
   "id": "ed43e659",
   "metadata": {},
   "outputs": [
    {
     "data": {
      "text/plain": [
       "array([0.  , 0.  , 0.  , 0.  , 0.  , 0.  , 0.  , 0.01, 0.01, 0.01, 0.01,\n",
       "       0.02, 0.02, 0.02, 0.02, 0.03, 0.03, 0.06, 0.06, 0.06, 0.06, 0.07,\n",
       "       0.07, 0.07, 0.08, 0.09, 0.47, 0.48, 0.8 , 0.81, 1.  ])"
      ]
     },
     "execution_count": 49,
     "metadata": {},
     "output_type": "execute_result"
    }
   ],
   "source": [
    "fpr_l2"
   ]
  },
  {
   "cell_type": "code",
   "execution_count": 50,
   "id": "7992c9ea",
   "metadata": {},
   "outputs": [
    {
     "name": "stdout",
     "output_type": "stream",
     "text": [
      "C value: 10\n",
      "Penalty: liblinear\n",
      "Accuracy: 0.9734939759036144\n",
      "Precision: 0.9795918367346939\n",
      "Recall: 0.964824120603015\n",
      "F-1 Score: 0.9721518987341772\n",
      "Coefficient Statistics: \n",
      "mean = -3.449452, std = 12.327464\n",
      "Confusion matrix, without normalization\n",
      "[[212   4]\n",
      " [  7 192]]\n"
     ]
    },
    {
     "data": {
      "image/png": "[encoded data removed]",
      "text/plain": [
       "<Figure size 432x288 with 2 Axes>"
      ]
     },
     "metadata": {
      "needs_background": "light"
     },
     "output_type": "display_data"
    }
   ],
   "source": [
    "log = LogisticRegression(penalty='l1', solver='liblinear',max_iter=10000, C = 10)\n",
    "log.fit(X_train_LSI, y_train_encoded.astype(str).astype(int))\n",
    "pred = log.predict(X_test_LSI)\n",
    "\n",
    "print('C value: ' + str(10))\n",
    "print('Penalty: ' + str('liblinear'))\n",
    "print('Accuracy: ' + str(metrics.accuracy_score(y_test_encoded.astype(str).astype(int).ravel(), pred)))\n",
    "print('Precision: ' + str(metrics.precision_score(y_test_encoded.astype(str).astype(int).ravel(), pred)))\n",
    "print('Recall: ' + str(metrics.recall_score(y_test_encoded.astype(str).astype(int).ravel(), pred)))\n",
    "print('F-1 Score: ' + str(metrics.f1_score(y_test_encoded.astype(str).astype(int).ravel(), pred)))   \n",
    "print(\"Coefficient Statistics: \")\n",
    "print(\"mean = %f, std = %f\" % (np.mean(log.coef_), np.std(log.coef_)))\n",
    "\n",
    "\n",
    "cnf_matrix = metrics.confusion_matrix(y_test_encoded.astype(str).astype(int), pred)\n",
    "#np.set_printoptions(precision=2)\n",
    "\n",
    "# Plot confusion matrix\n",
    "plt.figure()\n",
    "plot_confusion_matrix(cnf_matrix,\n",
    "                  title='Confusion matrix, without normalization')\n",
    "plt.show() \n",
    "\n",
    "# calculate fpr_tpr\n",
    "fpr, tpr = calculate_fpr_tpr(log.decision_function(X_test_LSI), y_test_encoded.astype(str).astype(int))"
   ]
  },
  {
   "cell_type": "code",
   "execution_count": 51,
   "id": "68763559",
   "metadata": {},
   "outputs": [
    {
     "name": "stdout",
     "output_type": "stream",
     "text": [
      "[0.   0.   0.   0.   0.   0.   0.   0.01 0.01 0.02 0.02 0.03 0.03 0.05\n",
      " 0.05 0.06 0.06 0.07 0.07 0.08 0.09 0.45 0.47 0.99 1.  ]\n",
      "\n",
      "\n",
      "[0.   0.01 0.22 0.24 0.83 0.83 0.9  0.9  0.94 0.94 0.97 0.97 0.97 0.97\n",
      " 0.98 0.98 0.98 0.98 0.99 0.99 1.   1.   1.   1.   1.  ]\n"
     ]
    }
   ],
   "source": [
    "print(fpr)\n",
    "print(\"\\n\")\n",
    "print(tpr)"
   ]
  },
  {
   "cell_type": "code",
   "execution_count": 94,
   "id": "8dd7e5aa",
   "metadata": {},
   "outputs": [
    {
     "data": {
      "image/png": "[encoded data removed]",
      "text/plain": [
       "<Figure size 864x648 with 1 Axes>"
      ]
     },
     "metadata": {
      "needs_background": "light"
     },
     "output_type": "display_data"
    },
    {
     "name": "stdout",
     "output_type": "stream",
     "text": [
      "area under no regularization 0.9967778708356597\n",
      "area under L1 regularization 0.9970105155406664\n",
      "area under L2 regularization 0.9965219616601525\n"
     ]
    }
   ],
   "source": [
    "plt.figure(figsize=(12,9))\n",
    "plt.plot([0, 1], [0, 1], color='navy', lw=1, linestyle='--')\n",
    "plt.xlim([0.0, 1.0])\n",
    "plt.ylim([0.0, 1.05])\n",
    "plt.xlabel('False Positive Rate', fontsize=18)\n",
    "plt.ylabel('True Positive Rate', fontsize=18)\n",
    "plt.title('ROC Curve', fontsize=23)\n",
    "\n",
    "plt.plot(fpr_none,tpr_none, 'r', label='No regularization')\n",
    "plt.plot(fpr_l1,tpr_l1, label='L1 regularization')\n",
    "plt.plot(fpr_l2,tpr_l2,'g',label = 'L2 regularization')\n",
    "plt.legend()\n",
    "plt.title('Logistic Regression')\n",
    "plt.xlabel('false postive rate')\n",
    "plt.ylabel('true positive rate')\n",
    "plt.show()\n",
    "\n",
    "# area under the curve:\n",
    "roc_auc_none = auc(fpr_none,tpr_none)\n",
    "roc_auc_l1 = auc(fpr_l1,tpr_l1)\n",
    "roc_auc_l2 = auc(fpr_l2,tpr_l2)\n",
    "print(\"area under no regularization\", roc_auc_none)\n",
    "print(\"area under L1 regularization\", roc_auc_l1)\n",
    "print(\"area under L2 regularization\", roc_auc_l2)\n",
    "\n"
   ]
  },
  {
   "cell_type": "markdown",
   "id": "514f4f47",
   "metadata": {},
   "source": [
    "### NAIVE BAYES"
   ]
  },
  {
   "cell_type": "code",
   "execution_count": 52,
   "id": "732f44bc",
   "metadata": {},
   "outputs": [],
   "source": [
    "from sklearn.naive_bayes import GaussianNB\n",
    "\n",
    "def predict_calculate_naive_bayes(train_set, test_set, binary_train_target, binary_test_target):\n",
    "    plt.gcf().clear()\n",
    "    gnb = GaussianNB()\n",
    "    gnb.fit(train_set, binary_train_target)\n",
    "    pred = gnb.predict(test_set)\n",
    "\n",
    "    print('Accuracy: ' + str(metrics.accuracy_score(binary_test_target.ravel(), pred)))\n",
    "    print('Precision: ' + str(metrics.precision_score(binary_test_target.ravel(), pred)))\n",
    "    print('Recall: ' + str(metrics.recall_score(binary_test_target.ravel(), pred)))\n",
    "    print('F-1 Score: ' + str(metrics.f1_score(binary_test_target.ravel(), pred)))\n",
    "    \n",
    "    #compute confusion matrix\n",
    "    cnf_matrix = metrics.confusion_matrix(binary_test_target, pred)\n",
    "    np.set_printoptions(precision=2)\n",
    "\n",
    "    # Plot confusion matrix\n",
    "    plt.figure()\n",
    "    plot_confusion_matrix(cnf_matrix,\n",
    "                      title='Confusion matrix, without normalization')\n",
    "    plt.show() \n",
    "    \n",
    "    # calculate fpr_tpr\n",
    "    fpr, tpr = calculate_fpr_tpr(gnb.predict_proba(test_set)[:,1], binary_test_target)\n",
    "    return fpr, tpr\n"
   ]
  },
  {
   "cell_type": "code",
   "execution_count": 53,
   "id": "f6949f49",
   "metadata": {},
   "outputs": [
    {
     "name": "stdout",
     "output_type": "stream",
     "text": [
      "Naive Bayes using LSI\n",
      "Accuracy: 0.9421686746987952\n",
      "Precision: 0.9441624365482234\n",
      "Recall: 0.9346733668341709\n",
      "F-1 Score: 0.9393939393939393\n",
      "Confusion matrix, without normalization\n",
      "[[205  11]\n",
      " [ 13 186]]\n"
     ]
    },
    {
     "data": {
      "text/plain": [
       "<Figure size 432x288 with 0 Axes>"
      ]
     },
     "metadata": {},
     "output_type": "display_data"
    },
    {
     "data": {
      "image/png": "[encoded data removed]",
      "text/plain": [
       "<Figure size 432x288 with 2 Axes>"
      ]
     },
     "metadata": {
      "needs_background": "light"
     },
     "output_type": "display_data"
    }
   ],
   "source": [
    "fprs_NB = []\n",
    "tprs_NB = []\n",
    "print('Naive Bayes using LSI')\n",
    "fpr_NB,tpr_NB = predict_calculate_naive_bayes(X_train_LSI, X_test_LSI, y_train_encoded.astype(str).astype(int), y_test_encoded.astype(str).astype(int))\n",
    "fprs_NB.append(fpr_NB)\n",
    "tprs_NB.append(tpr_NB)"
   ]
  },
  {
   "cell_type": "code",
   "execution_count": 54,
   "id": "6f221c52",
   "metadata": {},
   "outputs": [
    {
     "data": {
      "image/png": "[encoded data removed]",
      "text/plain": [
       "<Figure size 864x648 with 1 Axes>"
      ]
     },
     "metadata": {
      "needs_background": "light"
     },
     "output_type": "display_data"
    },
    {
     "name": "stdout",
     "output_type": "stream",
     "text": [
      "area under Gaussian NB curve 0.9811906756002232\n"
     ]
    }
   ],
   "source": [
    "plt.figure(figsize=(12,9))\n",
    "plt.plot([0, 1], [0, 1], color='navy', lw=1, linestyle='--')\n",
    "plt.xlim([0.0, 1.0])\n",
    "plt.ylim([0.0, 1.05])\n",
    "plt.xlabel('False Positive Rate', fontsize=18)\n",
    "plt.ylabel('True Positive Rate', fontsize=18)\n",
    "plt.title('ROC Curve', fontsize=23)\n",
    "\n",
    "plt.plot(fpr_NB, tpr_NB, 'r', label='Naive Bayes')\n",
    "\n",
    "plt.legend()\n",
    "plt.title('Naive Bayes')\n",
    "plt.xlabel('false postive rate')\n",
    "plt.ylabel('true positive rate')\n",
    "plt.show()\n",
    "\n",
    "# area under the curve:\n",
    "roc_auc_NB = auc(fpr_NB,tpr_NB)\n",
    "print(\"area under Gaussian NB curve\", roc_auc_NB)"
   ]
  }
 ],
 "metadata": {
  "kernelspec": {
   "display_name": "Python 3",
   "language": "python",
   "name": "python3"
  },
  "language_info": {
   "codemirror_mode": {
    "name": "ipython",
    "version": 3
   },
   "file_extension": ".py",
   "mimetype": "text/x-python",
   "name": "python",
   "nbconvert_exporter": "python",
   "pygments_lexer": "ipython3",
   "version": "3.8.8"
  }
 },
 "nbformat": 4,
 "nbformat_minor": 5
}
