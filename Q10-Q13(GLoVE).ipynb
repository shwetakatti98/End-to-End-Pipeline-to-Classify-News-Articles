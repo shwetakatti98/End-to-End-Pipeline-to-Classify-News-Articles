{
 "cells": [
  {
   "cell_type": "code",
   "execution_count": 1,
   "id": "6ce9339f",
   "metadata": {},
   "outputs": [],
   "source": [
    "import pandas as pd\n",
    "import numpy as np\n",
    "import matplotlib.pyplot as plt\n",
    "import nltk\n",
    "import pickle\n",
    "from collections import Counter, defaultdict\n",
    "from nltk.corpus import stopwords\n",
    "from nltk.stem import WordNetLemmatizer\n",
    "from nltk import pos_tag, word_tokenize\n",
    "\n",
    "from sklearn.metrics import confusion_matrix\n",
    "from sklearn.metrics import accuracy_score\n",
    "from sklearn.metrics import recall_score # recall scorer\n",
    "from sklearn.metrics import precision_score # precision scorer\n",
    "from sklearn.metrics import roc_curve # ROC curve\n",
    "from sklearn.metrics import f1_score # f1\n",
    "\n",
    "from sklearn import *\n",
    "from sklearn.svm import SVC, LinearSVC\n",
    "import itertools\n",
    "\n",
    "import os\n",
    "import gensim\n",
    "from gensim.scripts.glove2word2vec import glove2word2vec \n",
    "from gensim.models import KeyedVectors\n",
    "from scipy import spatial\n",
    "\n",
    "from sklearn.model_selection import GridSearchCV\n",
    "from sklearn.pipeline import Pipeline\n",
    "from sklearn.svm import SVC, LinearSVC\n",
    "from sklearn.linear_model import LogisticRegression\n",
    "from sklearn.naive_bayes import GaussianNB\n",
    "from sklearn.decomposition import TruncatedSVD, NMF\n",
    "\n",
    "import umap\n",
    "import umap.plot\n",
    "\n",
    "# used to cache results\n",
    "from tempfile import mkdtemp\n",
    "from shutil import rmtree\n",
    "import joblib\n",
    "from joblib import Memory"
   ]
  },
  {
   "cell_type": "code",
   "execution_count": 2,
   "id": "02c48717",
   "metadata": {},
   "outputs": [],
   "source": [
    "embeddings_dict = {}\n",
    "dimension_of_glove = 300\n",
    "with open(\"glove/glove.6B.300d.txt\", 'r') as f:\n",
    "\n",
    "    for line in f:\n",
    "        values = line.split()\n",
    "        word = values[0]\n",
    "        vector = np.asarray(values[1:], \"float32\")\n",
    "        embeddings_dict[word] = vector"
   ]
  },
  {
   "cell_type": "code",
   "execution_count": 3,
   "id": "f41da173",
   "metadata": {},
   "outputs": [
    {
     "name": "stdout",
     "output_type": "stream",
     "text": [
      "6.165036\n",
      "5.966258\n",
      "3.1520464\n"
     ]
    }
   ],
   "source": [
    "print(np.linalg.norm(embeddings_dict['queen']-embeddings_dict['king']-embeddings_dict['wife']+embeddings_dict['husband']))\n",
    "print(np.linalg.norm(embeddings_dict['queen']-embeddings_dict['king']))\n",
    "print(np.linalg.norm(embeddings_dict['wife']-embeddings_dict['husband']))"
   ]
  },
  {
   "cell_type": "code",
   "execution_count": 4,
   "id": "b39773cc",
   "metadata": {},
   "outputs": [
    {
     "name": "stderr",
     "output_type": "stream",
     "text": [
      "<ipython-input-4-c08446cc6b8f>:6: DeprecationWarning: Call to deprecated `glove2word2vec` (KeyedVectors.load_word2vec_format(.., binary=False, no_header=True) loads GLoVE text vectors.).\n",
      "  glove2word2vec(glove_path, word2vec_output_file)\n"
     ]
    }
   ],
   "source": [
    "root_folder='.'\n",
    "glove_folder_name='glove'\n",
    "glove_filename='glove.6B.300d.txt'\n",
    "glove_path = os.path.abspath(os.path.join(root_folder, glove_folder_name, glove_filename))\n",
    "word2vec_output_file = glove_filename+'.word2vec'\n",
    "glove2word2vec(glove_path, word2vec_output_file)\n",
    "model = KeyedVectors.load_word2vec_format(word2vec_output_file, binary=False)"
   ]
  },
  {
   "cell_type": "code",
   "execution_count": 5,
   "id": "445a6390",
   "metadata": {},
   "outputs": [
    {
     "name": "stdout",
     "output_type": "stream",
     "text": [
      "king is similar to queen: 0.6336\n",
      "wife is similar to husband: 0.8646\n"
     ]
    }
   ],
   "source": [
    "result = model.similar_by_word(\"king\")\n",
    "print(\"king is similar to {}: {:.4f}\".format(*result[0]))\n",
    "result = model.similar_by_word(\"wife\")\n",
    "print(\"wife is similar to {}: {:.4f}\".format(*result[0]))"
   ]
  },
  {
   "cell_type": "code",
   "execution_count": 6,
   "id": "982f18b2",
   "metadata": {},
   "outputs": [
    {
     "name": "stdout",
     "output_type": "stream",
     "text": [
      "['husband', 'wife', 'mother', 'daughter', 'grandmother']\n"
     ]
    }
   ],
   "source": [
    "def find_closest_embeddings(embedding):\n",
    "    return sorted(embeddings_dict.keys(), key=lambda word: spatial.distance.euclidean(embeddings_dict[word], embedding))\n",
    "\n",
    "print(find_closest_embeddings(embeddings_dict[\"queen\"] - embeddings_dict[\"king\"] + embeddings_dict[\"husband\"])[:5])"
   ]
  },
  {
   "cell_type": "code",
   "execution_count": 7,
   "id": "216738d9",
   "metadata": {},
   "outputs": [
    {
     "name": "stdout",
     "output_type": "stream",
     "text": [
      "Number of data points :  2072\n",
      "Number of features :  9\n"
     ]
    },
    {
     "data": {
      "text/html": [
       "<div>\n",
       "<style scoped>\n",
       "    .dataframe tbody tr th:only-of-type {\n",
       "        vertical-align: middle;\n",
       "    }\n",
       "\n",
       "    .dataframe tbody tr th {\n",
       "        vertical-align: top;\n",
       "    }\n",
       "\n",
       "    .dataframe thead th {\n",
       "        text-align: right;\n",
       "    }\n",
       "</style>\n",
       "<table border=\"1\" class=\"dataframe\">\n",
       "  <thead>\n",
       "    <tr style=\"text-align: right;\">\n",
       "      <th></th>\n",
       "      <th>Unnamed: 0</th>\n",
       "      <th>full_text</th>\n",
       "      <th>summary</th>\n",
       "      <th>keywords</th>\n",
       "      <th>publish_date</th>\n",
       "      <th>authors</th>\n",
       "      <th>url</th>\n",
       "      <th>leaf_label</th>\n",
       "      <th>root_label</th>\n",
       "    </tr>\n",
       "  </thead>\n",
       "  <tbody>\n",
       "    <tr>\n",
       "      <th>0</th>\n",
       "      <td>590</td>\n",
       "      <td>Having made a massive impact in Saudi Arabia w...</td>\n",
       "      <td>Having made a massive impact in Saudi Arabia w...</td>\n",
       "      <td>['singhs', 'rooting', 'cool', 'saudi', 'style'...</td>\n",
       "      <td>NaN</td>\n",
       "      <td>[]</td>\n",
       "      <td>https://www.msn.com/en-in/entertainment/other/...</td>\n",
       "      <td>cricket</td>\n",
       "      <td>sports</td>\n",
       "    </tr>\n",
       "    <tr>\n",
       "      <th>1</th>\n",
       "      <td>388</td>\n",
       "      <td>Cricket is all about the emotional rollercoast...</td>\n",
       "      <td>No matter which team fans hope to win, every s...</td>\n",
       "      <td>['wants', 'fans', 'finals', 'cup', 'win', 'tou...</td>\n",
       "      <td>NaN</td>\n",
       "      <td>[]</td>\n",
       "      <td>https://www.prnewswire.com:443/news-releases/c...</td>\n",
       "      <td>cricket</td>\n",
       "      <td>sports</td>\n",
       "    </tr>\n",
       "    <tr>\n",
       "      <th>2</th>\n",
       "      <td>423</td>\n",
       "      <td>New Zealand announces back-to-back tours next ...</td>\n",
       "      <td>New Zealand announces back-to-back tours next ...</td>\n",
       "      <td>['test', 'west', 'tour', 'zealand', 'world', '...</td>\n",
       "      <td>2021-12-20 00:00:00</td>\n",
       "      <td>[]</td>\n",
       "      <td>https://www.aljazeera.com/news/2021/12/20/cric...</td>\n",
       "      <td>cricket</td>\n",
       "      <td>sports</td>\n",
       "    </tr>\n",
       "    <tr>\n",
       "      <th>3</th>\n",
       "      <td>563</td>\n",
       "      <td>It's not the first time cricket fans in the co...</td>\n",
       "      <td>Billed as one of the pre-tournament favourites...</td>\n",
       "      <td>['qualify', 'afghanistan', 'cup', 'world', 'ze...</td>\n",
       "      <td>NaN</td>\n",
       "      <td>[]</td>\n",
       "      <td>https://www.msn.com/en-in/news/other/t20-world...</td>\n",
       "      <td>cricket</td>\n",
       "      <td>sports</td>\n",
       "    </tr>\n",
       "    <tr>\n",
       "      <th>4</th>\n",
       "      <td>634</td>\n",
       "      <td>An employee works on a computer terminal again...</td>\n",
       "      <td>REUTERS/Sivaram VBENGALURU, Oct 11 (Reuters Br...</td>\n",
       "      <td>['success', 'tech', 'startup', 'talent', 'onli...</td>\n",
       "      <td>2021-10-11 00:00:00</td>\n",
       "      <td>['Una Galani']</td>\n",
       "      <td>https://www.reuters.com/breakingviews/india-in...</td>\n",
       "      <td>cricket</td>\n",
       "      <td>sports</td>\n",
       "    </tr>\n",
       "  </tbody>\n",
       "</table>\n",
       "</div>"
      ],
      "text/plain": [
       "   Unnamed: 0                                          full_text  \\\n",
       "0         590  Having made a massive impact in Saudi Arabia w...   \n",
       "1         388  Cricket is all about the emotional rollercoast...   \n",
       "2         423  New Zealand announces back-to-back tours next ...   \n",
       "3         563  It's not the first time cricket fans in the co...   \n",
       "4         634  An employee works on a computer terminal again...   \n",
       "\n",
       "                                             summary  \\\n",
       "0  Having made a massive impact in Saudi Arabia w...   \n",
       "1  No matter which team fans hope to win, every s...   \n",
       "2  New Zealand announces back-to-back tours next ...   \n",
       "3  Billed as one of the pre-tournament favourites...   \n",
       "4  REUTERS/Sivaram VBENGALURU, Oct 11 (Reuters Br...   \n",
       "\n",
       "                                            keywords         publish_date  \\\n",
       "0  ['singhs', 'rooting', 'cool', 'saudi', 'style'...                  NaN   \n",
       "1  ['wants', 'fans', 'finals', 'cup', 'win', 'tou...                  NaN   \n",
       "2  ['test', 'west', 'tour', 'zealand', 'world', '...  2021-12-20 00:00:00   \n",
       "3  ['qualify', 'afghanistan', 'cup', 'world', 'ze...                  NaN   \n",
       "4  ['success', 'tech', 'startup', 'talent', 'onli...  2021-10-11 00:00:00   \n",
       "\n",
       "          authors                                                url  \\\n",
       "0              []  https://www.msn.com/en-in/entertainment/other/...   \n",
       "1              []  https://www.prnewswire.com:443/news-releases/c...   \n",
       "2              []  https://www.aljazeera.com/news/2021/12/20/cric...   \n",
       "3              []  https://www.msn.com/en-in/news/other/t20-world...   \n",
       "4  ['Una Galani']  https://www.reuters.com/breakingviews/india-in...   \n",
       "\n",
       "  leaf_label root_label  \n",
       "0    cricket     sports  \n",
       "1    cricket     sports  \n",
       "2    cricket     sports  \n",
       "3    cricket     sports  \n",
       "4    cricket     sports  "
      ]
     },
     "execution_count": 7,
     "metadata": {},
     "output_type": "execute_result"
    }
   ],
   "source": [
    "df = pd.read_csv(\"dataset.csv\")\n",
    "print('Number of data points : ', df.shape[0])\n",
    "print('Number of features : ', df.shape[1])\n",
    "df.head()"
   ]
  },
  {
   "cell_type": "code",
   "execution_count": 8,
   "id": "09839a11",
   "metadata": {},
   "outputs": [],
   "source": [
    "from sklearn.model_selection import train_test_split\n",
    "train, test = train_test_split(df[[\"full_text\",\"root_label\"]], test_size=0.2)"
   ]
  },
  {
   "cell_type": "code",
   "execution_count": 9,
   "id": "2d599663",
   "metadata": {},
   "outputs": [
    {
     "name": "stdout",
     "output_type": "stream",
     "text": [
      "Number of data points in train data: 1657\n",
      "Number of data points in test data: 415\n"
     ]
    }
   ],
   "source": [
    "print('Number of data points in train data:', train.shape[0])\n",
    "print('Number of data points in test data:', test.shape[0])"
   ]
  },
  {
   "cell_type": "markdown",
   "id": "e10127a1",
   "metadata": {},
   "source": [
    "### Cleaning"
   ]
  },
  {
   "cell_type": "code",
   "execution_count": 10,
   "id": "5692c627",
   "metadata": {},
   "outputs": [],
   "source": [
    "import re\n",
    "def clean(text):\n",
    "    text = re.sub(r\"http\\S+\", '', text, flags=re.MULTILINE)\n",
    "    texter = re.sub(r\"<br />\", \" \", text)\n",
    "    texter = re.sub(r\"&quot;\", \"\\\"\",texter)\n",
    "    texter = re.sub('&#39;', \"\\\"\", texter)\n",
    "    texter = re.sub('\\n', \" \", texter)\n",
    "    texter = re.sub(' u ',\" you \", texter)\n",
    "    texter = re.sub('`',\"\", texter)\n",
    "    texter = re.sub(' +', ' ', texter)\n",
    "    texter = re.sub(r\"(!)\\1+\", r\"!\", texter)\n",
    "    texter = re.sub(r\"(\\?)\\1+\", r\"?\", texter)\n",
    "    texter = re.sub('&amp;', 'and', texter)\n",
    "    texter = re.sub('\\r', ' ',texter)\n",
    "    texter = re.sub(r\"[0-9]\",\"\", texter)\n",
    "    texter = re.sub('[^a-zA-Z0-9\\n]', ' ', texter)\n",
    "    texter = re.sub('\\s+',' ', texter)\n",
    "    texter = texter.lower()\n",
    "    clean = re.compile('<.*?>')\n",
    "    texter = texter.encode('ascii', 'ignore').decode('ascii')\n",
    "    texter = re.sub(clean, '', texter)\n",
    "    if texter == \"\":\n",
    "        texter = \"\"\n",
    "    return texter"
   ]
  },
  {
   "cell_type": "code",
   "execution_count": 11,
   "id": "35442871",
   "metadata": {},
   "outputs": [],
   "source": [
    "X_train = train['full_text'].apply(clean)"
   ]
  },
  {
   "cell_type": "code",
   "execution_count": 12,
   "id": "d48af04a",
   "metadata": {},
   "outputs": [],
   "source": [
    "X_test = test['full_text'].apply(clean)"
   ]
  },
  {
   "cell_type": "code",
   "execution_count": 13,
   "id": "30c718d1",
   "metadata": {},
   "outputs": [
    {
     "data": {
      "text/plain": [
       "1073    tell us are you a wildfire victim having a pro...\n",
       "1656    here s why the f tremor is only available with...\n",
       "261     texas finally halted its losing streak at six ...\n",
       "450     cedar city utah ap beau kelly set up the game ...\n",
       "522     the old military maxim of hurry up and wait ma...\n",
       "Name: full_text, dtype: object"
      ]
     },
     "execution_count": 13,
     "metadata": {},
     "output_type": "execute_result"
    }
   ],
   "source": [
    "X_train.head()"
   ]
  },
  {
   "cell_type": "code",
   "execution_count": 14,
   "id": "4b683bec",
   "metadata": {},
   "outputs": [
    {
     "data": {
      "text/plain": [
       "481     the sun belt conference championship game will...\n",
       "1267    governor greg abbott today directed the texas ...\n",
       "1748    many of us remember the magnitude central virg...\n",
       "837     comedian dave chappelle said monday he d be wi...\n",
       "1956    credit pixabay cc public domain drought can ca...\n",
       "Name: full_text, dtype: object"
      ]
     },
     "execution_count": 14,
     "metadata": {},
     "output_type": "execute_result"
    }
   ],
   "source": [
    "X_test.head()"
   ]
  },
  {
   "cell_type": "code",
   "execution_count": 15,
   "id": "8bcb312b",
   "metadata": {},
   "outputs": [
    {
     "name": "stdout",
     "output_type": "stream",
     "text": [
      "Training Set\n",
      "\n",
      "Original train_dataset:\n",
      "1073    climate\n",
      "1656    climate\n",
      "261      sports\n",
      "450      sports\n",
      "522      sports\n",
      "1711    climate\n",
      "1630    climate\n",
      "282      sports\n",
      "1002     sports\n",
      "1297    climate\n",
      "1917    climate\n",
      "985      sports\n",
      "2062    climate\n",
      "1252    climate\n",
      "1651    climate\n",
      "338      sports\n",
      "1358    climate\n",
      "1381    climate\n",
      "306      sports\n",
      "453      sports\n",
      "Name: root_label, dtype: object\n",
      "\n",
      "Binarized train_dataset:\n",
      "1073    1\n",
      "1656    1\n",
      "261     0\n",
      "450     0\n",
      "522     0\n",
      "1711    1\n",
      "1630    1\n",
      "282     0\n",
      "1002    0\n",
      "1297    1\n",
      "1917    1\n",
      "985     0\n",
      "2062    1\n",
      "1252    1\n",
      "1651    1\n",
      "338     0\n",
      "1358    1\n",
      "1381    1\n",
      "306     0\n",
      "453     0\n",
      "Name: root_label, dtype: object\n",
      "\n",
      "Test Set\n",
      "\n",
      "Original test_dataset:\n",
      "481      sports\n",
      "1267    climate\n",
      "1748    climate\n",
      "837      sports\n",
      "1956    climate\n",
      "825      sports\n",
      "508      sports\n",
      "399      sports\n",
      "1566    climate\n",
      "134      sports\n",
      "1972    climate\n",
      "2057    climate\n",
      "674      sports\n",
      "1399    climate\n",
      "290      sports\n",
      "291      sports\n",
      "855      sports\n",
      "746      sports\n",
      "743      sports\n",
      "2071    climate\n",
      "Name: root_label, dtype: object\n",
      "\n",
      "Binarized test_dataset:\n",
      "481     0\n",
      "1267    1\n",
      "1748    1\n",
      "837     0\n",
      "1956    1\n",
      "825     0\n",
      "508     0\n",
      "399     0\n",
      "1566    1\n",
      "134     0\n",
      "1972    1\n",
      "2057    1\n",
      "674     0\n",
      "1399    1\n",
      "290     0\n",
      "291     0\n",
      "855     0\n",
      "746     0\n",
      "743     0\n",
      "2071    1\n",
      "Name: root_label, dtype: object\n"
     ]
    }
   ],
   "source": [
    "y_train_encoded = train[\"root_label\"].copy()\n",
    "y_test_encoded = test[\"root_label\"].copy()\n",
    "\n",
    "y_train_encoded[y_train_encoded == 'sports'] = 0\n",
    "y_test_encoded[y_test_encoded == 'sports'] = 0\n",
    "\n",
    "\n",
    "y_train_encoded[y_train_encoded== 'climate'] = 1\n",
    "y_test_encoded[y_test_encoded == 'climate'] = 1\n",
    "\n",
    "print(\"Training Set\\n\")\n",
    "print(\"Original train_dataset:\\n\" + str(train[\"root_label\"][0:20]))\n",
    "print(\"\\nBinarized train_dataset:\\n\" + str(y_train_encoded[0:20]))\n",
    "print(\"\\nTest Set\\n\")\n",
    "print(\"Original test_dataset:\\n\" + str(test[\"root_label\"][0:20]))\n",
    "print(\"\\nBinarized test_dataset:\\n\" + str(y_test_encoded[0:20]))"
   ]
  },
  {
   "cell_type": "code",
   "execution_count": 16,
   "id": "51e0a2fb",
   "metadata": {},
   "outputs": [],
   "source": [
    "class Word2VecVectorizer:\n",
    "    def __init__(self, model):\n",
    "        print(\"Loading in word vectors...\")\n",
    "        self.word_vectors = model\n",
    "        print(\"Finished loading in word vectors\")\n",
    "    \n",
    "    def fit(self, data):\n",
    "        pass\n",
    "    \n",
    "    def transform(self, data):\n",
    "        v = self.word_vectors.get_vector('king')\n",
    "        self.D = v.shape[0]\n",
    "\n",
    "        X = np.zeros((len(data), self.D))\n",
    "        n = 0\n",
    "        emptycount = 0\n",
    "        for sentence in data:\n",
    "            tokens = sentence.split()\n",
    "            vecs = []\n",
    "            m = 0\n",
    "            for word in tokens:\n",
    "                try:\n",
    "                    vec = self.word_vectors.get_vector(word)\n",
    "                    vecs.append(vec)\n",
    "                    m += 1\n",
    "                except KeyError:\n",
    "                    pass\n",
    "            if len(vecs) > 0:\n",
    "                vecs = np.array(vecs)\n",
    "                X[n] = vecs.mean(axis=0)\n",
    "            else:\n",
    "                emptycount += 1\n",
    "            n += 1\n",
    "        print(\"Number of samples with no words found: %s / %s\" % (emptycount, len(data)))\n",
    "        return X\n",
    "\n",
    "    def fit_transform(self, data):\n",
    "        self.fit(data)\n",
    "        return self.transform(data)"
   ]
  },
  {
   "cell_type": "code",
   "execution_count": 17,
   "id": "c579234f",
   "metadata": {},
   "outputs": [
    {
     "name": "stdout",
     "output_type": "stream",
     "text": [
      "Loading in word vectors...\n",
      "Finished loading in word vectors\n"
     ]
    }
   ],
   "source": [
    "vectorizer = Word2VecVectorizer(model)"
   ]
  },
  {
   "cell_type": "code",
   "execution_count": 18,
   "id": "c002db52",
   "metadata": {},
   "outputs": [
    {
     "name": "stdout",
     "output_type": "stream",
     "text": [
      "Number of samples with no words found: 0 / 1657\n",
      "Number of samples with no words found: 0 / 415\n",
      "(1657, 300) (415, 300)\n"
     ]
    }
   ],
   "source": [
    "X_train_fit = vectorizer.fit_transform(X_train)\n",
    "y_train = y_train_encoded.astype(str).astype(int)\n",
    "X_test_fit = vectorizer.transform(X_test)\n",
    "y_test = y_test_encoded.astype(str).astype(int)\n",
    "print(X_train_fit.shape,X_test_fit.shape)"
   ]
  },
  {
   "cell_type": "code",
   "execution_count": 19,
   "id": "09b0cf5e",
   "metadata": {},
   "outputs": [],
   "source": [
    "clf_cv_Glove = svm.SVC(random_state=42)\n",
    "param_grid = {'C': [0.001,0.01,0.1,1,10,100,200,400,600,800,1000],  \n",
    "              'kernel': ['linear']}\n",
    "Glove_model = GridSearchCV(clf_cv_Glove,param_grid,cv=5,scoring='accuracy',n_jobs=-1).fit(X_train_fit, y_train)\n",
    "y_pred_glove = Glove_model.best_estimator_.predict(X_test_fit)"
   ]
  },
  {
   "cell_type": "code",
   "execution_count": 20,
   "id": "0e866382",
   "metadata": {},
   "outputs": [
    {
     "name": "stdout",
     "output_type": "stream",
     "text": [
      "SVC(C=10, kernel='linear', random_state=42)\n"
     ]
    }
   ],
   "source": [
    "print(Glove_model.best_estimator_)"
   ]
  },
  {
   "cell_type": "code",
   "execution_count": 21,
   "id": "3cf72fc2",
   "metadata": {},
   "outputs": [
    {
     "name": "stdout",
     "output_type": "stream",
     "text": [
      "Accuracy (Best GLoVE classifier): 0.9614457831325302\n",
      "Recall (Best GLoVE classifier): 0.9669811320754716\n",
      "Precision (Best GLoVE classifier): 0.9579439252336449\n",
      "F1-Score (Best GLoVE classifier): 0.9624413145539905\n"
     ]
    }
   ],
   "source": [
    "print(\"Accuracy (Best GLoVE classifier):\", accuracy_score(y_test,y_pred_glove))\n",
    "print(\"Recall (Best GLoVE classifier):\", recall_score(y_test,y_pred_glove))\n",
    "print(\"Precision (Best GLoVE classifier):\", precision_score(y_test,y_pred_glove))\n",
    "print(\"F1-Score (Best GLoVE classifier):\", f1_score(y_test,y_pred_glove))"
   ]
  },
  {
   "cell_type": "code",
   "execution_count": 22,
   "id": "35a24ce5",
   "metadata": {},
   "outputs": [
    {
     "name": "stdout",
     "output_type": "stream",
     "text": [
      "Training for:  glove.6B.50d.txt\n"
     ]
    },
    {
     "name": "stderr",
     "output_type": "stream",
     "text": [
      "<ipython-input-22-ac52878dca75>:8: DeprecationWarning: Call to deprecated `glove2word2vec` (KeyedVectors.load_word2vec_format(.., binary=False, no_header=True) loads GLoVE text vectors.).\n",
      "  glove2word2vec(glove_path, word2vec_output_file)\n"
     ]
    },
    {
     "name": "stdout",
     "output_type": "stream",
     "text": [
      "Loading in word vectors...\n",
      "Finished loading in word vectors\n",
      "Number of samples with no words found: 0 / 1657\n",
      "Number of samples with no words found: 0 / 415\n",
      "Training for:  glove.6B.100d.txt\n"
     ]
    },
    {
     "name": "stderr",
     "output_type": "stream",
     "text": [
      "<ipython-input-22-ac52878dca75>:8: DeprecationWarning: Call to deprecated `glove2word2vec` (KeyedVectors.load_word2vec_format(.., binary=False, no_header=True) loads GLoVE text vectors.).\n",
      "  glove2word2vec(glove_path, word2vec_output_file)\n"
     ]
    },
    {
     "name": "stdout",
     "output_type": "stream",
     "text": [
      "Loading in word vectors...\n",
      "Finished loading in word vectors\n",
      "Number of samples with no words found: 0 / 1657\n",
      "Number of samples with no words found: 0 / 415\n",
      "Training for:  glove.6B.200d.txt\n"
     ]
    },
    {
     "name": "stderr",
     "output_type": "stream",
     "text": [
      "<ipython-input-22-ac52878dca75>:8: DeprecationWarning: Call to deprecated `glove2word2vec` (KeyedVectors.load_word2vec_format(.., binary=False, no_header=True) loads GLoVE text vectors.).\n",
      "  glove2word2vec(glove_path, word2vec_output_file)\n"
     ]
    },
    {
     "name": "stdout",
     "output_type": "stream",
     "text": [
      "Loading in word vectors...\n",
      "Finished loading in word vectors\n",
      "Number of samples with no words found: 0 / 1657\n",
      "Number of samples with no words found: 0 / 415\n",
      "Training for:  glove.6B.300d.txt\n"
     ]
    },
    {
     "name": "stderr",
     "output_type": "stream",
     "text": [
      "<ipython-input-22-ac52878dca75>:8: DeprecationWarning: Call to deprecated `glove2word2vec` (KeyedVectors.load_word2vec_format(.., binary=False, no_header=True) loads GLoVE text vectors.).\n",
      "  glove2word2vec(glove_path, word2vec_output_file)\n"
     ]
    },
    {
     "name": "stdout",
     "output_type": "stream",
     "text": [
      "Loading in word vectors...\n",
      "Finished loading in word vectors\n",
      "Number of samples with no words found: 0 / 1657\n",
      "Number of samples with no words found: 0 / 415\n"
     ]
    }
   ],
   "source": [
    "filenames_glove = ['glove.6B.50d.txt','glove.6B.100d.txt','glove.6B.200d.txt','glove.6B.300d.txt']\n",
    "accu_list_glove = []\n",
    "for filename in filenames_glove:\n",
    "    print('Training for: ', filename)\n",
    "    glove_filename=filename\n",
    "    glove_path = os.path.abspath(os.path.join(root_folder, glove_folder_name, glove_filename))\n",
    "    word2vec_output_file = glove_filename+'.word2vec'\n",
    "    glove2word2vec(glove_path, word2vec_output_file)\n",
    "    model = KeyedVectors.load_word2vec_format(word2vec_output_file, binary=False)\n",
    "    vectorizer = Word2VecVectorizer(model)\n",
    "    X_train_fit = vectorizer.fit_transform(X_train)\n",
    "    y_train = y_train_encoded.astype(str).astype(int)\n",
    "    X_test_fit = vectorizer.transform(X_test)\n",
    "    y_test = y_test_encoded.astype(str).astype(int)\n",
    "    clf_cur = svm.SVC(kernel='linear',C=1,random_state=42)\n",
    "    pred_cur = clf_cur.fit(X_train_fit, y_train).predict(X_test_fit)\n",
    "    accu_list_glove.append(accuracy_score(y_test,pred_cur))  "
   ]
  },
  {
   "cell_type": "code",
   "execution_count": 24,
   "id": "2c2291a2",
   "metadata": {},
   "outputs": [
    {
     "data": {
      "image/png": "[encoded data removed]",
      "text/plain": [
       "<Figure size 432x288 with 1 Axes>"
      ]
     },
     "metadata": {
      "needs_background": "light"
     },
     "output_type": "display_data"
    }
   ],
   "source": [
    "dim_list = [50,100,200,300]\n",
    "plt.plot(dim_list,accu_list_glove)\n",
    "plt.title('Accuracy vs. Dimension of GLoVE for Linear SVM (Gamma = 1)')\n",
    "plt.xlabel('Dimension of pre-trained GLoVE embedding')\n",
    "plt.ylabel('Test accuracy')\n",
    "plt.show()"
   ]
  },
  {
   "cell_type": "code",
   "execution_count": 25,
   "id": "cae7857c",
   "metadata": {},
   "outputs": [
    {
     "name": "stdout",
     "output_type": "stream",
     "text": [
      "(1657, 2)\n"
     ]
    }
   ],
   "source": [
    "reduced_dim_embedding = umap.UMAP(n_components=2, metric='euclidean').fit(X_train_fit)\n",
    "print(reduced_dim_embedding.embedding_.shape)"
   ]
  },
  {
   "cell_type": "code",
   "execution_count": 26,
   "id": "001301a4",
   "metadata": {},
   "outputs": [],
   "source": [
    "YtrainTextLabel = []\n",
    "for label in y_train:\n",
    "    if(label==0):\n",
    "        YtrainTextLabel.append('Sports')\n",
    "    else:\n",
    "        YtrainTextLabel.append('Climate')\n",
    "\n",
    "s = np.random.normal(0, 1, [4732,300])\n",
    "s = s / np.linalg.norm(s)\n",
    "reduced_dim_s = umap.UMAP(n_components=2, metric='cosine').fit(s)"
   ]
  },
  {
   "cell_type": "code",
   "execution_count": 27,
   "id": "29ca15bb",
   "metadata": {},
   "outputs": [
    {
     "name": "stderr",
     "output_type": "stream",
     "text": [
      "*c* argument looks like a single numeric RGB or RGBA sequence, which should be avoided as value-mapping will have precedence in case its length matches with *x* & *y*.  Please use the *color* keyword-argument or provide a 2-D array with a single row if you intend to specify the same RGB or RGBA value for all points.\n"
     ]
    },
    {
     "data": {
      "image/png": "[encoded data removed]",
      "text/plain": [
       "<Figure size 800x800 with 1 Axes>"
      ]
     },
     "metadata": {},
     "output_type": "display_data"
    },
    {
     "data": {
      "image/png": "[encoded data removed]",
      "text/plain": [
       "<Figure size 800x800 with 1 Axes>"
      ]
     },
     "metadata": {},
     "output_type": "display_data"
    }
   ],
   "source": [
    "f = umap.plot.points(c, labels=np.array(YtrainTextLabel))\n",
    "plt.title('2D plot for GLoVE features (n = 300) for 2 classes of the training set')\n",
    "\n",
    "g = umap.plot.points(reduced_dim_s)\n",
    "plt.title('2D plot normalized random vectors')\n",
    "plt.show()"
   ]
  }
 ],
 "metadata": {
  "kernelspec": {
   "display_name": "Python 3",
   "language": "python",
   "name": "python3"
  },
  "language_info": {
   "codemirror_mode": {
    "name": "ipython",
    "version": 3
   },
   "file_extension": ".py",
   "mimetype": "text/x-python",
   "name": "python",
   "nbconvert_exporter": "python",
   "pygments_lexer": "ipython3",
   "version": "3.8.8"
  }
 },
 "nbformat": 4,
 "nbformat_minor": 5
}
